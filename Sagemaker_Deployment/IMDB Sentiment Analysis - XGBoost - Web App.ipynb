{
 "cells": [
  {
   "cell_type": "markdown",
   "metadata": {},
   "source": [
    "# Sentiment Analysis Web App\n",
    "\n",
    "_Deep Learning Nanodegree Program | Deployment_\n",
    "\n",
    "---\n",
    "\n",
    "In this notebook we will use Amazon's SageMaker service to construct a random tree model to predict the sentiment of a movie review. In addition, we will deploy this model to an endpoint and construct a very simple web app which will interact with our model's deployed endpoint.\n",
    "\n",
    "## General Outline\n",
    "\n",
    "Typically, when using a notebook instance with SageMaker, you will proceed through the following steps. Of course, not every step will need to be done with each project. Also, there is quite a lot of room for variation in many of the steps, as you will see throughout these lessons.\n",
    "\n",
    "1. Download or otherwise retrieve the data.\n",
    "2. Process / Prepare the data.\n",
    "3. Upload the processed data to S3.\n",
    "4. Train a chosen model.\n",
    "5. Test the trained model (typically using a batch transform job).\n",
    "6. Deploy the trained model.\n",
    "7. Use the deployed model.\n",
    "\n",
    "In this notebook we will progress through each of the steps above. We will also see that the final step, using the deployed model, can be quite challenging."
   ]
  },
  {
   "cell_type": "markdown",
   "metadata": {},
   "source": [
    "## Step 1: Downloading the data\n",
    "\n",
    "The dataset we are going to use is very popular among researchers in Natural Language Processing, usually referred to as the [IMDb dataset](http://ai.stanford.edu/~amaas/data/sentiment/). It consists of movie reviews from the website [imdb.com](http://www.imdb.com/), each labeled as either '**pos**itive', if the reviewer enjoyed the film, or '**neg**ative' otherwise.\n",
    "\n",
    "> Maas, Andrew L., et al. [Learning Word Vectors for Sentiment Analysis](http://ai.stanford.edu/~amaas/data/sentiment/). In _Proceedings of the 49th Annual Meeting of the Association for Computational Linguistics: Human Language Technologies_. Association for Computational Linguistics, 2011.\n",
    "\n",
    "We begin by using some Jupyter Notebook magic to download and extract the dataset."
   ]
  },
  {
   "cell_type": "code",
   "execution_count": 1,
   "metadata": {},
   "outputs": [
    {
     "name": "stdout",
     "output_type": "stream",
     "text": [
      "mkdir: cannot create directory ‘../data’: File exists\n",
      "--2019-11-08 21:39:57--  http://ai.stanford.edu/~amaas/data/sentiment/aclImdb_v1.tar.gz\n",
      "Resolving ai.stanford.edu (ai.stanford.edu)... 171.64.68.10\n",
      "Connecting to ai.stanford.edu (ai.stanford.edu)|171.64.68.10|:80... connected.\n",
      "HTTP request sent, awaiting response... 200 OK\n",
      "Length: 84125825 (80M) [application/x-gzip]\n",
      "Saving to: ‘../data/aclImdb_v1.tar.gz’\n",
      "\n",
      "../data/aclImdb_v1. 100%[===================>]  80.23M  10.2MB/s    in 13s     \n",
      "\n",
      "2019-11-08 21:40:10 (6.01 MB/s) - ‘../data/aclImdb_v1.tar.gz’ saved [84125825/84125825]\n",
      "\n"
     ]
    }
   ],
   "source": [
    "%mkdir ../data\n",
    "!wget -O ../data/aclImdb_v1.tar.gz http://ai.stanford.edu/~amaas/data/sentiment/aclImdb_v1.tar.gz\n",
    "!tar -zxf ../data/aclImdb_v1.tar.gz -C ../data"
   ]
  },
  {
   "cell_type": "markdown",
   "metadata": {},
   "source": [
    "## Step 2: Preparing and Processing the data\n",
    "\n",
    "The data we have downloaded is split into various files, each of which contains a single review. It will be much easier going forward if we combine these individual files into two large files, one for training and one for testing."
   ]
  },
  {
   "cell_type": "code",
   "execution_count": 2,
   "metadata": {},
   "outputs": [],
   "source": [
    "import os\n",
    "import glob\n",
    "\n",
    "def read_imdb_data(data_dir='../data/aclImdb'):\n",
    "    data = {}\n",
    "    labels = {}\n",
    "    \n",
    "    for data_type in ['train', 'test']:\n",
    "        data[data_type] = {}\n",
    "        labels[data_type] = {}\n",
    "        \n",
    "        for sentiment in ['pos', 'neg']:\n",
    "            data[data_type][sentiment] = []\n",
    "            labels[data_type][sentiment] = []\n",
    "            \n",
    "            path = os.path.join(data_dir, data_type, sentiment, '*.txt')\n",
    "            files = glob.glob(path)\n",
    "            \n",
    "            for f in files:\n",
    "                with open(f) as review:\n",
    "                    data[data_type][sentiment].append(review.read())\n",
    "                    # Here we represent a positive review by '1' and a negative review by '0'\n",
    "                    labels[data_type][sentiment].append(1 if sentiment == 'pos' else 0)\n",
    "                    \n",
    "            assert len(data[data_type][sentiment]) == len(labels[data_type][sentiment]), \\\n",
    "                    \"{}/{} data size does not match labels size\".format(data_type, sentiment)\n",
    "                \n",
    "    return data, labels"
   ]
  },
  {
   "cell_type": "code",
   "execution_count": 3,
   "metadata": {},
   "outputs": [
    {
     "name": "stdout",
     "output_type": "stream",
     "text": [
      "IMDB reviews: train = 12500 pos / 12500 neg, test = 12500 pos / 12500 neg\n"
     ]
    }
   ],
   "source": [
    "data, labels = read_imdb_data()\n",
    "print(\"IMDB reviews: train = {} pos / {} neg, test = {} pos / {} neg\".format(\n",
    "            len(data['train']['pos']), len(data['train']['neg']),\n",
    "            len(data['test']['pos']), len(data['test']['neg'])))"
   ]
  },
  {
   "cell_type": "code",
   "execution_count": 4,
   "metadata": {},
   "outputs": [],
   "source": [
    "from sklearn.utils import shuffle\n",
    "\n",
    "def prepare_imdb_data(data, labels):\n",
    "    \"\"\"Prepare training and test sets from IMDb movie reviews.\"\"\"\n",
    "    \n",
    "    #Combine positive and negative reviews and labels\n",
    "    data_train = data['train']['pos'] + data['train']['neg']\n",
    "    data_test = data['test']['pos'] + data['test']['neg']\n",
    "    labels_train = labels['train']['pos'] + labels['train']['neg']\n",
    "    labels_test = labels['test']['pos'] + labels['test']['neg']\n",
    "    \n",
    "    #Shuffle reviews and corresponding labels within training and test sets\n",
    "    data_train, labels_train = shuffle(data_train, labels_train)\n",
    "    data_test, labels_test = shuffle(data_test, labels_test)\n",
    "    \n",
    "    # Return a unified training data, test data, training labels, test labets\n",
    "    return data_train, data_test, labels_train, labels_test"
   ]
  },
  {
   "cell_type": "code",
   "execution_count": 5,
   "metadata": {},
   "outputs": [
    {
     "name": "stdout",
     "output_type": "stream",
     "text": [
      "IMDb reviews (combined): train = 25000, test = 25000\n"
     ]
    }
   ],
   "source": [
    "train_X, test_X, train_y, test_y = prepare_imdb_data(data, labels)\n",
    "print(\"IMDb reviews (combined): train = {}, test = {}\".format(len(train_X), len(test_X)))"
   ]
  },
  {
   "cell_type": "code",
   "execution_count": 6,
   "metadata": {},
   "outputs": [
    {
     "data": {
      "text/plain": [
       "\"The book is so good that at least the opening of this made-for-tv movie will move you, but then, as it diverges more and more from the book, taking out all the religion and love and mathematics and putting in cotton candy cliches, it becomes boring. Still, from comments I've heard, people who have not read the book tend to like it, and if it leads even on child to read A Wrinkle in Time, it will have served its purpose. The most embarrassing change is to make the Happy Medium a clone of Mary Poppins' Uncle Albert (I love to Laugh). Nothing is quite so squirm inducing as characters on the screen laughing hilariously at things that are totally unfunny.\""
      ]
     },
     "execution_count": 6,
     "metadata": {},
     "output_type": "execute_result"
    }
   ],
   "source": [
    "train_X[100]"
   ]
  },
  {
   "cell_type": "markdown",
   "metadata": {},
   "source": [
    "## Processing the data\n",
    "\n",
    "Now that we have our training and testing datasets merged and ready to use, we need to start processing the raw data into something that will be useable by our machine learning algorithm. To begin with, we remove any html formatting and any non-alpha numeric characters that may appear in the reviews. We will do this in a very simplistic way using Python's regular expression module. We will discuss the reason for this rather simplistic pre-processing later on."
   ]
  },
  {
   "cell_type": "code",
   "execution_count": 7,
   "metadata": {},
   "outputs": [],
   "source": [
    "import re\n",
    "\n",
    "REPLACE_NO_SPACE = re.compile(\"(\\.)|(\\;)|(\\:)|(\\!)|(\\')|(\\?)|(\\,)|(\\\")|(\\()|(\\))|(\\[)|(\\])\")\n",
    "REPLACE_WITH_SPACE = re.compile(\"(<br\\s*/><br\\s*/>)|(\\-)|(\\/)\")\n",
    "\n",
    "def review_to_words(review):\n",
    "    words = REPLACE_NO_SPACE.sub(\"\", review.lower())\n",
    "    words = REPLACE_WITH_SPACE.sub(\" \", words)\n",
    "    return words"
   ]
  },
  {
   "cell_type": "code",
   "execution_count": 8,
   "metadata": {},
   "outputs": [
    {
     "data": {
      "text/plain": [
       "'the book is so good that at least the opening of this made for tv movie will move you but then as it diverges more and more from the book taking out all the religion and love and mathematics and putting in cotton candy cliches it becomes boring still from comments ive heard people who have not read the book tend to like it and if it leads even on child to read a wrinkle in time it will have served its purpose the most embarrassing change is to make the happy medium a clone of mary poppins uncle albert i love to laugh nothing is quite so squirm inducing as characters on the screen laughing hilariously at things that are totally unfunny'"
      ]
     },
     "execution_count": 8,
     "metadata": {},
     "output_type": "execute_result"
    }
   ],
   "source": [
    "review_to_words(train_X[100])"
   ]
  },
  {
   "cell_type": "code",
   "execution_count": 9,
   "metadata": {},
   "outputs": [],
   "source": [
    "import pickle\n",
    "\n",
    "cache_dir = os.path.join(\"../cache\", \"sentiment_web_app\")  # where to store cache files\n",
    "os.makedirs(cache_dir, exist_ok=True)  # ensure cache directory exists\n",
    "\n",
    "def preprocess_data(data_train, data_test, labels_train, labels_test,\n",
    "                    cache_dir=cache_dir, cache_file=\"preprocessed_data.pkl\"):\n",
    "    \"\"\"Convert each review to words; read from cache if available.\"\"\"\n",
    "\n",
    "    # If cache_file is not None, try to read from it first\n",
    "    cache_data = None\n",
    "    if cache_file is not None:\n",
    "        try:\n",
    "            with open(os.path.join(cache_dir, cache_file), \"rb\") as f:\n",
    "                cache_data = pickle.load(f)\n",
    "            print(\"Read preprocessed data from cache file:\", cache_file)\n",
    "        except:\n",
    "            pass  # unable to read from cache, but that's okay\n",
    "    \n",
    "    # If cache is missing, then do the heavy lifting\n",
    "    if cache_data is None:\n",
    "        # Preprocess training and test data to obtain words for each review\n",
    "        #words_train = list(map(review_to_words, data_train))\n",
    "        #words_test = list(map(review_to_words, data_test))\n",
    "        words_train = [review_to_words(review) for review in data_train]\n",
    "        words_test = [review_to_words(review) for review in data_test]\n",
    "        \n",
    "        # Write to cache file for future runs\n",
    "        if cache_file is not None:\n",
    "            cache_data = dict(words_train=words_train, words_test=words_test,\n",
    "                              labels_train=labels_train, labels_test=labels_test)\n",
    "            with open(os.path.join(cache_dir, cache_file), \"wb\") as f:\n",
    "                pickle.dump(cache_data, f)\n",
    "            print(\"Wrote preprocessed data to cache file:\", cache_file)\n",
    "    else:\n",
    "        # Unpack data loaded from cache file\n",
    "        words_train, words_test, labels_train, labels_test = (cache_data['words_train'],\n",
    "                cache_data['words_test'], cache_data['labels_train'], cache_data['labels_test'])\n",
    "    \n",
    "    return words_train, words_test, labels_train, labels_test"
   ]
  },
  {
   "cell_type": "code",
   "execution_count": 10,
   "metadata": {},
   "outputs": [
    {
     "name": "stdout",
     "output_type": "stream",
     "text": [
      "Wrote preprocessed data to cache file: preprocessed_data.pkl\n"
     ]
    }
   ],
   "source": [
    "# Preprocess data\n",
    "train_X, test_X, train_y, test_y = preprocess_data(train_X, test_X, train_y, test_y)"
   ]
  },
  {
   "cell_type": "markdown",
   "metadata": {},
   "source": [
    "### Extract Bag-of-Words features\n",
    "\n",
    "For the model we will be implementing, rather than using the reviews directly, we are going to transform each review into a Bag-of-Words feature representation. Keep in mind that 'in the wild' we will only have access to the training set so our transformer can only use the training set to construct a representation."
   ]
  },
  {
   "cell_type": "code",
   "execution_count": 11,
   "metadata": {},
   "outputs": [],
   "source": [
    "import numpy as np\n",
    "from sklearn.feature_extraction.text import CountVectorizer\n",
    "from sklearn.externals import joblib\n",
    "# joblib is an enhanced version of pickle that is more efficient for storing NumPy arrays\n",
    "\n",
    "def extract_BoW_features(words_train, words_test, vocabulary_size=5000,\n",
    "                         cache_dir=cache_dir, cache_file=\"bow_features.pkl\"):\n",
    "    \"\"\"Extract Bag-of-Words for a given set of documents, already preprocessed into words.\"\"\"\n",
    "    \n",
    "    # If cache_file is not None, try to read from it first\n",
    "    cache_data = None\n",
    "    if cache_file is not None:\n",
    "        try:\n",
    "            with open(os.path.join(cache_dir, cache_file), \"rb\") as f:\n",
    "                cache_data = joblib.load(f)\n",
    "            print(\"Read features from cache file:\", cache_file)\n",
    "        except:\n",
    "            pass  # unable to read from cache, but that's okay\n",
    "    \n",
    "    # If cache is missing, then do the heavy lifting\n",
    "    if cache_data is None:\n",
    "        # Fit a vectorizer to training documents and use it to transform them\n",
    "        # NOTE: Training documents have already been preprocessed and tokenized into words;\n",
    "        #       pass in dummy functions to skip those steps, e.g. preprocessor=lambda x: x\n",
    "        vectorizer = CountVectorizer(max_features=vocabulary_size)\n",
    "        features_train = vectorizer.fit_transform(words_train).toarray()\n",
    "\n",
    "        # Apply the same vectorizer to transform the test documents (ignore unknown words)\n",
    "        features_test = vectorizer.transform(words_test).toarray()\n",
    "        \n",
    "        # NOTE: Remember to convert the features using .toarray() for a compact representation\n",
    "        \n",
    "        # Write to cache file for future runs (store vocabulary as well)\n",
    "        if cache_file is not None:\n",
    "            vocabulary = vectorizer.vocabulary_\n",
    "            cache_data = dict(features_train=features_train, features_test=features_test,\n",
    "                             vocabulary=vocabulary)\n",
    "            with open(os.path.join(cache_dir, cache_file), \"wb\") as f:\n",
    "                joblib.dump(cache_data, f)\n",
    "            print(\"Wrote features to cache file:\", cache_file)\n",
    "    else:\n",
    "        # Unpack data loaded from cache file\n",
    "        features_train, features_test, vocabulary = (cache_data['features_train'],\n",
    "                cache_data['features_test'], cache_data['vocabulary'])\n",
    "    \n",
    "    # Return both the extracted features as well as the vocabulary\n",
    "    return features_train, features_test, vocabulary"
   ]
  },
  {
   "cell_type": "code",
   "execution_count": 12,
   "metadata": {},
   "outputs": [
    {
     "name": "stdout",
     "output_type": "stream",
     "text": [
      "Wrote features to cache file: bow_features.pkl\n"
     ]
    }
   ],
   "source": [
    "# Extract Bag of Words features for both training and test datasets\n",
    "train_X, test_X, vocabulary = extract_BoW_features(train_X, test_X)"
   ]
  },
  {
   "cell_type": "code",
   "execution_count": 13,
   "metadata": {},
   "outputs": [
    {
     "data": {
      "text/plain": [
       "5000"
      ]
     },
     "execution_count": 13,
     "metadata": {},
     "output_type": "execute_result"
    }
   ],
   "source": [
    "len(train_X[100])"
   ]
  },
  {
   "cell_type": "markdown",
   "metadata": {},
   "source": [
    "## Step 3: Upload data to S3\n",
    "\n",
    "Now that we have created the feature representation of our training (and testing) data, it is time to start setting up and using the XGBoost classifier provided by SageMaker.\n",
    "\n",
    "### Writing the datasets\n",
    "\n",
    "The XGBoost classifier that we will be using requires the dataset to be written to a file and stored using Amazon S3. To do this, we will start by splitting the training dataset into two parts, the data we will train the model with and a validation set. Then, we will write those datasets to a file locally and then upload the files to S3. In addition, we will write the test set to a file and upload that file to S3. This is so that we can use SageMakers Batch Transform functionality to test our model once we've fit it."
   ]
  },
  {
   "cell_type": "code",
   "execution_count": 14,
   "metadata": {},
   "outputs": [],
   "source": [
    "import pandas as pd\n",
    "\n",
    "# Earlier we shuffled the training dataset so to make things simple we can just assign\n",
    "# the first 10 000 reviews to the validation set and use the remaining reviews for training.\n",
    "val_X = pd.DataFrame(train_X[:10000])\n",
    "train_X = pd.DataFrame(train_X[10000:])\n",
    "\n",
    "val_y = pd.DataFrame(train_y[:10000])\n",
    "train_y = pd.DataFrame(train_y[10000:])"
   ]
  },
  {
   "cell_type": "markdown",
   "metadata": {},
   "source": [
    "The documentation for the XGBoost algorithm in SageMaker requires that the training and validation datasets should contain no headers or index and that the label should occur first for each sample.\n",
    "\n",
    "For more information about this and other algorithms, the SageMaker developer documentation can be found on __[Amazon's website.](https://docs.aws.amazon.com/sagemaker/latest/dg/)__"
   ]
  },
  {
   "cell_type": "code",
   "execution_count": 15,
   "metadata": {},
   "outputs": [],
   "source": [
    "# First we make sure that the local directory in which we'd like to store the training and validation csv files exists.\n",
    "data_dir = '../data/sentiment_web_app'\n",
    "if not os.path.exists(data_dir):\n",
    "    os.makedirs(data_dir)"
   ]
  },
  {
   "cell_type": "code",
   "execution_count": 16,
   "metadata": {},
   "outputs": [],
   "source": [
    "pd.DataFrame(test_X).to_csv(os.path.join(data_dir, 'test.csv'), header=False, index=False)\n",
    "\n",
    "pd.concat([val_y, val_X], axis=1).to_csv(os.path.join(data_dir, 'validation.csv'), header=False, index=False)\n",
    "pd.concat([train_y, train_X], axis=1).to_csv(os.path.join(data_dir, 'train.csv'), header=False, index=False)"
   ]
  },
  {
   "cell_type": "code",
   "execution_count": 17,
   "metadata": {},
   "outputs": [],
   "source": [
    "# To save a bit of memory we can set text_X, train_X, val_X, train_y and val_y to None.\n",
    "\n",
    "test_X = train_X = val_X = train_y = val_y = None"
   ]
  },
  {
   "cell_type": "markdown",
   "metadata": {},
   "source": [
    "### Uploading Training / Validation files to S3\n",
    "\n",
    "Amazon's S3 service allows us to store files that can be accessed by both the built-in training models such as the XGBoost model we will be using as well as custom models such as the one we will see a little later.\n",
    "\n",
    "For this and most other tasks we will be doing using SageMaker, there are two methods we could use. The first is to use the low level functionality of SageMaker which requires knowing each of the objects involved in the SageMaker environment. The second is to use the high level functionality in which certain choices have been made on the user's behalf. The low level approach benefits from allowing the user a great deal of flexibility while the high level approach makes development much quicker. For our purposes we will opt to use the high level approach although using the low-level approach is certainly an option.\n",
    "\n",
    "Recall the method `upload_data()` which is a member of the object representing our current SageMaker session. What this method does is upload the data to the default bucket (which is created if it does not exist) into the path described by the key_prefix variable. To see this for yourself, once you have uploaded the data files, go to the S3 console and look to see where the files have been uploaded.\n",
    "\n",
    "For additional resources, see the __[SageMaker API documentation](http://sagemaker.readthedocs.io/en/latest/)__ and in addition the __[SageMaker Developer Guide.](https://docs.aws.amazon.com/sagemaker/latest/dg/)__"
   ]
  },
  {
   "cell_type": "code",
   "execution_count": 18,
   "metadata": {},
   "outputs": [],
   "source": [
    "import sagemaker\n",
    "\n",
    "session = sagemaker.Session() # Store the current SageMaker session\n",
    "\n",
    "# S3 prefix (which folder will we use)\n",
    "prefix = 'sentiment-web-app'\n",
    "\n",
    "test_location = session.upload_data(os.path.join(data_dir, 'test.csv'), key_prefix=prefix)\n",
    "val_location = session.upload_data(os.path.join(data_dir, 'validation.csv'), key_prefix=prefix)\n",
    "train_location = session.upload_data(os.path.join(data_dir, 'train.csv'), key_prefix=prefix)"
   ]
  },
  {
   "cell_type": "markdown",
   "metadata": {},
   "source": [
    "## Step 4: Creating the XGBoost model\n",
    "\n",
    "Now that the data has been uploaded it is time to create the XGBoost model. To begin with, we need to do some setup. At this point it is worth discussing what a model is in SageMaker. It is easiest to think of a model of comprising three different objects in the SageMaker ecosystem, which interact with one another.\n",
    "\n",
    "- Model Artifacts\n",
    "- Training Code (Container)\n",
    "- Inference Code (Container)\n",
    "\n",
    "The Model Artifacts are what you might think of as the actual model itself. For example, if you were building a neural network, the model artifacts would be the weights of the various layers. In our case, for an XGBoost model, the artifacts are the actual trees that are created during training.\n",
    "\n",
    "The other two objects, the training code and the inference code are then used to manipulate the training artifacts. More precisely, the training code uses the training data that is provided and creates the model artifacts, while the inference code uses the model artifacts to make predictions on new data.\n",
    "\n",
    "The way that SageMaker runs the training and inference code is by making use of Docker containers. For now, think of a container as being a way of packaging code up so that dependencies aren't an issue."
   ]
  },
  {
   "cell_type": "code",
   "execution_count": 19,
   "metadata": {},
   "outputs": [],
   "source": [
    "from sagemaker import get_execution_role\n",
    "\n",
    "# Our current execution role is required when creating the model as the training\n",
    "# and inference code will need to access the model artifacts.\n",
    "role = get_execution_role()"
   ]
  },
  {
   "cell_type": "code",
   "execution_count": 20,
   "metadata": {},
   "outputs": [
    {
     "name": "stderr",
     "output_type": "stream",
     "text": [
      "WARNING:root:There is a more up to date SageMaker XGBoost image.To use the newer image, please set 'repo_version'='0.90-1. For example:\n",
      "\tget_image_uri(region, 'xgboost', '0.90-1').\n"
     ]
    }
   ],
   "source": [
    "# We need to retrieve the location of the container which is provided by Amazon for using XGBoost.\n",
    "# As a matter of convenience, the training and inference code both use the same container.\n",
    "from sagemaker.amazon.amazon_estimator import get_image_uri\n",
    "\n",
    "container = get_image_uri(session.boto_region_name, 'xgboost')"
   ]
  },
  {
   "cell_type": "code",
   "execution_count": 21,
   "metadata": {},
   "outputs": [],
   "source": [
    "# First we create a SageMaker estimator object for our model.\n",
    "xgb = sagemaker.estimator.Estimator(container, # The location of the container we wish to use\n",
    "                                    role,                                    # What is our current IAM Role\n",
    "                                    train_instance_count=1,                  # How many compute instances\n",
    "                                    train_instance_type='ml.m4.xlarge',      # What kind of compute instances\n",
    "                                    output_path='s3://{}/{}/output'.format(session.default_bucket(), prefix),\n",
    "                                    sagemaker_session=session)\n",
    "\n",
    "# And then set the algorithm specific parameters.\n",
    "xgb.set_hyperparameters(max_depth=5,\n",
    "                        eta=0.2,\n",
    "                        gamma=4,\n",
    "                        min_child_weight=6,\n",
    "                        subsample=0.8,\n",
    "                        silent=0,\n",
    "                        objective='binary:logistic',\n",
    "                        early_stopping_rounds=10,\n",
    "                        num_round=500)"
   ]
  },
  {
   "cell_type": "markdown",
   "metadata": {},
   "source": [
    "### Fit the XGBoost model\n",
    "\n",
    "Now that our model has been set up we simply need to attach the training and validation datasets and then ask SageMaker to set up the computation."
   ]
  },
  {
   "cell_type": "code",
   "execution_count": 22,
   "metadata": {},
   "outputs": [],
   "source": [
    "s3_input_train = sagemaker.s3_input(s3_data=train_location, content_type='csv')\n",
    "s3_input_validation = sagemaker.s3_input(s3_data=val_location, content_type='csv')"
   ]
  },
  {
   "cell_type": "code",
   "execution_count": 23,
   "metadata": {},
   "outputs": [
    {
     "name": "stdout",
     "output_type": "stream",
     "text": [
      "2019-11-08 21:46:00 Starting - Starting the training job...\n",
      "2019-11-08 21:46:07 Starting - Launching requested ML instances......\n",
      "2019-11-08 21:47:08 Starting - Preparing the instances for training...\n",
      "2019-11-08 21:48:01 Downloading - Downloading input data...\n",
      "2019-11-08 21:48:22 Training - Downloading the training image..\u001b[31mArguments: train\u001b[0m\n",
      "\u001b[31m[2019-11-08:21:48:40:INFO] Running standalone xgboost training.\u001b[0m\n",
      "\u001b[31m[2019-11-08:21:48:40:INFO] File size need to be processed in the node: 238.5mb. Available memory size in the node: 8592.02mb\u001b[0m\n",
      "\u001b[31m[2019-11-08:21:48:40:INFO] Determined delimiter of CSV input is ','\u001b[0m\n",
      "\u001b[31m[21:48:40] S3DistributionType set as FullyReplicated\u001b[0m\n",
      "\u001b[31m[21:48:42] 15000x5000 matrix with 75000000 entries loaded from /opt/ml/input/data/train?format=csv&label_column=0&delimiter=,\u001b[0m\n",
      "\u001b[31m[2019-11-08:21:48:42:INFO] Determined delimiter of CSV input is ','\u001b[0m\n",
      "\u001b[31m[21:48:42] S3DistributionType set as FullyReplicated\u001b[0m\n",
      "\u001b[31m[21:48:43] 10000x5000 matrix with 50000000 entries loaded from /opt/ml/input/data/validation?format=csv&label_column=0&delimiter=,\u001b[0m\n",
      "\n",
      "2019-11-08 21:48:39 Training - Training image download completed. Training in progress.\u001b[31m[21:48:46] src/tree/updater_prune.cc:74: tree pruning end, 1 roots, 46 extra nodes, 4 pruned nodes, max_depth=5\u001b[0m\n",
      "\u001b[31m[0]#011train-error:0.310867#011validation-error:0.3001\u001b[0m\n",
      "\u001b[31mMultiple eval metrics have been passed: 'validation-error' will be used for early stopping.\n",
      "\u001b[0m\n",
      "\u001b[31mWill train until validation-error hasn't improved in 10 rounds.\u001b[0m\n",
      "\u001b[31m[21:48:48] src/tree/updater_prune.cc:74: tree pruning end, 1 roots, 48 extra nodes, 2 pruned nodes, max_depth=5\u001b[0m\n",
      "\u001b[31m[1]#011train-error:0.2954#011validation-error:0.2898\u001b[0m\n",
      "\u001b[31m[21:48:49] src/tree/updater_prune.cc:74: tree pruning end, 1 roots, 36 extra nodes, 4 pruned nodes, max_depth=5\u001b[0m\n",
      "\u001b[31m[2]#011train-error:0.281133#011validation-error:0.2786\u001b[0m\n",
      "\u001b[31m[21:48:50] src/tree/updater_prune.cc:74: tree pruning end, 1 roots, 40 extra nodes, 6 pruned nodes, max_depth=5\u001b[0m\n",
      "\u001b[31m[3]#011train-error:0.271867#011validation-error:0.2704\u001b[0m\n",
      "\u001b[31m[21:48:52] src/tree/updater_prune.cc:74: tree pruning end, 1 roots, 34 extra nodes, 6 pruned nodes, max_depth=5\u001b[0m\n",
      "\u001b[31m[4]#011train-error:0.274733#011validation-error:0.2732\u001b[0m\n",
      "\u001b[31m[21:48:53] src/tree/updater_prune.cc:74: tree pruning end, 1 roots, 40 extra nodes, 2 pruned nodes, max_depth=5\u001b[0m\n",
      "\u001b[31m[5]#011train-error:0.257667#011validation-error:0.2585\u001b[0m\n",
      "\u001b[31m[21:48:54] src/tree/updater_prune.cc:74: tree pruning end, 1 roots, 40 extra nodes, 2 pruned nodes, max_depth=5\u001b[0m\n",
      "\u001b[31m[6]#011train-error:0.247467#011validation-error:0.2499\u001b[0m\n",
      "\u001b[31m[21:48:56] src/tree/updater_prune.cc:74: tree pruning end, 1 roots, 26 extra nodes, 14 pruned nodes, max_depth=5\u001b[0m\n",
      "\u001b[31m[7]#011train-error:0.246333#011validation-error:0.247\u001b[0m\n",
      "\u001b[31m[21:48:57] src/tree/updater_prune.cc:74: tree pruning end, 1 roots, 34 extra nodes, 0 pruned nodes, max_depth=5\u001b[0m\n",
      "\u001b[31m[8]#011train-error:0.242333#011validation-error:0.2444\u001b[0m\n",
      "\u001b[31m[21:48:58] src/tree/updater_prune.cc:74: tree pruning end, 1 roots, 34 extra nodes, 2 pruned nodes, max_depth=5\u001b[0m\n",
      "\u001b[31m[9]#011train-error:0.2344#011validation-error:0.2391\u001b[0m\n",
      "\u001b[31m[21:48:59] src/tree/updater_prune.cc:74: tree pruning end, 1 roots, 26 extra nodes, 6 pruned nodes, max_depth=5\u001b[0m\n",
      "\u001b[31m[10]#011train-error:0.224667#011validation-error:0.2334\u001b[0m\n",
      "\u001b[31m[21:49:01] src/tree/updater_prune.cc:74: tree pruning end, 1 roots, 32 extra nodes, 6 pruned nodes, max_depth=5\u001b[0m\n",
      "\u001b[31m[11]#011train-error:0.217733#011validation-error:0.2279\u001b[0m\n",
      "\u001b[31m[21:49:02] src/tree/updater_prune.cc:74: tree pruning end, 1 roots, 40 extra nodes, 4 pruned nodes, max_depth=5\u001b[0m\n",
      "\u001b[31m[12]#011train-error:0.213333#011validation-error:0.2255\u001b[0m\n",
      "\u001b[31m[21:49:03] src/tree/updater_prune.cc:74: tree pruning end, 1 roots, 38 extra nodes, 8 pruned nodes, max_depth=5\u001b[0m\n",
      "\u001b[31m[13]#011train-error:0.209133#011validation-error:0.2208\u001b[0m\n",
      "\u001b[31m[21:49:04] src/tree/updater_prune.cc:74: tree pruning end, 1 roots, 16 extra nodes, 12 pruned nodes, max_depth=5\u001b[0m\n",
      "\u001b[31m[14]#011train-error:0.2054#011validation-error:0.2188\u001b[0m\n",
      "\u001b[31m[21:49:06] src/tree/updater_prune.cc:74: tree pruning end, 1 roots, 26 extra nodes, 8 pruned nodes, max_depth=5\u001b[0m\n",
      "\u001b[31m[15]#011train-error:0.204333#011validation-error:0.2194\u001b[0m\n",
      "\u001b[31m[21:49:07] src/tree/updater_prune.cc:74: tree pruning end, 1 roots, 36 extra nodes, 8 pruned nodes, max_depth=5\u001b[0m\n",
      "\u001b[31m[16]#011train-error:0.201933#011validation-error:0.2141\u001b[0m\n",
      "\u001b[31m[21:49:08] src/tree/updater_prune.cc:74: tree pruning end, 1 roots, 34 extra nodes, 8 pruned nodes, max_depth=5\u001b[0m\n",
      "\u001b[31m[17]#011train-error:0.1968#011validation-error:0.2112\u001b[0m\n",
      "\u001b[31m[21:49:09] src/tree/updater_prune.cc:74: tree pruning end, 1 roots, 28 extra nodes, 6 pruned nodes, max_depth=5\u001b[0m\n",
      "\u001b[31m[18]#011train-error:0.195133#011validation-error:0.207\u001b[0m\n",
      "\u001b[31m[21:49:11] src/tree/updater_prune.cc:74: tree pruning end, 1 roots, 38 extra nodes, 10 pruned nodes, max_depth=5\u001b[0m\n",
      "\u001b[31m[19]#011train-error:0.1922#011validation-error:0.2061\u001b[0m\n",
      "\u001b[31m[21:49:12] src/tree/updater_prune.cc:74: tree pruning end, 1 roots, 28 extra nodes, 4 pruned nodes, max_depth=5\u001b[0m\n",
      "\u001b[31m[20]#011train-error:0.1892#011validation-error:0.2052\u001b[0m\n",
      "\u001b[31m[21:49:13] src/tree/updater_prune.cc:74: tree pruning end, 1 roots, 34 extra nodes, 2 pruned nodes, max_depth=5\u001b[0m\n",
      "\u001b[31m[21]#011train-error:0.1862#011validation-error:0.2022\u001b[0m\n",
      "\u001b[31m[21:49:15] src/tree/updater_prune.cc:74: tree pruning end, 1 roots, 38 extra nodes, 4 pruned nodes, max_depth=5\u001b[0m\n",
      "\u001b[31m[22]#011train-error:0.183#011validation-error:0.1997\u001b[0m\n",
      "\u001b[31m[21:49:16] src/tree/updater_prune.cc:74: tree pruning end, 1 roots, 24 extra nodes, 8 pruned nodes, max_depth=5\u001b[0m\n",
      "\u001b[31m[23]#011train-error:0.179933#011validation-error:0.1973\u001b[0m\n",
      "\u001b[31m[21:49:17] src/tree/updater_prune.cc:74: tree pruning end, 1 roots, 26 extra nodes, 8 pruned nodes, max_depth=5\u001b[0m\n",
      "\u001b[31m[24]#011train-error:0.1798#011validation-error:0.1975\u001b[0m\n",
      "\u001b[31m[21:49:18] src/tree/updater_prune.cc:74: tree pruning end, 1 roots, 32 extra nodes, 6 pruned nodes, max_depth=5\u001b[0m\n",
      "\u001b[31m[25]#011train-error:0.177267#011validation-error:0.1958\u001b[0m\n",
      "\u001b[31m[21:49:20] src/tree/updater_prune.cc:74: tree pruning end, 1 roots, 28 extra nodes, 6 pruned nodes, max_depth=5\u001b[0m\n",
      "\u001b[31m[26]#011train-error:0.174933#011validation-error:0.1926\u001b[0m\n",
      "\u001b[31m[21:49:21] src/tree/updater_prune.cc:74: tree pruning end, 1 roots, 38 extra nodes, 10 pruned nodes, max_depth=5\u001b[0m\n",
      "\u001b[31m[27]#011train-error:0.1716#011validation-error:0.1906\u001b[0m\n",
      "\u001b[31m[21:49:22] src/tree/updater_prune.cc:74: tree pruning end, 1 roots, 36 extra nodes, 12 pruned nodes, max_depth=5\u001b[0m\n",
      "\u001b[31m[28]#011train-error:0.168933#011validation-error:0.1913\u001b[0m\n",
      "\u001b[31m[21:49:23] src/tree/updater_prune.cc:74: tree pruning end, 1 roots, 20 extra nodes, 10 pruned nodes, max_depth=5\u001b[0m\n",
      "\u001b[31m[29]#011train-error:0.167667#011validation-error:0.1897\u001b[0m\n",
      "\u001b[31m[21:49:25] src/tree/updater_prune.cc:74: tree pruning end, 1 roots, 38 extra nodes, 6 pruned nodes, max_depth=5\u001b[0m\n",
      "\u001b[31m[30]#011train-error:0.1656#011validation-error:0.1878\u001b[0m\n",
      "\u001b[31m[21:49:26] src/tree/updater_prune.cc:74: tree pruning end, 1 roots, 22 extra nodes, 4 pruned nodes, max_depth=5\u001b[0m\n",
      "\u001b[31m[31]#011train-error:0.164333#011validation-error:0.1858\u001b[0m\n",
      "\u001b[31m[21:49:27] src/tree/updater_prune.cc:74: tree pruning end, 1 roots, 16 extra nodes, 10 pruned nodes, max_depth=5\u001b[0m\n",
      "\u001b[31m[32]#011train-error:0.163867#011validation-error:0.1858\u001b[0m\n",
      "\u001b[31m[21:49:28] src/tree/updater_prune.cc:74: tree pruning end, 1 roots, 22 extra nodes, 10 pruned nodes, max_depth=5\u001b[0m\n",
      "\u001b[31m[33]#011train-error:0.162667#011validation-error:0.1847\u001b[0m\n",
      "\u001b[31m[21:49:30] src/tree/updater_prune.cc:74: tree pruning end, 1 roots, 32 extra nodes, 6 pruned nodes, max_depth=5\u001b[0m\n",
      "\u001b[31m[34]#011train-error:0.160867#011validation-error:0.1851\u001b[0m\n",
      "\u001b[31m[21:49:31] src/tree/updater_prune.cc:74: tree pruning end, 1 roots, 26 extra nodes, 2 pruned nodes, max_depth=5\u001b[0m\n",
      "\u001b[31m[35]#011train-error:0.159067#011validation-error:0.1855\u001b[0m\n",
      "\u001b[31m[21:49:32] src/tree/updater_prune.cc:74: tree pruning end, 1 roots, 14 extra nodes, 12 pruned nodes, max_depth=5\u001b[0m\n",
      "\u001b[31m[36]#011train-error:0.158933#011validation-error:0.184\u001b[0m\n",
      "\u001b[31m[21:49:34] src/tree/updater_prune.cc:74: tree pruning end, 1 roots, 18 extra nodes, 8 pruned nodes, max_depth=5\u001b[0m\n",
      "\u001b[31m[37]#011train-error:0.158533#011validation-error:0.1827\u001b[0m\n",
      "\u001b[31m[21:49:35] src/tree/updater_prune.cc:74: tree pruning end, 1 roots, 36 extra nodes, 6 pruned nodes, max_depth=5\u001b[0m\n",
      "\u001b[31m[38]#011train-error:0.156#011validation-error:0.1815\u001b[0m\n",
      "\u001b[31m[21:49:36] src/tree/updater_prune.cc:74: tree pruning end, 1 roots, 26 extra nodes, 8 pruned nodes, max_depth=5\u001b[0m\n",
      "\u001b[31m[39]#011train-error:0.154333#011validation-error:0.1818\u001b[0m\n"
     ]
    },
    {
     "name": "stdout",
     "output_type": "stream",
     "text": [
      "\u001b[31m[21:49:37] src/tree/updater_prune.cc:74: tree pruning end, 1 roots, 38 extra nodes, 10 pruned nodes, max_depth=5\u001b[0m\n",
      "\u001b[31m[40]#011train-error:0.152733#011validation-error:0.1805\u001b[0m\n",
      "\u001b[31m[21:49:39] src/tree/updater_prune.cc:74: tree pruning end, 1 roots, 28 extra nodes, 8 pruned nodes, max_depth=5\u001b[0m\n",
      "\u001b[31m[41]#011train-error:0.149667#011validation-error:0.1787\u001b[0m\n",
      "\u001b[31m[21:49:40] src/tree/updater_prune.cc:74: tree pruning end, 1 roots, 24 extra nodes, 2 pruned nodes, max_depth=5\u001b[0m\n",
      "\u001b[31m[42]#011train-error:0.147667#011validation-error:0.1779\u001b[0m\n",
      "\u001b[31m[21:49:41] src/tree/updater_prune.cc:74: tree pruning end, 1 roots, 22 extra nodes, 6 pruned nodes, max_depth=5\u001b[0m\n",
      "\u001b[31m[43]#011train-error:0.147#011validation-error:0.1777\u001b[0m\n",
      "\u001b[31m[21:49:42] src/tree/updater_prune.cc:74: tree pruning end, 1 roots, 46 extra nodes, 4 pruned nodes, max_depth=5\u001b[0m\n",
      "\u001b[31m[44]#011train-error:0.144067#011validation-error:0.1777\u001b[0m\n",
      "\u001b[31m[21:49:44] src/tree/updater_prune.cc:74: tree pruning end, 1 roots, 20 extra nodes, 6 pruned nodes, max_depth=5\u001b[0m\n",
      "\u001b[31m[45]#011train-error:0.143867#011validation-error:0.1761\u001b[0m\n",
      "\u001b[31m[21:49:45] src/tree/updater_prune.cc:74: tree pruning end, 1 roots, 32 extra nodes, 8 pruned nodes, max_depth=5\u001b[0m\n",
      "\u001b[31m[46]#011train-error:0.142733#011validation-error:0.1739\u001b[0m\n",
      "\u001b[31m[21:49:46] src/tree/updater_prune.cc:74: tree pruning end, 1 roots, 26 extra nodes, 8 pruned nodes, max_depth=5\u001b[0m\n",
      "\u001b[31m[47]#011train-error:0.142533#011validation-error:0.1717\u001b[0m\n",
      "\u001b[31m[21:49:47] src/tree/updater_prune.cc:74: tree pruning end, 1 roots, 26 extra nodes, 10 pruned nodes, max_depth=5\u001b[0m\n",
      "\u001b[31m[48]#011train-error:0.141267#011validation-error:0.1716\u001b[0m\n",
      "\u001b[31m[21:49:49] src/tree/updater_prune.cc:74: tree pruning end, 1 roots, 22 extra nodes, 10 pruned nodes, max_depth=5\u001b[0m\n",
      "\u001b[31m[49]#011train-error:0.1404#011validation-error:0.1696\u001b[0m\n",
      "\u001b[31m[21:49:50] src/tree/updater_prune.cc:74: tree pruning end, 1 roots, 24 extra nodes, 6 pruned nodes, max_depth=5\u001b[0m\n",
      "\u001b[31m[50]#011train-error:0.139467#011validation-error:0.1687\u001b[0m\n",
      "\u001b[31m[21:49:51] src/tree/updater_prune.cc:74: tree pruning end, 1 roots, 22 extra nodes, 14 pruned nodes, max_depth=5\u001b[0m\n",
      "\u001b[31m[51]#011train-error:0.138667#011validation-error:0.1684\u001b[0m\n",
      "\u001b[31m[21:49:52] src/tree/updater_prune.cc:74: tree pruning end, 1 roots, 18 extra nodes, 10 pruned nodes, max_depth=5\u001b[0m\n",
      "\u001b[31m[52]#011train-error:0.137667#011validation-error:0.1681\u001b[0m\n",
      "\u001b[31m[21:49:54] src/tree/updater_prune.cc:74: tree pruning end, 1 roots, 34 extra nodes, 14 pruned nodes, max_depth=5\u001b[0m\n",
      "\u001b[31m[53]#011train-error:0.1346#011validation-error:0.1679\u001b[0m\n",
      "\u001b[31m[21:49:55] src/tree/updater_prune.cc:74: tree pruning end, 1 roots, 14 extra nodes, 16 pruned nodes, max_depth=5\u001b[0m\n",
      "\u001b[31m[54]#011train-error:0.1342#011validation-error:0.1671\u001b[0m\n",
      "\u001b[31m[21:49:56] src/tree/updater_prune.cc:74: tree pruning end, 1 roots, 26 extra nodes, 8 pruned nodes, max_depth=5\u001b[0m\n",
      "\u001b[31m[55]#011train-error:0.134#011validation-error:0.1649\u001b[0m\n",
      "\u001b[31m[21:49:58] src/tree/updater_prune.cc:74: tree pruning end, 1 roots, 24 extra nodes, 4 pruned nodes, max_depth=5\u001b[0m\n",
      "\u001b[31m[56]#011train-error:0.1324#011validation-error:0.1642\u001b[0m\n",
      "\u001b[31m[21:49:59] src/tree/updater_prune.cc:74: tree pruning end, 1 roots, 12 extra nodes, 10 pruned nodes, max_depth=5\u001b[0m\n",
      "\u001b[31m[57]#011train-error:0.132467#011validation-error:0.164\u001b[0m\n",
      "\u001b[31m[21:50:00] src/tree/updater_prune.cc:74: tree pruning end, 1 roots, 22 extra nodes, 8 pruned nodes, max_depth=5\u001b[0m\n",
      "\u001b[31m[58]#011train-error:0.131733#011validation-error:0.1628\u001b[0m\n",
      "\u001b[31m[21:50:01] src/tree/updater_prune.cc:74: tree pruning end, 1 roots, 36 extra nodes, 8 pruned nodes, max_depth=5\u001b[0m\n",
      "\u001b[31m[59]#011train-error:0.130133#011validation-error:0.1618\u001b[0m\n",
      "\u001b[31m[21:50:03] src/tree/updater_prune.cc:74: tree pruning end, 1 roots, 26 extra nodes, 10 pruned nodes, max_depth=5\u001b[0m\n",
      "\u001b[31m[60]#011train-error:0.13#011validation-error:0.1611\u001b[0m\n",
      "\u001b[31m[21:50:04] src/tree/updater_prune.cc:74: tree pruning end, 1 roots, 28 extra nodes, 0 pruned nodes, max_depth=5\u001b[0m\n",
      "\u001b[31m[61]#011train-error:0.128733#011validation-error:0.1606\u001b[0m\n",
      "\u001b[31m[21:50:05] src/tree/updater_prune.cc:74: tree pruning end, 1 roots, 30 extra nodes, 4 pruned nodes, max_depth=5\u001b[0m\n",
      "\u001b[31m[62]#011train-error:0.127733#011validation-error:0.1607\u001b[0m\n",
      "\u001b[31m[21:50:06] src/tree/updater_prune.cc:74: tree pruning end, 1 roots, 18 extra nodes, 8 pruned nodes, max_depth=5\u001b[0m\n",
      "\u001b[31m[63]#011train-error:0.126933#011validation-error:0.1603\u001b[0m\n",
      "\u001b[31m[21:50:08] src/tree/updater_prune.cc:74: tree pruning end, 1 roots, 22 extra nodes, 4 pruned nodes, max_depth=5\u001b[0m\n",
      "\u001b[31m[64]#011train-error:0.1258#011validation-error:0.1595\u001b[0m\n",
      "\u001b[31m[21:50:09] src/tree/updater_prune.cc:74: tree pruning end, 1 roots, 14 extra nodes, 2 pruned nodes, max_depth=5\u001b[0m\n",
      "\u001b[31m[65]#011train-error:0.125533#011validation-error:0.1597\u001b[0m\n",
      "\u001b[31m[21:50:10] src/tree/updater_prune.cc:74: tree pruning end, 1 roots, 28 extra nodes, 16 pruned nodes, max_depth=5\u001b[0m\n",
      "\u001b[31m[66]#011train-error:0.124867#011validation-error:0.1598\u001b[0m\n",
      "\u001b[31m[21:50:11] src/tree/updater_prune.cc:74: tree pruning end, 1 roots, 18 extra nodes, 8 pruned nodes, max_depth=5\u001b[0m\n",
      "\u001b[31m[67]#011train-error:0.123533#011validation-error:0.159\u001b[0m\n",
      "\u001b[31m[21:50:13] src/tree/updater_prune.cc:74: tree pruning end, 1 roots, 16 extra nodes, 6 pruned nodes, max_depth=5\u001b[0m\n",
      "\u001b[31m[68]#011train-error:0.122467#011validation-error:0.1583\u001b[0m\n",
      "\u001b[31m[21:50:14] src/tree/updater_prune.cc:74: tree pruning end, 1 roots, 16 extra nodes, 6 pruned nodes, max_depth=5\u001b[0m\n",
      "\u001b[31m[69]#011train-error:0.121933#011validation-error:0.1567\u001b[0m\n",
      "\u001b[31m[21:50:15] src/tree/updater_prune.cc:74: tree pruning end, 1 roots, 12 extra nodes, 12 pruned nodes, max_depth=5\u001b[0m\n",
      "\u001b[31m[70]#011train-error:0.1214#011validation-error:0.1566\u001b[0m\n",
      "\u001b[31m[21:50:16] src/tree/updater_prune.cc:74: tree pruning end, 1 roots, 18 extra nodes, 12 pruned nodes, max_depth=5\u001b[0m\n",
      "\u001b[31m[71]#011train-error:0.1208#011validation-error:0.1557\u001b[0m\n",
      "\u001b[31m[21:50:18] src/tree/updater_prune.cc:74: tree pruning end, 1 roots, 18 extra nodes, 14 pruned nodes, max_depth=5\u001b[0m\n",
      "\u001b[31m[72]#011train-error:0.120467#011validation-error:0.1551\u001b[0m\n",
      "\u001b[31m[21:50:19] src/tree/updater_prune.cc:74: tree pruning end, 1 roots, 30 extra nodes, 12 pruned nodes, max_depth=5\u001b[0m\n",
      "\u001b[31m[73]#011train-error:0.120467#011validation-error:0.1548\u001b[0m\n",
      "\u001b[31m[21:50:20] src/tree/updater_prune.cc:74: tree pruning end, 1 roots, 16 extra nodes, 14 pruned nodes, max_depth=5\u001b[0m\n",
      "\u001b[31m[74]#011train-error:0.12#011validation-error:0.1551\u001b[0m\n",
      "\u001b[31m[21:50:22] src/tree/updater_prune.cc:74: tree pruning end, 1 roots, 24 extra nodes, 6 pruned nodes, max_depth=5\u001b[0m\n",
      "\u001b[31m[75]#011train-error:0.118467#011validation-error:0.1552\u001b[0m\n",
      "\u001b[31m[21:50:23] src/tree/updater_prune.cc:74: tree pruning end, 1 roots, 18 extra nodes, 2 pruned nodes, max_depth=5\u001b[0m\n",
      "\u001b[31m[76]#011train-error:0.119333#011validation-error:0.1534\u001b[0m\n",
      "\u001b[31m[21:50:24] src/tree/updater_prune.cc:74: tree pruning end, 1 roots, 26 extra nodes, 6 pruned nodes, max_depth=5\u001b[0m\n",
      "\u001b[31m[77]#011train-error:0.117733#011validation-error:0.1544\u001b[0m\n",
      "\u001b[31m[21:50:25] src/tree/updater_prune.cc:74: tree pruning end, 1 roots, 18 extra nodes, 2 pruned nodes, max_depth=5\u001b[0m\n",
      "\u001b[31m[78]#011train-error:0.1168#011validation-error:0.1543\u001b[0m\n",
      "\u001b[31m[21:50:27] src/tree/updater_prune.cc:74: tree pruning end, 1 roots, 18 extra nodes, 10 pruned nodes, max_depth=5\u001b[0m\n",
      "\u001b[31m[79]#011train-error:0.116133#011validation-error:0.1533\u001b[0m\n",
      "\u001b[31m[21:50:28] src/tree/updater_prune.cc:74: tree pruning end, 1 roots, 22 extra nodes, 6 pruned nodes, max_depth=5\u001b[0m\n",
      "\u001b[31m[80]#011train-error:0.116067#011validation-error:0.1541\u001b[0m\n",
      "\u001b[31m[21:50:29] src/tree/updater_prune.cc:74: tree pruning end, 1 roots, 18 extra nodes, 14 pruned nodes, max_depth=5\u001b[0m\n",
      "\u001b[31m[81]#011train-error:0.1152#011validation-error:0.1536\u001b[0m\n",
      "\u001b[31m[21:50:30] src/tree/updater_prune.cc:74: tree pruning end, 1 roots, 26 extra nodes, 8 pruned nodes, max_depth=5\u001b[0m\n",
      "\u001b[31m[82]#011train-error:0.115067#011validation-error:0.1547\u001b[0m\n",
      "\u001b[31m[21:50:32] src/tree/updater_prune.cc:74: tree pruning end, 1 roots, 12 extra nodes, 8 pruned nodes, max_depth=5\u001b[0m\n",
      "\u001b[31m[83]#011train-error:0.114133#011validation-error:0.1539\u001b[0m\n",
      "\u001b[31m[21:50:33] src/tree/updater_prune.cc:74: tree pruning end, 1 roots, 20 extra nodes, 6 pruned nodes, max_depth=5\u001b[0m\n",
      "\u001b[31m[84]#011train-error:0.1128#011validation-error:0.1536\u001b[0m\n",
      "\u001b[31m[21:50:34] src/tree/updater_prune.cc:74: tree pruning end, 1 roots, 16 extra nodes, 14 pruned nodes, max_depth=5\u001b[0m\n",
      "\u001b[31m[85]#011train-error:0.1124#011validation-error:0.1535\u001b[0m\n",
      "\u001b[31m[21:50:35] src/tree/updater_prune.cc:74: tree pruning end, 1 roots, 12 extra nodes, 4 pruned nodes, max_depth=5\u001b[0m\n",
      "\u001b[31m[86]#011train-error:0.112067#011validation-error:0.1528\u001b[0m\n",
      "\u001b[31m[21:50:37] src/tree/updater_prune.cc:74: tree pruning end, 1 roots, 18 extra nodes, 6 pruned nodes, max_depth=5\u001b[0m\n",
      "\u001b[31m[87]#011train-error:0.1114#011validation-error:0.1524\u001b[0m\n"
     ]
    },
    {
     "name": "stdout",
     "output_type": "stream",
     "text": [
      "\u001b[31m[21:50:38] src/tree/updater_prune.cc:74: tree pruning end, 1 roots, 18 extra nodes, 8 pruned nodes, max_depth=5\u001b[0m\n",
      "\u001b[31m[88]#011train-error:0.1104#011validation-error:0.1517\u001b[0m\n",
      "\u001b[31m[21:50:39] src/tree/updater_prune.cc:74: tree pruning end, 1 roots, 18 extra nodes, 4 pruned nodes, max_depth=5\u001b[0m\n",
      "\u001b[31m[89]#011train-error:0.109667#011validation-error:0.15\u001b[0m\n",
      "\u001b[31m[21:50:40] src/tree/updater_prune.cc:74: tree pruning end, 1 roots, 16 extra nodes, 6 pruned nodes, max_depth=5\u001b[0m\n",
      "\u001b[31m[90]#011train-error:0.109333#011validation-error:0.1489\u001b[0m\n",
      "\u001b[31m[21:50:42] src/tree/updater_prune.cc:74: tree pruning end, 1 roots, 14 extra nodes, 4 pruned nodes, max_depth=5\u001b[0m\n",
      "\u001b[31m[91]#011train-error:0.109267#011validation-error:0.149\u001b[0m\n",
      "\u001b[31m[21:50:43] src/tree/updater_prune.cc:74: tree pruning end, 1 roots, 20 extra nodes, 6 pruned nodes, max_depth=5\u001b[0m\n",
      "\u001b[31m[92]#011train-error:0.109467#011validation-error:0.1488\u001b[0m\n",
      "\u001b[31m[21:50:44] src/tree/updater_prune.cc:74: tree pruning end, 1 roots, 20 extra nodes, 6 pruned nodes, max_depth=5\u001b[0m\n",
      "\u001b[31m[93]#011train-error:0.109133#011validation-error:0.148\u001b[0m\n",
      "\u001b[31m[21:50:45] src/tree/updater_prune.cc:74: tree pruning end, 1 roots, 20 extra nodes, 14 pruned nodes, max_depth=5\u001b[0m\n",
      "\u001b[31m[94]#011train-error:0.1088#011validation-error:0.1481\u001b[0m\n",
      "\u001b[31m[21:50:47] src/tree/updater_prune.cc:74: tree pruning end, 1 roots, 16 extra nodes, 8 pruned nodes, max_depth=5\u001b[0m\n",
      "\u001b[31m[95]#011train-error:0.108267#011validation-error:0.1478\u001b[0m\n",
      "\u001b[31m[21:50:48] src/tree/updater_prune.cc:74: tree pruning end, 1 roots, 14 extra nodes, 12 pruned nodes, max_depth=5\u001b[0m\n",
      "\u001b[31m[96]#011train-error:0.108067#011validation-error:0.1474\u001b[0m\n",
      "\u001b[31m[21:50:49] src/tree/updater_prune.cc:74: tree pruning end, 1 roots, 14 extra nodes, 6 pruned nodes, max_depth=5\u001b[0m\n",
      "\u001b[31m[97]#011train-error:0.107467#011validation-error:0.1476\u001b[0m\n",
      "\u001b[31m[21:50:51] src/tree/updater_prune.cc:74: tree pruning end, 1 roots, 12 extra nodes, 6 pruned nodes, max_depth=5\u001b[0m\n",
      "\u001b[31m[98]#011train-error:0.107333#011validation-error:0.1472\u001b[0m\n",
      "\u001b[31m[21:50:52] src/tree/updater_prune.cc:74: tree pruning end, 1 roots, 26 extra nodes, 8 pruned nodes, max_depth=5\u001b[0m\n",
      "\u001b[31m[99]#011train-error:0.1068#011validation-error:0.1478\u001b[0m\n",
      "\u001b[31m[21:50:53] src/tree/updater_prune.cc:74: tree pruning end, 1 roots, 18 extra nodes, 8 pruned nodes, max_depth=5\u001b[0m\n",
      "\u001b[31m[100]#011train-error:0.106733#011validation-error:0.1479\u001b[0m\n",
      "\u001b[31m[21:50:54] src/tree/updater_prune.cc:74: tree pruning end, 1 roots, 22 extra nodes, 4 pruned nodes, max_depth=5\u001b[0m\n",
      "\u001b[31m[101]#011train-error:0.106067#011validation-error:0.1474\u001b[0m\n",
      "\u001b[31m[21:50:56] src/tree/updater_prune.cc:74: tree pruning end, 1 roots, 24 extra nodes, 8 pruned nodes, max_depth=5\u001b[0m\n",
      "\u001b[31m[102]#011train-error:0.105#011validation-error:0.1472\u001b[0m\n",
      "\u001b[31m[21:50:57] src/tree/updater_prune.cc:74: tree pruning end, 1 roots, 16 extra nodes, 10 pruned nodes, max_depth=5\u001b[0m\n",
      "\u001b[31m[103]#011train-error:0.104467#011validation-error:0.1468\u001b[0m\n",
      "\u001b[31m[21:50:58] src/tree/updater_prune.cc:74: tree pruning end, 1 roots, 16 extra nodes, 16 pruned nodes, max_depth=5\u001b[0m\n",
      "\u001b[31m[104]#011train-error:0.104067#011validation-error:0.1468\u001b[0m\n",
      "\u001b[31m[21:50:59] src/tree/updater_prune.cc:74: tree pruning end, 1 roots, 32 extra nodes, 4 pruned nodes, max_depth=5\u001b[0m\n",
      "\u001b[31m[105]#011train-error:0.102933#011validation-error:0.1469\u001b[0m\n",
      "\u001b[31m[21:51:01] src/tree/updater_prune.cc:74: tree pruning end, 1 roots, 20 extra nodes, 6 pruned nodes, max_depth=5\u001b[0m\n",
      "\u001b[31m[106]#011train-error:0.101933#011validation-error:0.1473\u001b[0m\n",
      "\u001b[31m[21:51:02] src/tree/updater_prune.cc:74: tree pruning end, 1 roots, 14 extra nodes, 6 pruned nodes, max_depth=5\u001b[0m\n",
      "\u001b[31m[107]#011train-error:0.101133#011validation-error:0.1469\u001b[0m\n",
      "\u001b[31m[21:51:03] src/tree/updater_prune.cc:74: tree pruning end, 1 roots, 32 extra nodes, 12 pruned nodes, max_depth=5\u001b[0m\n",
      "\u001b[31m[108]#011train-error:0.100933#011validation-error:0.1467\u001b[0m\n",
      "\u001b[31m[21:51:04] src/tree/updater_prune.cc:74: tree pruning end, 1 roots, 10 extra nodes, 4 pruned nodes, max_depth=5\u001b[0m\n",
      "\u001b[31m[109]#011train-error:0.100133#011validation-error:0.1464\u001b[0m\n",
      "\u001b[31m[21:51:06] src/tree/updater_prune.cc:74: tree pruning end, 1 roots, 12 extra nodes, 12 pruned nodes, max_depth=5\u001b[0m\n",
      "\u001b[31m[110]#011train-error:0.1#011validation-error:0.1466\u001b[0m\n",
      "\u001b[31m[21:51:07] src/tree/updater_prune.cc:74: tree pruning end, 1 roots, 14 extra nodes, 8 pruned nodes, max_depth=5\u001b[0m\n",
      "\u001b[31m[111]#011train-error:0.100133#011validation-error:0.1466\u001b[0m\n",
      "\u001b[31m[21:51:08] src/tree/updater_prune.cc:74: tree pruning end, 1 roots, 20 extra nodes, 2 pruned nodes, max_depth=5\u001b[0m\n",
      "\u001b[31m[112]#011train-error:0.099#011validation-error:0.1451\u001b[0m\n",
      "\u001b[31m[21:51:10] src/tree/updater_prune.cc:74: tree pruning end, 1 roots, 14 extra nodes, 6 pruned nodes, max_depth=5\u001b[0m\n",
      "\u001b[31m[113]#011train-error:0.098533#011validation-error:0.1448\u001b[0m\n",
      "\u001b[31m[21:51:11] src/tree/updater_prune.cc:74: tree pruning end, 1 roots, 26 extra nodes, 8 pruned nodes, max_depth=5\u001b[0m\n",
      "\u001b[31m[114]#011train-error:0.097667#011validation-error:0.1452\u001b[0m\n",
      "\u001b[31m[21:51:12] src/tree/updater_prune.cc:74: tree pruning end, 1 roots, 30 extra nodes, 10 pruned nodes, max_depth=5\u001b[0m\n",
      "\u001b[31m[115]#011train-error:0.096267#011validation-error:0.1442\u001b[0m\n",
      "\u001b[31m[21:51:13] src/tree/updater_prune.cc:74: tree pruning end, 1 roots, 10 extra nodes, 4 pruned nodes, max_depth=5\u001b[0m\n",
      "\u001b[31m[116]#011train-error:0.096267#011validation-error:0.1448\u001b[0m\n",
      "\u001b[31m[21:51:15] src/tree/updater_prune.cc:74: tree pruning end, 1 roots, 22 extra nodes, 18 pruned nodes, max_depth=5\u001b[0m\n",
      "\u001b[31m[117]#011train-error:0.095533#011validation-error:0.144\u001b[0m\n",
      "\u001b[31m[21:51:16] src/tree/updater_prune.cc:74: tree pruning end, 1 roots, 16 extra nodes, 2 pruned nodes, max_depth=5\u001b[0m\n",
      "\u001b[31m[118]#011train-error:0.096267#011validation-error:0.1444\u001b[0m\n",
      "\u001b[31m[21:51:17] src/tree/updater_prune.cc:74: tree pruning end, 1 roots, 24 extra nodes, 26 pruned nodes, max_depth=5\u001b[0m\n",
      "\u001b[31m[119]#011train-error:0.095267#011validation-error:0.1445\u001b[0m\n",
      "\u001b[31m[21:51:18] src/tree/updater_prune.cc:74: tree pruning end, 1 roots, 12 extra nodes, 6 pruned nodes, max_depth=5\u001b[0m\n",
      "\u001b[31m[120]#011train-error:0.0948#011validation-error:0.1447\u001b[0m\n",
      "\u001b[31m[21:51:20] src/tree/updater_prune.cc:74: tree pruning end, 1 roots, 32 extra nodes, 14 pruned nodes, max_depth=5\u001b[0m\n",
      "\u001b[31m[121]#011train-error:0.094733#011validation-error:0.1433\u001b[0m\n",
      "\u001b[31m[21:51:21] src/tree/updater_prune.cc:74: tree pruning end, 1 roots, 12 extra nodes, 0 pruned nodes, max_depth=5\u001b[0m\n",
      "\u001b[31m[122]#011train-error:0.093733#011validation-error:0.1434\u001b[0m\n",
      "\u001b[31m[21:51:22] src/tree/updater_prune.cc:74: tree pruning end, 1 roots, 12 extra nodes, 2 pruned nodes, max_depth=5\u001b[0m\n",
      "\u001b[31m[123]#011train-error:0.0934#011validation-error:0.1434\u001b[0m\n",
      "\u001b[31m[21:51:23] src/tree/updater_prune.cc:74: tree pruning end, 1 roots, 20 extra nodes, 8 pruned nodes, max_depth=5\u001b[0m\n",
      "\u001b[31m[124]#011train-error:0.092067#011validation-error:0.1424\u001b[0m\n",
      "\u001b[31m[21:51:25] src/tree/updater_prune.cc:74: tree pruning end, 1 roots, 14 extra nodes, 12 pruned nodes, max_depth=5\u001b[0m\n",
      "\u001b[31m[125]#011train-error:0.0918#011validation-error:0.1427\u001b[0m\n",
      "\u001b[31m[21:51:26] src/tree/updater_prune.cc:74: tree pruning end, 1 roots, 20 extra nodes, 10 pruned nodes, max_depth=5\u001b[0m\n",
      "\u001b[31m[126]#011train-error:0.0916#011validation-error:0.1435\u001b[0m\n",
      "\u001b[31m[21:51:27] src/tree/updater_prune.cc:74: tree pruning end, 1 roots, 18 extra nodes, 16 pruned nodes, max_depth=5\u001b[0m\n",
      "\u001b[31m[127]#011train-error:0.0914#011validation-error:0.1434\u001b[0m\n",
      "\u001b[31m[21:51:28] src/tree/updater_prune.cc:74: tree pruning end, 1 roots, 14 extra nodes, 4 pruned nodes, max_depth=5\u001b[0m\n",
      "\u001b[31m[128]#011train-error:0.090933#011validation-error:0.1429\u001b[0m\n",
      "\u001b[31m[21:51:30] src/tree/updater_prune.cc:74: tree pruning end, 1 roots, 12 extra nodes, 16 pruned nodes, max_depth=5\u001b[0m\n",
      "\u001b[31m[129]#011train-error:0.090667#011validation-error:0.1426\u001b[0m\n",
      "\u001b[31m[21:51:31] src/tree/updater_prune.cc:74: tree pruning end, 1 roots, 16 extra nodes, 4 pruned nodes, max_depth=5\u001b[0m\n",
      "\u001b[31m[130]#011train-error:0.089867#011validation-error:0.1425\u001b[0m\n",
      "\u001b[31m[21:51:32] src/tree/updater_prune.cc:74: tree pruning end, 1 roots, 36 extra nodes, 10 pruned nodes, max_depth=5\u001b[0m\n",
      "\u001b[31m[131]#011train-error:0.0898#011validation-error:0.1421\u001b[0m\n",
      "\u001b[31m[21:51:33] src/tree/updater_prune.cc:74: tree pruning end, 1 roots, 10 extra nodes, 4 pruned nodes, max_depth=5\u001b[0m\n",
      "\u001b[31m[132]#011train-error:0.089733#011validation-error:0.1417\u001b[0m\n",
      "\u001b[31m[21:51:35] src/tree/updater_prune.cc:74: tree pruning end, 1 roots, 12 extra nodes, 4 pruned nodes, max_depth=5\u001b[0m\n",
      "\u001b[31m[133]#011train-error:0.0894#011validation-error:0.1414\u001b[0m\n",
      "\u001b[31m[21:51:36] src/tree/updater_prune.cc:74: tree pruning end, 1 roots, 14 extra nodes, 6 pruned nodes, max_depth=5\u001b[0m\n",
      "\u001b[31m[134]#011train-error:0.089067#011validation-error:0.1412\u001b[0m\n",
      "\u001b[31m[21:51:37] src/tree/updater_prune.cc:74: tree pruning end, 1 roots, 14 extra nodes, 16 pruned nodes, max_depth=5\u001b[0m\n",
      "\u001b[31m[135]#011train-error:0.089133#011validation-error:0.1415\u001b[0m\n"
     ]
    },
    {
     "name": "stdout",
     "output_type": "stream",
     "text": [
      "\u001b[31m[21:51:39] src/tree/updater_prune.cc:74: tree pruning end, 1 roots, 18 extra nodes, 4 pruned nodes, max_depth=5\u001b[0m\n",
      "\u001b[31m[136]#011train-error:0.088933#011validation-error:0.1416\u001b[0m\n",
      "\u001b[31m[21:51:40] src/tree/updater_prune.cc:74: tree pruning end, 1 roots, 18 extra nodes, 8 pruned nodes, max_depth=5\u001b[0m\n",
      "\u001b[31m[137]#011train-error:0.088733#011validation-error:0.1417\u001b[0m\n",
      "\u001b[31m[21:51:41] src/tree/updater_prune.cc:74: tree pruning end, 1 roots, 14 extra nodes, 4 pruned nodes, max_depth=5\u001b[0m\n",
      "\u001b[31m[138]#011train-error:0.088467#011validation-error:0.1407\u001b[0m\n",
      "\u001b[31m[21:51:42] src/tree/updater_prune.cc:74: tree pruning end, 1 roots, 20 extra nodes, 12 pruned nodes, max_depth=5\u001b[0m\n",
      "\u001b[31m[139]#011train-error:0.088133#011validation-error:0.1405\u001b[0m\n",
      "\u001b[31m[21:51:44] src/tree/updater_prune.cc:74: tree pruning end, 1 roots, 16 extra nodes, 6 pruned nodes, max_depth=5\u001b[0m\n",
      "\u001b[31m[140]#011train-error:0.088067#011validation-error:0.1414\u001b[0m\n",
      "\u001b[31m[21:51:45] src/tree/updater_prune.cc:74: tree pruning end, 1 roots, 26 extra nodes, 8 pruned nodes, max_depth=5\u001b[0m\n",
      "\u001b[31m[141]#011train-error:0.087333#011validation-error:0.1422\u001b[0m\n",
      "\u001b[31m[21:51:46] src/tree/updater_prune.cc:74: tree pruning end, 1 roots, 30 extra nodes, 10 pruned nodes, max_depth=5\u001b[0m\n",
      "\u001b[31m[142]#011train-error:0.086933#011validation-error:0.1409\u001b[0m\n",
      "\u001b[31m[21:51:47] src/tree/updater_prune.cc:74: tree pruning end, 1 roots, 14 extra nodes, 4 pruned nodes, max_depth=5\u001b[0m\n",
      "\u001b[31m[143]#011train-error:0.086733#011validation-error:0.1407\u001b[0m\n",
      "\u001b[31m[21:51:49] src/tree/updater_prune.cc:74: tree pruning end, 1 roots, 16 extra nodes, 12 pruned nodes, max_depth=5\u001b[0m\n",
      "\u001b[31m[144]#011train-error:0.086067#011validation-error:0.1406\u001b[0m\n",
      "\u001b[31m[21:51:50] src/tree/updater_prune.cc:74: tree pruning end, 1 roots, 14 extra nodes, 10 pruned nodes, max_depth=5\u001b[0m\n",
      "\u001b[31m[145]#011train-error:0.086333#011validation-error:0.1403\u001b[0m\n",
      "\u001b[31m[21:51:51] src/tree/updater_prune.cc:74: tree pruning end, 1 roots, 12 extra nodes, 14 pruned nodes, max_depth=5\u001b[0m\n",
      "\u001b[31m[146]#011train-error:0.086267#011validation-error:0.1404\u001b[0m\n",
      "\u001b[31m[21:51:52] src/tree/updater_prune.cc:74: tree pruning end, 1 roots, 10 extra nodes, 2 pruned nodes, max_depth=5\u001b[0m\n",
      "\u001b[31m[147]#011train-error:0.086267#011validation-error:0.1398\u001b[0m\n",
      "\u001b[31m[21:51:54] src/tree/updater_prune.cc:74: tree pruning end, 1 roots, 12 extra nodes, 18 pruned nodes, max_depth=5\u001b[0m\n",
      "\u001b[31m[148]#011train-error:0.0862#011validation-error:0.1392\u001b[0m\n",
      "\u001b[31m[21:51:55] src/tree/updater_prune.cc:74: tree pruning end, 1 roots, 14 extra nodes, 6 pruned nodes, max_depth=5\u001b[0m\n",
      "\u001b[31m[149]#011train-error:0.086133#011validation-error:0.1392\u001b[0m\n",
      "\u001b[31m[21:51:56] src/tree/updater_prune.cc:74: tree pruning end, 1 roots, 34 extra nodes, 6 pruned nodes, max_depth=5\u001b[0m\n",
      "\u001b[31m[150]#011train-error:0.085#011validation-error:0.14\u001b[0m\n",
      "\u001b[31m[21:51:58] src/tree/updater_prune.cc:74: tree pruning end, 1 roots, 10 extra nodes, 4 pruned nodes, max_depth=5\u001b[0m\n",
      "\u001b[31m[151]#011train-error:0.084867#011validation-error:0.1398\u001b[0m\n",
      "\u001b[31m[21:51:59] src/tree/updater_prune.cc:74: tree pruning end, 1 roots, 12 extra nodes, 12 pruned nodes, max_depth=5\u001b[0m\n",
      "\u001b[31m[152]#011train-error:0.085133#011validation-error:0.1391\u001b[0m\n",
      "\u001b[31m[21:52:00] src/tree/updater_prune.cc:74: tree pruning end, 1 roots, 12 extra nodes, 12 pruned nodes, max_depth=5\u001b[0m\n",
      "\u001b[31m[153]#011train-error:0.084467#011validation-error:0.139\u001b[0m\n",
      "\u001b[31m[21:52:01] src/tree/updater_prune.cc:74: tree pruning end, 1 roots, 12 extra nodes, 8 pruned nodes, max_depth=5\u001b[0m\n",
      "\u001b[31m[154]#011train-error:0.084667#011validation-error:0.139\u001b[0m\n",
      "\u001b[31m[21:52:03] src/tree/updater_prune.cc:74: tree pruning end, 1 roots, 10 extra nodes, 8 pruned nodes, max_depth=5\u001b[0m\n",
      "\u001b[31m[155]#011train-error:0.084133#011validation-error:0.1384\u001b[0m\n",
      "\u001b[31m[21:52:04] src/tree/updater_prune.cc:74: tree pruning end, 1 roots, 24 extra nodes, 14 pruned nodes, max_depth=5\u001b[0m\n",
      "\u001b[31m[156]#011train-error:0.083667#011validation-error:0.1381\u001b[0m\n",
      "\u001b[31m[21:52:05] src/tree/updater_prune.cc:74: tree pruning end, 1 roots, 10 extra nodes, 0 pruned nodes, max_depth=5\u001b[0m\n",
      "\u001b[31m[157]#011train-error:0.083733#011validation-error:0.1381\u001b[0m\n",
      "\u001b[31m[21:52:06] src/tree/updater_prune.cc:74: tree pruning end, 1 roots, 20 extra nodes, 8 pruned nodes, max_depth=5\u001b[0m\n",
      "\u001b[31m[158]#011train-error:0.083333#011validation-error:0.1378\u001b[0m\n",
      "\u001b[31m[21:52:08] src/tree/updater_prune.cc:74: tree pruning end, 1 roots, 20 extra nodes, 6 pruned nodes, max_depth=5\u001b[0m\n",
      "\u001b[31m[159]#011train-error:0.082867#011validation-error:0.1381\u001b[0m\n",
      "\u001b[31m[21:52:09] src/tree/updater_prune.cc:74: tree pruning end, 1 roots, 22 extra nodes, 6 pruned nodes, max_depth=5\u001b[0m\n",
      "\u001b[31m[160]#011train-error:0.0822#011validation-error:0.1387\u001b[0m\n",
      "\u001b[31m[21:52:10] src/tree/updater_prune.cc:74: tree pruning end, 1 roots, 12 extra nodes, 4 pruned nodes, max_depth=5\u001b[0m\n",
      "\u001b[31m[161]#011train-error:0.082267#011validation-error:0.1382\u001b[0m\n",
      "\u001b[31m[21:52:11] src/tree/updater_prune.cc:74: tree pruning end, 1 roots, 14 extra nodes, 6 pruned nodes, max_depth=5\u001b[0m\n",
      "\u001b[31m[162]#011train-error:0.0816#011validation-error:0.1384\u001b[0m\n",
      "\u001b[31m[21:52:13] src/tree/updater_prune.cc:74: tree pruning end, 1 roots, 20 extra nodes, 6 pruned nodes, max_depth=5\u001b[0m\n",
      "\u001b[31m[163]#011train-error:0.081333#011validation-error:0.1387\u001b[0m\n",
      "\u001b[31m[21:52:14] src/tree/updater_prune.cc:74: tree pruning end, 1 roots, 14 extra nodes, 8 pruned nodes, max_depth=5\u001b[0m\n",
      "\u001b[31m[164]#011train-error:0.081133#011validation-error:0.1378\u001b[0m\n",
      "\u001b[31m[21:52:15] src/tree/updater_prune.cc:74: tree pruning end, 1 roots, 12 extra nodes, 4 pruned nodes, max_depth=5\u001b[0m\n",
      "\u001b[31m[165]#011train-error:0.081267#011validation-error:0.1373\u001b[0m\n",
      "\u001b[31m[21:52:17] src/tree/updater_prune.cc:74: tree pruning end, 1 roots, 16 extra nodes, 4 pruned nodes, max_depth=5\u001b[0m\n",
      "\u001b[31m[166]#011train-error:0.080533#011validation-error:0.1373\u001b[0m\n",
      "\u001b[31m[21:52:18] src/tree/updater_prune.cc:74: tree pruning end, 1 roots, 10 extra nodes, 6 pruned nodes, max_depth=5\u001b[0m\n",
      "\u001b[31m[167]#011train-error:0.080267#011validation-error:0.1379\u001b[0m\n",
      "\u001b[31m[21:52:19] src/tree/updater_prune.cc:74: tree pruning end, 1 roots, 12 extra nodes, 4 pruned nodes, max_depth=5\u001b[0m\n",
      "\u001b[31m[168]#011train-error:0.079533#011validation-error:0.1374\u001b[0m\n",
      "\u001b[31m[21:52:20] src/tree/updater_prune.cc:74: tree pruning end, 1 roots, 12 extra nodes, 6 pruned nodes, max_depth=5\u001b[0m\n",
      "\u001b[31m[169]#011train-error:0.079133#011validation-error:0.1372\u001b[0m\n",
      "\u001b[31m[21:52:22] src/tree/updater_prune.cc:74: tree pruning end, 1 roots, 22 extra nodes, 4 pruned nodes, max_depth=5\u001b[0m\n",
      "\u001b[31m[170]#011train-error:0.0796#011validation-error:0.1373\u001b[0m\n",
      "\u001b[31m[21:52:23] src/tree/updater_prune.cc:74: tree pruning end, 1 roots, 16 extra nodes, 2 pruned nodes, max_depth=5\u001b[0m\n",
      "\u001b[31m[171]#011train-error:0.079333#011validation-error:0.136\u001b[0m\n",
      "\u001b[31m[21:52:24] src/tree/updater_prune.cc:74: tree pruning end, 1 roots, 12 extra nodes, 0 pruned nodes, max_depth=5\u001b[0m\n",
      "\u001b[31m[172]#011train-error:0.079467#011validation-error:0.1361\u001b[0m\n",
      "\u001b[31m[21:52:25] src/tree/updater_prune.cc:74: tree pruning end, 1 roots, 20 extra nodes, 28 pruned nodes, max_depth=5\u001b[0m\n",
      "\u001b[31m[173]#011train-error:0.079267#011validation-error:0.136\u001b[0m\n",
      "\u001b[31m[21:52:27] src/tree/updater_prune.cc:74: tree pruning end, 1 roots, 18 extra nodes, 16 pruned nodes, max_depth=5\u001b[0m\n",
      "\u001b[31m[174]#011train-error:0.079067#011validation-error:0.1346\u001b[0m\n",
      "\u001b[31m[21:52:28] src/tree/updater_prune.cc:74: tree pruning end, 1 roots, 12 extra nodes, 12 pruned nodes, max_depth=5\u001b[0m\n",
      "\u001b[31m[175]#011train-error:0.0788#011validation-error:0.1347\u001b[0m\n",
      "\u001b[31m[21:52:29] src/tree/updater_prune.cc:74: tree pruning end, 1 roots, 14 extra nodes, 10 pruned nodes, max_depth=5\u001b[0m\n",
      "\u001b[31m[176]#011train-error:0.078467#011validation-error:0.1344\u001b[0m\n",
      "\u001b[31m[21:52:30] src/tree/updater_prune.cc:74: tree pruning end, 1 roots, 12 extra nodes, 8 pruned nodes, max_depth=5\u001b[0m\n",
      "\u001b[31m[177]#011train-error:0.078067#011validation-error:0.1352\u001b[0m\n",
      "\u001b[31m[21:52:32] src/tree/updater_prune.cc:74: tree pruning end, 1 roots, 10 extra nodes, 8 pruned nodes, max_depth=5\u001b[0m\n",
      "\u001b[31m[178]#011train-error:0.078067#011validation-error:0.1345\u001b[0m\n",
      "\u001b[31m[21:52:33] src/tree/updater_prune.cc:74: tree pruning end, 1 roots, 24 extra nodes, 6 pruned nodes, max_depth=5\u001b[0m\n",
      "\u001b[31m[179]#011train-error:0.076733#011validation-error:0.134\u001b[0m\n",
      "\u001b[31m[21:52:34] src/tree/updater_prune.cc:74: tree pruning end, 1 roots, 28 extra nodes, 14 pruned nodes, max_depth=5\u001b[0m\n",
      "\u001b[31m[180]#011train-error:0.076667#011validation-error:0.1344\u001b[0m\n",
      "\u001b[31m[21:52:35] src/tree/updater_prune.cc:74: tree pruning end, 1 roots, 10 extra nodes, 14 pruned nodes, max_depth=5\u001b[0m\n",
      "\u001b[31m[181]#011train-error:0.0766#011validation-error:0.134\u001b[0m\n",
      "\u001b[31m[21:52:37] src/tree/updater_prune.cc:74: tree pruning end, 1 roots, 22 extra nodes, 12 pruned nodes, max_depth=5\u001b[0m\n",
      "\u001b[31m[182]#011train-error:0.0758#011validation-error:0.1331\u001b[0m\n",
      "\u001b[31m[21:52:38] src/tree/updater_prune.cc:74: tree pruning end, 1 roots, 18 extra nodes, 6 pruned nodes, max_depth=5\u001b[0m\n",
      "\u001b[31m[183]#011train-error:0.075667#011validation-error:0.134\u001b[0m\n"
     ]
    },
    {
     "name": "stdout",
     "output_type": "stream",
     "text": [
      "\u001b[31m[21:52:39] src/tree/updater_prune.cc:74: tree pruning end, 1 roots, 10 extra nodes, 4 pruned nodes, max_depth=5\u001b[0m\n",
      "\u001b[31m[184]#011train-error:0.075467#011validation-error:0.1341\u001b[0m\n",
      "\u001b[31m[21:52:41] src/tree/updater_prune.cc:74: tree pruning end, 1 roots, 18 extra nodes, 10 pruned nodes, max_depth=5\u001b[0m\n",
      "\u001b[31m[185]#011train-error:0.074733#011validation-error:0.134\u001b[0m\n",
      "\u001b[31m[21:52:42] src/tree/updater_prune.cc:74: tree pruning end, 1 roots, 10 extra nodes, 8 pruned nodes, max_depth=5\u001b[0m\n",
      "\u001b[31m[186]#011train-error:0.074667#011validation-error:0.1343\u001b[0m\n",
      "\u001b[31m[21:52:43] src/tree/updater_prune.cc:74: tree pruning end, 1 roots, 14 extra nodes, 6 pruned nodes, max_depth=5\u001b[0m\n",
      "\u001b[31m[187]#011train-error:0.0742#011validation-error:0.1343\u001b[0m\n",
      "\u001b[31m[21:52:44] src/tree/updater_prune.cc:74: tree pruning end, 1 roots, 16 extra nodes, 6 pruned nodes, max_depth=5\u001b[0m\n",
      "\u001b[31m[188]#011train-error:0.074067#011validation-error:0.134\u001b[0m\n",
      "\u001b[31m[21:52:46] src/tree/updater_prune.cc:74: tree pruning end, 1 roots, 20 extra nodes, 6 pruned nodes, max_depth=5\u001b[0m\n",
      "\u001b[31m[189]#011train-error:0.073667#011validation-error:0.1331\u001b[0m\n",
      "\u001b[31m[21:52:47] src/tree/updater_prune.cc:74: tree pruning end, 1 roots, 12 extra nodes, 2 pruned nodes, max_depth=5\u001b[0m\n",
      "\u001b[31m[190]#011train-error:0.0732#011validation-error:0.1324\u001b[0m\n",
      "\u001b[31m[21:52:48] src/tree/updater_prune.cc:74: tree pruning end, 1 roots, 16 extra nodes, 12 pruned nodes, max_depth=5\u001b[0m\n",
      "\u001b[31m[191]#011train-error:0.073067#011validation-error:0.1327\u001b[0m\n",
      "\u001b[31m[21:52:49] src/tree/updater_prune.cc:74: tree pruning end, 1 roots, 14 extra nodes, 8 pruned nodes, max_depth=5\u001b[0m\n",
      "\u001b[31m[192]#011train-error:0.0728#011validation-error:0.1325\u001b[0m\n",
      "\u001b[31m[21:52:51] src/tree/updater_prune.cc:74: tree pruning end, 1 roots, 26 extra nodes, 2 pruned nodes, max_depth=5\u001b[0m\n",
      "\u001b[31m[193]#011train-error:0.072267#011validation-error:0.1316\u001b[0m\n",
      "\u001b[31m[21:52:52] src/tree/updater_prune.cc:74: tree pruning end, 1 roots, 12 extra nodes, 6 pruned nodes, max_depth=5\u001b[0m\n",
      "\u001b[31m[194]#011train-error:0.0722#011validation-error:0.1313\u001b[0m\n",
      "\u001b[31m[21:52:53] src/tree/updater_prune.cc:74: tree pruning end, 1 roots, 22 extra nodes, 14 pruned nodes, max_depth=5\u001b[0m\n",
      "\u001b[31m[195]#011train-error:0.073067#011validation-error:0.1318\u001b[0m\n",
      "\u001b[31m[21:52:54] src/tree/updater_prune.cc:74: tree pruning end, 1 roots, 16 extra nodes, 2 pruned nodes, max_depth=5\u001b[0m\n",
      "\u001b[31m[196]#011train-error:0.072867#011validation-error:0.1317\u001b[0m\n",
      "\u001b[31m[21:52:56] src/tree/updater_prune.cc:74: tree pruning end, 1 roots, 12 extra nodes, 12 pruned nodes, max_depth=5\u001b[0m\n",
      "\u001b[31m[197]#011train-error:0.072867#011validation-error:0.1311\u001b[0m\n",
      "\u001b[31m[21:52:57] src/tree/updater_prune.cc:74: tree pruning end, 1 roots, 16 extra nodes, 4 pruned nodes, max_depth=5\u001b[0m\n",
      "\u001b[31m[198]#011train-error:0.071467#011validation-error:0.1307\u001b[0m\n",
      "\u001b[31m[21:52:58] src/tree/updater_prune.cc:74: tree pruning end, 1 roots, 26 extra nodes, 8 pruned nodes, max_depth=5\u001b[0m\n",
      "\u001b[31m[199]#011train-error:0.0714#011validation-error:0.1301\u001b[0m\n",
      "\u001b[31m[21:52:59] src/tree/updater_prune.cc:74: tree pruning end, 1 roots, 10 extra nodes, 4 pruned nodes, max_depth=5\u001b[0m\n",
      "\u001b[31m[200]#011train-error:0.070867#011validation-error:0.1305\u001b[0m\n",
      "\u001b[31m[21:53:01] src/tree/updater_prune.cc:74: tree pruning end, 1 roots, 10 extra nodes, 12 pruned nodes, max_depth=5\u001b[0m\n",
      "\u001b[31m[201]#011train-error:0.070667#011validation-error:0.1308\u001b[0m\n",
      "\u001b[31m[21:53:02] src/tree/updater_prune.cc:74: tree pruning end, 1 roots, 10 extra nodes, 10 pruned nodes, max_depth=5\u001b[0m\n",
      "\u001b[31m[202]#011train-error:0.070667#011validation-error:0.1307\u001b[0m\n",
      "\u001b[31m[21:53:03] src/tree/updater_prune.cc:74: tree pruning end, 1 roots, 10 extra nodes, 4 pruned nodes, max_depth=5\u001b[0m\n",
      "\u001b[31m[203]#011train-error:0.0704#011validation-error:0.1303\u001b[0m\n",
      "\u001b[31m[21:53:04] src/tree/updater_prune.cc:74: tree pruning end, 1 roots, 22 extra nodes, 8 pruned nodes, max_depth=5\u001b[0m\n",
      "\u001b[31m[204]#011train-error:0.070667#011validation-error:0.13\u001b[0m\n",
      "\u001b[31m[21:53:06] src/tree/updater_prune.cc:74: tree pruning end, 1 roots, 10 extra nodes, 4 pruned nodes, max_depth=5\u001b[0m\n",
      "\u001b[31m[205]#011train-error:0.070267#011validation-error:0.1302\u001b[0m\n",
      "\u001b[31m[21:53:07] src/tree/updater_prune.cc:74: tree pruning end, 1 roots, 16 extra nodes, 2 pruned nodes, max_depth=5\u001b[0m\n",
      "\u001b[31m[206]#011train-error:0.0702#011validation-error:0.1303\u001b[0m\n",
      "\u001b[31m[21:53:08] src/tree/updater_prune.cc:74: tree pruning end, 1 roots, 12 extra nodes, 8 pruned nodes, max_depth=5\u001b[0m\n",
      "\u001b[31m[207]#011train-error:0.0702#011validation-error:0.1302\u001b[0m\n",
      "\u001b[31m[21:53:09] src/tree/updater_prune.cc:74: tree pruning end, 1 roots, 10 extra nodes, 12 pruned nodes, max_depth=5\u001b[0m\n",
      "\u001b[31m[208]#011train-error:0.070133#011validation-error:0.1302\u001b[0m\n",
      "\u001b[31m[21:53:11] src/tree/updater_prune.cc:74: tree pruning end, 1 roots, 12 extra nodes, 8 pruned nodes, max_depth=5\u001b[0m\n",
      "\u001b[31m[209]#011train-error:0.070067#011validation-error:0.13\u001b[0m\n",
      "\u001b[31m[21:53:12] src/tree/updater_prune.cc:74: tree pruning end, 1 roots, 12 extra nodes, 2 pruned nodes, max_depth=5\u001b[0m\n",
      "\u001b[31m[210]#011train-error:0.069933#011validation-error:0.1294\u001b[0m\n",
      "\u001b[31m[21:53:13] src/tree/updater_prune.cc:74: tree pruning end, 1 roots, 10 extra nodes, 4 pruned nodes, max_depth=5\u001b[0m\n",
      "\u001b[31m[211]#011train-error:0.0704#011validation-error:0.1294\u001b[0m\n",
      "\u001b[31m[21:53:15] src/tree/updater_prune.cc:74: tree pruning end, 1 roots, 14 extra nodes, 12 pruned nodes, max_depth=5\u001b[0m\n",
      "\u001b[31m[212]#011train-error:0.0698#011validation-error:0.1296\u001b[0m\n",
      "\u001b[31m[21:53:16] src/tree/updater_prune.cc:74: tree pruning end, 1 roots, 10 extra nodes, 2 pruned nodes, max_depth=5\u001b[0m\n",
      "\u001b[31m[213]#011train-error:0.069733#011validation-error:0.1296\u001b[0m\n",
      "\u001b[31m[21:53:17] src/tree/updater_prune.cc:74: tree pruning end, 1 roots, 10 extra nodes, 10 pruned nodes, max_depth=5\u001b[0m\n",
      "\u001b[31m[214]#011train-error:0.0696#011validation-error:0.1299\u001b[0m\n",
      "\u001b[31m[21:53:18] src/tree/updater_prune.cc:74: tree pruning end, 1 roots, 10 extra nodes, 4 pruned nodes, max_depth=5\u001b[0m\n",
      "\u001b[31m[215]#011train-error:0.07#011validation-error:0.13\u001b[0m\n",
      "\u001b[31m[21:53:20] src/tree/updater_prune.cc:74: tree pruning end, 1 roots, 18 extra nodes, 8 pruned nodes, max_depth=5\u001b[0m\n",
      "\u001b[31m[216]#011train-error:0.0692#011validation-error:0.1299\u001b[0m\n",
      "\u001b[31m[21:53:21] src/tree/updater_prune.cc:74: tree pruning end, 1 roots, 20 extra nodes, 6 pruned nodes, max_depth=5\u001b[0m\n",
      "\u001b[31m[217]#011train-error:0.069067#011validation-error:0.1303\u001b[0m\n",
      "\u001b[31m[21:53:22] src/tree/updater_prune.cc:74: tree pruning end, 1 roots, 10 extra nodes, 2 pruned nodes, max_depth=5\u001b[0m\n",
      "\u001b[31m[218]#011train-error:0.068867#011validation-error:0.1305\u001b[0m\n",
      "\u001b[31m[21:53:23] src/tree/updater_prune.cc:74: tree pruning end, 1 roots, 12 extra nodes, 2 pruned nodes, max_depth=5\u001b[0m\n",
      "\u001b[31m[219]#011train-error:0.0692#011validation-error:0.1302\u001b[0m\n",
      "\u001b[31m[21:53:25] src/tree/updater_prune.cc:74: tree pruning end, 1 roots, 10 extra nodes, 6 pruned nodes, max_depth=5\u001b[0m\n",
      "\u001b[31m[220]#011train-error:0.068867#011validation-error:0.1306\u001b[0m\n",
      "\u001b[31mStopping. Best iteration:\u001b[0m\n",
      "\u001b[31m[210]#011train-error:0.069933#011validation-error:0.1294\n",
      "\u001b[0m\n",
      "\n",
      "2019-11-08 21:53:50 Uploading - Uploading generated training model\n",
      "2019-11-08 21:53:50 Completed - Training job completed\n",
      "Training seconds: 349\n",
      "Billable seconds: 349\n"
     ]
    }
   ],
   "source": [
    "xgb.fit({'train': s3_input_train, 'validation': s3_input_validation})"
   ]
  },
  {
   "cell_type": "markdown",
   "metadata": {},
   "source": [
    "## Step 5: Testing the model\n",
    "\n",
    "Now that we've fit our XGBoost model, it's time to see how well it performs. To do this we will use SageMakers Batch Transform functionality. Batch Transform is a convenient way to perform inference on a large dataset in a way that is not realtime. That is, we don't necessarily need to use our model's results immediately and instead we can perform inference on a large number of samples. An example of this in industry might be performing an end of month report. This method of inference can also be useful to us as it means that we can perform inference on our entire test set. \n",
    "\n",
    "To perform a Batch Transformation we need to first create a transformer objects from our trained estimator object."
   ]
  },
  {
   "cell_type": "code",
   "execution_count": 24,
   "metadata": {},
   "outputs": [],
   "source": [
    "xgb_transformer = xgb.transformer(instance_count = 1, instance_type = 'ml.m4.xlarge')"
   ]
  },
  {
   "cell_type": "markdown",
   "metadata": {},
   "source": [
    "Next we actually perform the transform job. When doing so we need to make sure to specify the type of data we are sending so that it is serialized correctly in the background. In our case we are providing our model with csv data so we specify `text/csv`. Also, if the test data that we have provided is too large to process all at once then we need to specify how the data file should be split up. Since each line is a single entry in our data set we tell SageMaker that it can split the input on each line."
   ]
  },
  {
   "cell_type": "code",
   "execution_count": 25,
   "metadata": {},
   "outputs": [],
   "source": [
    "xgb_transformer.transform(test_location, content_type='text/csv', split_type='Line')"
   ]
  },
  {
   "cell_type": "markdown",
   "metadata": {},
   "source": [
    "Currently the transform job is running but it is doing so in the background. Since we wish to wait until the transform job is done and we would like a bit of feedback we can run the `wait()` method."
   ]
  },
  {
   "cell_type": "code",
   "execution_count": 26,
   "metadata": {},
   "outputs": [
    {
     "name": "stdout",
     "output_type": "stream",
     "text": [
      "....................\u001b[31mArguments: serve\u001b[0m\n",
      "\u001b[32mArguments: serve\u001b[0m\n",
      "\u001b[31m[2019-11-08 21:57:25 +0000] [1] [INFO] Starting gunicorn 19.7.1\u001b[0m\n",
      "\u001b[31m[2019-11-08 21:57:25 +0000] [1] [INFO] Listening at: http://0.0.0.0:8080 (1)\u001b[0m\n",
      "\u001b[31m[2019-11-08 21:57:25 +0000] [1] [INFO] Using worker: gevent\u001b[0m\n",
      "\u001b[31m[2019-11-08 21:57:25 +0000] [37] [INFO] Booting worker with pid: 37\u001b[0m\n",
      "\u001b[31m[2019-11-08 21:57:25 +0000] [38] [INFO] Booting worker with pid: 38\u001b[0m\n",
      "\u001b[31m[2019-11-08:21:57:25:INFO] Model loaded successfully for worker : 37\u001b[0m\n",
      "\u001b[31m[2019-11-08:21:57:25:INFO] Model loaded successfully for worker : 38\u001b[0m\n",
      "\u001b[32m[2019-11-08 21:57:25 +0000] [1] [INFO] Starting gunicorn 19.7.1\u001b[0m\n",
      "\u001b[32m[2019-11-08 21:57:25 +0000] [1] [INFO] Listening at: http://0.0.0.0:8080 (1)\u001b[0m\n",
      "\u001b[32m[2019-11-08 21:57:25 +0000] [1] [INFO] Using worker: gevent\u001b[0m\n",
      "\u001b[32m[2019-11-08 21:57:25 +0000] [37] [INFO] Booting worker with pid: 37\u001b[0m\n",
      "\u001b[32m[2019-11-08 21:57:25 +0000] [38] [INFO] Booting worker with pid: 38\u001b[0m\n",
      "\u001b[32m[2019-11-08:21:57:25:INFO] Model loaded successfully for worker : 37\u001b[0m\n",
      "\u001b[32m[2019-11-08:21:57:25:INFO] Model loaded successfully for worker : 38\u001b[0m\n",
      "\u001b[31m[2019-11-08 21:57:25 +0000] [39] [INFO] Booting worker with pid: 39\u001b[0m\n",
      "\u001b[31m[2019-11-08 21:57:25 +0000] [40] [INFO] Booting worker with pid: 40\u001b[0m\n",
      "\u001b[31m[2019-11-08:21:57:25:INFO] Model loaded successfully for worker : 39\u001b[0m\n",
      "\u001b[31m[2019-11-08:21:57:25:INFO] Model loaded successfully for worker : 40\u001b[0m\n",
      "\u001b[32m[2019-11-08 21:57:25 +0000] [39] [INFO] Booting worker with pid: 39\u001b[0m\n",
      "\u001b[32m[2019-11-08 21:57:25 +0000] [40] [INFO] Booting worker with pid: 40\u001b[0m\n",
      "\u001b[32m[2019-11-08:21:57:25:INFO] Model loaded successfully for worker : 39\u001b[0m\n",
      "\u001b[32m[2019-11-08:21:57:25:INFO] Model loaded successfully for worker : 40\u001b[0m\n",
      "\u001b[33m2019-11-08T21:57:29.172:[sagemaker logs]: MaxConcurrentTransforms=4, MaxPayloadInMB=6, BatchStrategy=MULTI_RECORD\u001b[0m\n",
      "\u001b[31m[2019-11-08:21:57:32:INFO] Sniff delimiter as ','\u001b[0m\n",
      "\u001b[31m[2019-11-08:21:57:32:INFO] Determined delimiter of CSV input is ','\u001b[0m\n",
      "\u001b[32m[2019-11-08:21:57:32:INFO] Sniff delimiter as ','\u001b[0m\n",
      "\u001b[32m[2019-11-08:21:57:32:INFO] Determined delimiter of CSV input is ','\u001b[0m\n",
      "\u001b[31m[2019-11-08:21:57:32:INFO] Sniff delimiter as ','\u001b[0m\n",
      "\u001b[31m[2019-11-08:21:57:32:INFO] Determined delimiter of CSV input is ','\u001b[0m\n",
      "\u001b[31m[2019-11-08:21:57:32:INFO] Sniff delimiter as ','\u001b[0m\n",
      "\u001b[31m[2019-11-08:21:57:32:INFO] Determined delimiter of CSV input is ','\u001b[0m\n",
      "\u001b[31m[2019-11-08:21:57:32:INFO] Sniff delimiter as ','\u001b[0m\n",
      "\u001b[31m[2019-11-08:21:57:32:INFO] Determined delimiter of CSV input is ','\u001b[0m\n",
      "\u001b[32m[2019-11-08:21:57:32:INFO] Sniff delimiter as ','\u001b[0m\n",
      "\u001b[32m[2019-11-08:21:57:32:INFO] Determined delimiter of CSV input is ','\u001b[0m\n",
      "\u001b[32m[2019-11-08:21:57:32:INFO] Sniff delimiter as ','\u001b[0m\n",
      "\u001b[32m[2019-11-08:21:57:32:INFO] Determined delimiter of CSV input is ','\u001b[0m\n",
      "\u001b[32m[2019-11-08:21:57:32:INFO] Sniff delimiter as ','\u001b[0m\n",
      "\u001b[32m[2019-11-08:21:57:32:INFO] Determined delimiter of CSV input is ','\u001b[0m\n",
      "\u001b[31m[2019-11-08:21:57:34:INFO] Sniff delimiter as ','\u001b[0m\n",
      "\u001b[31m[2019-11-08:21:57:34:INFO] Determined delimiter of CSV input is ','\u001b[0m\n",
      "\u001b[31m[2019-11-08:21:57:34:INFO] Sniff delimiter as ','\u001b[0m\n",
      "\u001b[31m[2019-11-08:21:57:34:INFO] Determined delimiter of CSV input is ','\u001b[0m\n",
      "\u001b[31m[2019-11-08:21:57:35:INFO] Sniff delimiter as ','\u001b[0m\n",
      "\u001b[31m[2019-11-08:21:57:35:INFO] Determined delimiter of CSV input is ','\u001b[0m\n",
      "\u001b[32m[2019-11-08:21:57:34:INFO] Sniff delimiter as ','\u001b[0m\n",
      "\u001b[32m[2019-11-08:21:57:34:INFO] Determined delimiter of CSV input is ','\u001b[0m\n",
      "\u001b[32m[2019-11-08:21:57:34:INFO] Sniff delimiter as ','\u001b[0m\n",
      "\u001b[32m[2019-11-08:21:57:34:INFO] Determined delimiter of CSV input is ','\u001b[0m\n",
      "\u001b[32m[2019-11-08:21:57:35:INFO] Sniff delimiter as ','\u001b[0m\n",
      "\u001b[32m[2019-11-08:21:57:35:INFO] Determined delimiter of CSV input is ','\u001b[0m\n",
      "\u001b[31m[2019-11-08:21:57:35:INFO] Sniff delimiter as ','\u001b[0m\n",
      "\u001b[31m[2019-11-08:21:57:35:INFO] Determined delimiter of CSV input is ','\u001b[0m\n",
      "\u001b[32m[2019-11-08:21:57:35:INFO] Sniff delimiter as ','\u001b[0m\n",
      "\u001b[32m[2019-11-08:21:57:35:INFO] Determined delimiter of CSV input is ','\u001b[0m\n",
      "\u001b[31m[2019-11-08:21:57:37:INFO] Sniff delimiter as ','\u001b[0m\n",
      "\u001b[31m[2019-11-08:21:57:37:INFO] Determined delimiter of CSV input is ','\u001b[0m\n",
      "\u001b[31m[2019-11-08:21:57:37:INFO] Sniff delimiter as ','\u001b[0m\n",
      "\u001b[31m[2019-11-08:21:57:37:INFO] Determined delimiter of CSV input is ','\u001b[0m\n",
      "\u001b[31m[2019-11-08:21:57:37:INFO] Sniff delimiter as ','\u001b[0m\n",
      "\u001b[31m[2019-11-08:21:57:37:INFO] Determined delimiter of CSV input is ','\u001b[0m\n",
      "\u001b[32m[2019-11-08:21:57:37:INFO] Sniff delimiter as ','\u001b[0m\n",
      "\u001b[32m[2019-11-08:21:57:37:INFO] Determined delimiter of CSV input is ','\u001b[0m\n",
      "\u001b[32m[2019-11-08:21:57:37:INFO] Sniff delimiter as ','\u001b[0m\n",
      "\u001b[32m[2019-11-08:21:57:37:INFO] Determined delimiter of CSV input is ','\u001b[0m\n",
      "\u001b[32m[2019-11-08:21:57:37:INFO] Sniff delimiter as ','\u001b[0m\n",
      "\u001b[32m[2019-11-08:21:57:37:INFO] Determined delimiter of CSV input is ','\u001b[0m\n",
      "\u001b[31m[2019-11-08:21:57:39:INFO] Sniff delimiter as ','\u001b[0m\n",
      "\u001b[31m[2019-11-08:21:57:39:INFO] Determined delimiter of CSV input is ','\u001b[0m\n",
      "\u001b[31m[2019-11-08:21:57:39:INFO] Sniff delimiter as ','\u001b[0m\n",
      "\u001b[31m[2019-11-08:21:57:39:INFO] Determined delimiter of CSV input is ','\u001b[0m\n",
      "\u001b[31m[2019-11-08:21:57:39:INFO] Sniff delimiter as ','\u001b[0m\n",
      "\u001b[31m[2019-11-08:21:57:39:INFO] Determined delimiter of CSV input is ','\u001b[0m\n",
      "\u001b[31m[2019-11-08:21:57:40:INFO] Sniff delimiter as ','\u001b[0m\n",
      "\u001b[31m[2019-11-08:21:57:40:INFO] Determined delimiter of CSV input is ','\u001b[0m\n",
      "\u001b[32m[2019-11-08:21:57:39:INFO] Sniff delimiter as ','\u001b[0m\n",
      "\u001b[32m[2019-11-08:21:57:39:INFO] Determined delimiter of CSV input is ','\u001b[0m\n",
      "\u001b[32m[2019-11-08:21:57:39:INFO] Sniff delimiter as ','\u001b[0m\n",
      "\u001b[32m[2019-11-08:21:57:39:INFO] Determined delimiter of CSV input is ','\u001b[0m\n",
      "\u001b[32m[2019-11-08:21:57:39:INFO] Sniff delimiter as ','\u001b[0m\n",
      "\u001b[32m[2019-11-08:21:57:39:INFO] Determined delimiter of CSV input is ','\u001b[0m\n",
      "\u001b[32m[2019-11-08:21:57:40:INFO] Sniff delimiter as ','\u001b[0m\n",
      "\u001b[32m[2019-11-08:21:57:40:INFO] Determined delimiter of CSV input is ','\u001b[0m\n",
      "\u001b[31m[2019-11-08:21:57:41:INFO] Sniff delimiter as ','\u001b[0m\n",
      "\u001b[31m[2019-11-08:21:57:41:INFO] Determined delimiter of CSV input is ','\u001b[0m\n",
      "\u001b[31m[2019-11-08:21:57:42:INFO] Sniff delimiter as ','\u001b[0m\n",
      "\u001b[31m[2019-11-08:21:57:42:INFO] Determined delimiter of CSV input is ','\u001b[0m\n",
      "\u001b[31m[2019-11-08:21:57:42:INFO] Sniff delimiter as ','\u001b[0m\n",
      "\u001b[31m[2019-11-08:21:57:42:INFO] Determined delimiter of CSV input is ','\u001b[0m\n",
      "\u001b[32m[2019-11-08:21:57:41:INFO] Sniff delimiter as ','\u001b[0m\n",
      "\u001b[32m[2019-11-08:21:57:41:INFO] Determined delimiter of CSV input is ','\u001b[0m\n",
      "\u001b[32m[2019-11-08:21:57:42:INFO] Sniff delimiter as ','\u001b[0m\n",
      "\u001b[32m[2019-11-08:21:57:42:INFO] Determined delimiter of CSV input is ','\u001b[0m\n",
      "\u001b[32m[2019-11-08:21:57:42:INFO] Sniff delimiter as ','\u001b[0m\n",
      "\u001b[32m[2019-11-08:21:57:42:INFO] Determined delimiter of CSV input is ','\u001b[0m\n",
      "\u001b[31m[2019-11-08:21:57:42:INFO] Sniff delimiter as ','\u001b[0m\n",
      "\u001b[31m[2019-11-08:21:57:42:INFO] Determined delimiter of CSV input is ','\u001b[0m\n",
      "\u001b[32m[2019-11-08:21:57:42:INFO] Sniff delimiter as ','\u001b[0m\n",
      "\u001b[32m[2019-11-08:21:57:42:INFO] Determined delimiter of CSV input is ','\u001b[0m\n",
      "\u001b[31m[2019-11-08:21:57:44:INFO] Sniff delimiter as ','\u001b[0m\n",
      "\u001b[31m[2019-11-08:21:57:44:INFO] Determined delimiter of CSV input is ','\u001b[0m\n",
      "\u001b[32m[2019-11-08:21:57:44:INFO] Sniff delimiter as ','\u001b[0m\n",
      "\u001b[32m[2019-11-08:21:57:44:INFO] Determined delimiter of CSV input is ','\u001b[0m\n",
      "\u001b[31m[2019-11-08:21:57:44:INFO] Sniff delimiter as ','\u001b[0m\n",
      "\u001b[31m[2019-11-08:21:57:44:INFO] Determined delimiter of CSV input is ','\u001b[0m\n",
      "\u001b[31m[2019-11-08:21:57:44:INFO] Sniff delimiter as ','\u001b[0m\n",
      "\u001b[31m[2019-11-08:21:57:44:INFO] Determined delimiter of CSV input is ','\u001b[0m\n",
      "\u001b[31m[2019-11-08:21:57:44:INFO] Sniff delimiter as ','\u001b[0m\n",
      "\u001b[31m[2019-11-08:21:57:44:INFO] Determined delimiter of CSV input is ','\u001b[0m\n",
      "\u001b[32m[2019-11-08:21:57:44:INFO] Sniff delimiter as ','\u001b[0m\n",
      "\u001b[32m[2019-11-08:21:57:44:INFO] Determined delimiter of CSV input is ','\u001b[0m\n",
      "\u001b[32m[2019-11-08:21:57:44:INFO] Sniff delimiter as ','\u001b[0m\n",
      "\u001b[32m[2019-11-08:21:57:44:INFO] Determined delimiter of CSV input is ','\u001b[0m\n",
      "\u001b[32m[2019-11-08:21:57:44:INFO] Sniff delimiter as ','\u001b[0m\n",
      "\u001b[32m[2019-11-08:21:57:44:INFO] Determined delimiter of CSV input is ','\u001b[0m\n",
      "\u001b[31m[2019-11-08:21:57:47:INFO] Sniff delimiter as ','\u001b[0m\n",
      "\u001b[31m[2019-11-08:21:57:47:INFO] Determined delimiter of CSV input is ','\u001b[0m\n",
      "\u001b[32m[2019-11-08:21:57:47:INFO] Sniff delimiter as ','\u001b[0m\n",
      "\u001b[32m[2019-11-08:21:57:47:INFO] Determined delimiter of CSV input is ','\u001b[0m\n",
      "\u001b[31m[2019-11-08:21:57:49:INFO] Sniff delimiter as ','\u001b[0m\n",
      "\u001b[31m[2019-11-08:21:57:49:INFO] Determined delimiter of CSV input is ','\u001b[0m\n",
      "\u001b[31m[2019-11-08:21:57:49:INFO] Sniff delimiter as ','\u001b[0m\n",
      "\u001b[31m[2019-11-08:21:57:49:INFO] Determined delimiter of CSV input is ','\u001b[0m\n",
      "\u001b[32m[2019-11-08:21:57:49:INFO] Sniff delimiter as ','\u001b[0m\n",
      "\u001b[32m[2019-11-08:21:57:49:INFO] Determined delimiter of CSV input is ','\u001b[0m\n",
      "\u001b[32m[2019-11-08:21:57:49:INFO] Sniff delimiter as ','\u001b[0m\n",
      "\u001b[32m[2019-11-08:21:57:49:INFO] Determined delimiter of CSV input is ','\u001b[0m\n",
      "\u001b[31m[2019-11-08:21:57:49:INFO] Sniff delimiter as ','\u001b[0m\n",
      "\u001b[31m[2019-11-08:21:57:49:INFO] Determined delimiter of CSV input is ','\u001b[0m\n",
      "\u001b[31m[2019-11-08:21:57:49:INFO] Sniff delimiter as ','\u001b[0m\n",
      "\u001b[31m[2019-11-08:21:57:49:INFO] Determined delimiter of CSV input is ','\u001b[0m\n",
      "\u001b[32m[2019-11-08:21:57:49:INFO] Sniff delimiter as ','\u001b[0m\n",
      "\u001b[32m[2019-11-08:21:57:49:INFO] Determined delimiter of CSV input is ','\u001b[0m\n",
      "\u001b[32m[2019-11-08:21:57:49:INFO] Sniff delimiter as ','\u001b[0m\n",
      "\u001b[32m[2019-11-08:21:57:49:INFO] Determined delimiter of CSV input is ','\u001b[0m\n",
      "\u001b[31m[2019-11-08:21:57:51:INFO] Sniff delimiter as ','\u001b[0m\n",
      "\u001b[31m[2019-11-08:21:57:51:INFO] Determined delimiter of CSV input is ','\u001b[0m\n",
      "\u001b[31m[2019-11-08:21:57:51:INFO] Sniff delimiter as ','\u001b[0m\n",
      "\u001b[31m[2019-11-08:21:57:51:INFO] Determined delimiter of CSV input is ','\u001b[0m\n",
      "\u001b[31m[2019-11-08:21:57:51:INFO] Sniff delimiter as ','\u001b[0m\n",
      "\u001b[31m[2019-11-08:21:57:51:INFO] Determined delimiter of CSV input is ','\u001b[0m\n",
      "\u001b[32m[2019-11-08:21:57:51:INFO] Sniff delimiter as ','\u001b[0m\n",
      "\u001b[32m[2019-11-08:21:57:51:INFO] Determined delimiter of CSV input is ','\u001b[0m\n",
      "\u001b[32m[2019-11-08:21:57:51:INFO] Sniff delimiter as ','\u001b[0m\n",
      "\u001b[32m[2019-11-08:21:57:51:INFO] Determined delimiter of CSV input is ','\u001b[0m\n",
      "\u001b[32m[2019-11-08:21:57:51:INFO] Sniff delimiter as ','\u001b[0m\n",
      "\u001b[32m[2019-11-08:21:57:51:INFO] Determined delimiter of CSV input is ','\u001b[0m\n",
      "\u001b[31m[2019-11-08:21:57:51:INFO] Sniff delimiter as ','\u001b[0m\n",
      "\u001b[31m[2019-11-08:21:57:51:INFO] Determined delimiter of CSV input is ','\u001b[0m\n",
      "\u001b[32m[2019-11-08:21:57:51:INFO] Sniff delimiter as ','\u001b[0m\n",
      "\u001b[32m[2019-11-08:21:57:51:INFO] Determined delimiter of CSV input is ','\u001b[0m\n",
      "\u001b[31m[2019-11-08:21:57:53:INFO] Sniff delimiter as ','\u001b[0m\n",
      "\u001b[31m[2019-11-08:21:57:53:INFO] Determined delimiter of CSV input is ','\u001b[0m\n",
      "\u001b[31m[2019-11-08:21:57:53:INFO] Sniff delimiter as ','\u001b[0m\n",
      "\u001b[31m[2019-11-08:21:57:53:INFO] Determined delimiter of CSV input is ','\u001b[0m\n",
      "\u001b[32m[2019-11-08:21:57:53:INFO] Sniff delimiter as ','\u001b[0m\n",
      "\u001b[32m[2019-11-08:21:57:53:INFO] Determined delimiter of CSV input is ','\u001b[0m\n",
      "\u001b[32m[2019-11-08:21:57:53:INFO] Sniff delimiter as ','\u001b[0m\n",
      "\u001b[32m[2019-11-08:21:57:53:INFO] Determined delimiter of CSV input is ','\u001b[0m\n",
      "\u001b[31m[2019-11-08:21:57:54:INFO] Sniff delimiter as ','\u001b[0m\n",
      "\u001b[31m[2019-11-08:21:57:54:INFO] Determined delimiter of CSV input is ','\u001b[0m\n",
      "\u001b[32m[2019-11-08:21:57:54:INFO] Sniff delimiter as ','\u001b[0m\n",
      "\u001b[32m[2019-11-08:21:57:54:INFO] Determined delimiter of CSV input is ','\u001b[0m\n",
      "\u001b[31m[2019-11-08:21:57:54:INFO] Sniff delimiter as ','\u001b[0m\n",
      "\u001b[31m[2019-11-08:21:57:54:INFO] Determined delimiter of CSV input is ','\u001b[0m\n",
      "\u001b[32m[2019-11-08:21:57:54:INFO] Sniff delimiter as ','\u001b[0m\n",
      "\u001b[32m[2019-11-08:21:57:54:INFO] Determined delimiter of CSV input is ','\u001b[0m\n"
     ]
    },
    {
     "name": "stdout",
     "output_type": "stream",
     "text": [
      "\n"
     ]
    }
   ],
   "source": [
    "xgb_transformer.wait()"
   ]
  },
  {
   "cell_type": "markdown",
   "metadata": {},
   "source": [
    "Now the transform job has executed and the result, the estimated sentiment of each review, has been saved on S3. Since we would rather work on this file locally we can perform a bit of notebook magic to copy the file to the `data_dir`."
   ]
  },
  {
   "cell_type": "code",
   "execution_count": 27,
   "metadata": {},
   "outputs": [
    {
     "name": "stdout",
     "output_type": "stream",
     "text": [
      "download: s3://sagemaker-eu-central-1-712619796631/xgboost-2019-11-08-21-54-16-313/test.csv.out to ../data/sentiment_web_app/test.csv.out\n"
     ]
    }
   ],
   "source": [
    "!aws s3 cp --recursive $xgb_transformer.output_path $data_dir"
   ]
  },
  {
   "cell_type": "markdown",
   "metadata": {},
   "source": [
    "The last step is now to read in the output from our model, convert the output to something a little more usable, in this case we want the sentiment to be either `1` (positive) or `0` (negative), and then compare to the ground truth labels."
   ]
  },
  {
   "cell_type": "code",
   "execution_count": 28,
   "metadata": {},
   "outputs": [],
   "source": [
    "predictions = pd.read_csv(os.path.join(data_dir, 'test.csv.out'), header=None)\n",
    "predictions = [round(num) for num in predictions.squeeze().values]"
   ]
  },
  {
   "cell_type": "code",
   "execution_count": 29,
   "metadata": {},
   "outputs": [
    {
     "data": {
      "text/plain": [
       "0.8652"
      ]
     },
     "execution_count": 29,
     "metadata": {},
     "output_type": "execute_result"
    }
   ],
   "source": [
    "from sklearn.metrics import accuracy_score\n",
    "accuracy_score(test_y, predictions)"
   ]
  },
  {
   "cell_type": "markdown",
   "metadata": {},
   "source": [
    "## Step 6: Deploying the model\n",
    "\n",
    "Once we construct and fit our model, SageMaker stores the resulting model artifacts and we can use those to deploy an endpoint (inference code). To see this, look in the SageMaker console and you should see that a model has been created along with a link to the S3 location where the model artifacts have been stored.\n",
    "\n",
    "Deploying an endpoint is a lot like training the model with a few important differences. The first is that a deployed model doesn't change the model artifacts, so as you send it various testing instances the model won't change. Another difference is that since we aren't performing a fixed computation, as we were in the training step or while performing a batch transform, the compute instance that gets started stays running until we tell it to stop. This is important to note as if we forget and leave it running we will be charged the entire time.\n",
    "\n",
    "In other words **If you are no longer using a deployed endpoint, shut it down!**"
   ]
  },
  {
   "cell_type": "code",
   "execution_count": 30,
   "metadata": {},
   "outputs": [
    {
     "name": "stderr",
     "output_type": "stream",
     "text": [
      "WARNING:sagemaker:Using already existing model: xgboost-2019-11-08-21-46-00-508\n"
     ]
    },
    {
     "name": "stdout",
     "output_type": "stream",
     "text": [
      "--------------------------------------------------------------------------------------!"
     ]
    }
   ],
   "source": [
    "xgb_predictor = xgb.deploy(initial_instance_count = 1, instance_type = 'ml.m4.xlarge')"
   ]
  },
  {
   "cell_type": "markdown",
   "metadata": {},
   "source": [
    "### Testing the model (again)\n",
    "\n",
    "Now that we have deployed our endpoint, we can send the testing data to it and get back the inference results. We already did this earlier using the batch transform functionality of SageMaker, however, we will test our model again using the newly deployed endpoint so that we can make sure that it works properly and to get a bit of a feel for how the endpoint works.\n",
    "\n",
    "When using the created endpoint it is important to know that we are limited in the amount of information we can send in each call so we need to break the testing data up into chunks and then send each chunk. Also, we need to serialize our data before we send it to the endpoint to ensure that our data is transmitted properly. Fortunately, SageMaker can do the serialization part for us provided we tell it the format of our data."
   ]
  },
  {
   "cell_type": "code",
   "execution_count": 31,
   "metadata": {},
   "outputs": [],
   "source": [
    "from sagemaker.predictor import csv_serializer\n",
    "\n",
    "# We need to tell the endpoint what format the data we are sending is in so that SageMaker can perform the serialization.\n",
    "xgb_predictor.content_type = 'text/csv'\n",
    "xgb_predictor.serializer = csv_serializer"
   ]
  },
  {
   "cell_type": "code",
   "execution_count": 32,
   "metadata": {},
   "outputs": [],
   "source": [
    "# We split the data into chunks and send each chunk seperately, accumulating the results.\n",
    "\n",
    "def predict(data, rows=512):\n",
    "    split_array = np.array_split(data, int(data.shape[0] / float(rows) + 1))\n",
    "    predictions = ''\n",
    "    for array in split_array:\n",
    "        predictions = ','.join([predictions, xgb_predictor.predict(array).decode('utf-8')])\n",
    "    \n",
    "    return np.fromstring(predictions[1:], sep=',')"
   ]
  },
  {
   "cell_type": "code",
   "execution_count": 33,
   "metadata": {},
   "outputs": [],
   "source": [
    "test_X = pd.read_csv(os.path.join(data_dir, 'test.csv'), header=None).values\n",
    "\n",
    "predictions = predict(test_X)\n",
    "predictions = [round(num) for num in predictions]"
   ]
  },
  {
   "cell_type": "markdown",
   "metadata": {},
   "source": [
    "Lastly, we check to see what the accuracy of our model is."
   ]
  },
  {
   "cell_type": "code",
   "execution_count": 34,
   "metadata": {},
   "outputs": [
    {
     "data": {
      "text/plain": [
       "0.8652"
      ]
     },
     "execution_count": 34,
     "metadata": {},
     "output_type": "execute_result"
    }
   ],
   "source": [
    "from sklearn.metrics import accuracy_score\n",
    "accuracy_score(test_y, predictions)"
   ]
  },
  {
   "cell_type": "markdown",
   "metadata": {},
   "source": [
    "And the results here should agree with the model testing that we did earlier using the batch transform job.\n",
    "\n",
    "### Cleaning up\n",
    "\n",
    "Now that we've determined that deploying our model works as expected, we are going to shut it down. Remember that the longer the endpoint is left running, the greater the cost and since we have a bit more work to do before we are able to use our endpoint with our simple web app, we should shut everything down."
   ]
  },
  {
   "cell_type": "code",
   "execution_count": 35,
   "metadata": {},
   "outputs": [],
   "source": [
    "xgb_predictor.delete_endpoint()"
   ]
  },
  {
   "cell_type": "markdown",
   "metadata": {},
   "source": [
    "## Step 7: Putting our model to work\n",
    "\n",
    "As we've mentioned a few times now, our goal is to have our model deployed and then access it using a very simple web app. The intent is for this web app to take some user submitted data (a review), send it off to our endpoint (the model) and then display the result.\n",
    "\n",
    "However, there is a small catch. Currently the only way we can access the endpoint to send it data is using the SageMaker API. We can, if we wish, expose the actual URL that our model's endpoint is receiving data from, however, if we just send it data ourselves we will not get anything in return. This is because the endpoint created by SageMaker requires the entity accessing it have the correct permissions. So, we would need to somehow authenticate our web app with AWS.\n",
    "\n",
    "Having a website that authenticates to AWS seems a bit beyond the scope of this lesson so we will opt for an alternative approach. Namely, we will create a new endpoint which does not require authentication and which acts as a proxy for the SageMaker endpoint.\n",
    "\n",
    "As an additional constraint, we will try to avoid doing any data processing in the web app itself. Remember that when we constructed and tested our model we started with a movie review, then we simplified it by removing any html formatting and punctuation, then we constructed a bag of words embedding and the resulting vector is what we sent to our model. All of this needs to be done to our user input as well.\n",
    "\n",
    "Fortunately we can do all of this data processing in the backend, using Amazon's Lambda service.\n",
    "\n",
    "<img src=\"Web App Diagram.svg\">\n",
    "\n",
    "The diagram above gives an overview of how the various services will work together. On the far right is the model which we trained above and which will be deployed using SageMaker. On the far left is our web app that collects a user's movie review, sends it off and expects a positive or negative sentiment in return.\n",
    "\n",
    "In the middle is where some of the magic happens. We will construct a Lambda function, which you can think of as a straightforward Python function that can be executed whenever a specified event occurs. This Python function will do the data processing we need to perform on a user submitted review. In addition, we will give this function permission to send and recieve data from a SageMaker endpoint.\n",
    "\n",
    "Lastly, the method we will use to execute the Lambda function is a new endpoint that we will create using API Gateway. This endpoint will be a url that listens for data to be sent to it. Once it gets some data it will pass that data on to the Lambda function and then return whatever the Lambda function returns. Essentially it will act as an interface that lets our web app communicate with the Lambda function.\n",
    "\n",
    "### Processing a single review\n",
    "\n",
    "For now, suppose we are given a movie review by our user in the form of a string, like so:"
   ]
  },
  {
   "cell_type": "code",
   "execution_count": 36,
   "metadata": {},
   "outputs": [],
   "source": [
    "test_review = \"Nothing but a disgusting materialistic pageant of glistening abed remote control greed zombies, totally devoid of any heart or heat. A romantic comedy that has zero romantic chemestry and zero laughs!\""
   ]
  },
  {
   "cell_type": "markdown",
   "metadata": {},
   "source": [
    "How do we go from this string to the bag of words feature vector that is expected by our model?\n",
    "\n",
    "If we recall at the beginning of this notebook, the first step is to remove any unnecessary characters using the `review_to_words` method. Remember that we intentionally did this in a very simplistic way. This is because we are going to have to copy this method to our (eventual) Lambda function (we will go into more detail later) and this means it needs to be rather simplistic."
   ]
  },
  {
   "cell_type": "code",
   "execution_count": 37,
   "metadata": {},
   "outputs": [
    {
     "name": "stdout",
     "output_type": "stream",
     "text": [
      "nothing but a disgusting materialistic pageant of glistening abed remote control greed zombies totally devoid of any heart or heat a romantic comedy that has zero romantic chemestry and zero laughs\n"
     ]
    }
   ],
   "source": [
    "test_words = review_to_words(test_review)\n",
    "print(test_words)"
   ]
  },
  {
   "cell_type": "markdown",
   "metadata": {},
   "source": [
    "Next, we need to construct a bag of words embedding of the `test_words` string. To do this, remember that a bag of words embedding uses a `vocabulary` consisting of the most frequently appearing words in a set of documents. Then, for each word in the vocabulary we record the number of times that word appears in `test_words`. We constructed the `vocabulary` earlier using the training set for our problem so encoding `test_words` is relatively straightforward."
   ]
  },
  {
   "cell_type": "code",
   "execution_count": 46,
   "metadata": {},
   "outputs": [],
   "source": [
    "def bow_encoding(words, vocabulary):\n",
    "    bow = [0] * len(vocabulary) # Start by setting the count for each word in the vocabulary to zero.\n",
    "    for word in words.split():  # For each word in the string\n",
    "        if word in vocabulary:  # If the word is one that occurs in the vocabulary, increase its count.\n",
    "            bow[vocabulary[word]] += 1\n",
    "    return bow"
   ]
  },
  {
   "cell_type": "code",
   "execution_count": 47,
   "metadata": {},
   "outputs": [
    {
     "name": "stdout",
     "output_type": "stream",
     "text": [
      "[0, 0, 0, 0, 0, 0, 0, 0, 0, 0, 0, 0, 0, 0, 0, 0, 0, 0, 0, 0, 0, 0, 0, 0, 0, 0, 0, 0, 0, 0, 0, 0, 0, 0, 0, 0, 0, 0, 0, 0, 0, 0, 0, 0, 0, 0, 0, 0, 0, 0, 0, 0, 0, 0, 0, 0, 0, 0, 0, 0, 0, 0, 0, 0, 0, 0, 0, 0, 0, 0, 0, 0, 0, 0, 0, 0, 0, 0, 0, 0, 0, 0, 0, 0, 0, 0, 0, 0, 0, 0, 0, 0, 0, 0, 0, 0, 0, 0, 0, 0, 0, 0, 0, 0, 0, 0, 0, 0, 0, 0, 0, 0, 0, 0, 0, 0, 0, 0, 0, 0, 0, 0, 0, 0, 0, 0, 0, 0, 0, 0, 0, 0, 0, 0, 0, 0, 0, 0, 0, 0, 0, 0, 0, 0, 0, 0, 0, 0, 0, 0, 0, 0, 0, 0, 0, 0, 0, 0, 0, 0, 0, 0, 0, 0, 0, 0, 0, 0, 0, 0, 0, 0, 0, 0, 0, 0, 0, 0, 0, 0, 0, 0, 0, 0, 0, 0, 0, 0, 0, 0, 0, 0, 0, 0, 0, 0, 0, 0, 0, 0, 0, 0, 0, 0, 0, 0, 0, 0, 0, 0, 0, 0, 0, 0, 0, 0, 0, 0, 0, 0, 0, 0, 0, 0, 0, 0, 1, 0, 0, 0, 0, 0, 0, 0, 0, 0, 0, 0, 0, 0, 0, 0, 0, 0, 0, 0, 0, 0, 0, 0, 0, 0, 0, 0, 0, 0, 1, 0, 0, 0, 0, 0, 0, 0, 0, 0, 0, 0, 0, 0, 0, 0, 0, 0, 0, 0, 0, 0, 0, 0, 0, 0, 0, 0, 0, 0, 0, 0, 0, 0, 0, 0, 0, 0, 0, 0, 0, 0, 0, 0, 0, 0, 0, 0, 0, 0, 0, 0, 0, 0, 0, 0, 0, 0, 0, 0, 0, 0, 0, 0, 0, 0, 0, 0, 0, 0, 0, 0, 0, 0, 0, 0, 0, 0, 0, 0, 0, 0, 0, 0, 0, 0, 0, 0, 0, 0, 0, 0, 0, 0, 0, 0, 0, 0, 0, 0, 0, 0, 0, 0, 0, 0, 0, 0, 0, 0, 0, 0, 0, 0, 0, 0, 0, 0, 0, 0, 0, 0, 0, 0, 0, 0, 0, 0, 0, 0, 0, 0, 0, 0, 0, 0, 0, 0, 0, 0, 0, 0, 0, 0, 0, 0, 0, 0, 0, 0, 0, 0, 0, 0, 0, 0, 0, 0, 0, 0, 0, 0, 0, 0, 0, 0, 0, 0, 0, 0, 0, 0, 0, 0, 0, 0, 0, 0, 0, 0, 0, 0, 0, 0, 0, 0, 0, 0, 0, 0, 0, 0, 0, 0, 0, 0, 0, 0, 0, 0, 0, 0, 0, 0, 0, 0, 0, 0, 0, 0, 0, 0, 0, 0, 0, 0, 0, 0, 0, 0, 0, 0, 0, 0, 0, 0, 0, 0, 0, 0, 0, 0, 0, 0, 0, 0, 0, 0, 0, 0, 0, 0, 0, 0, 0, 0, 0, 0, 0, 0, 0, 0, 0, 0, 0, 0, 0, 0, 0, 0, 0, 0, 0, 0, 0, 0, 0, 0, 0, 0, 0, 0, 0, 0, 0, 0, 0, 0, 0, 0, 0, 0, 0, 0, 0, 0, 0, 0, 0, 0, 0, 0, 0, 0, 0, 0, 0, 0, 0, 0, 0, 0, 0, 0, 0, 0, 0, 0, 0, 0, 0, 0, 0, 0, 0, 0, 0, 0, 0, 0, 0, 0, 0, 0, 0, 0, 0, 0, 0, 0, 0, 0, 0, 0, 0, 0, 0, 0, 0, 0, 0, 0, 0, 0, 0, 0, 0, 0, 0, 0, 0, 0, 0, 0, 0, 0, 0, 0, 0, 0, 0, 0, 0, 0, 0, 0, 0, 0, 0, 0, 0, 0, 0, 0, 0, 0, 0, 0, 0, 0, 1, 0, 0, 0, 0, 0, 0, 0, 0, 0, 0, 0, 0, 0, 0, 0, 0, 0, 0, 0, 0, 0, 0, 0, 0, 0, 0, 0, 0, 0, 0, 0, 0, 0, 0, 0, 0, 0, 0, 0, 0, 0, 0, 0, 0, 0, 0, 0, 0, 0, 0, 0, 0, 0, 0, 0, 0, 0, 0, 0, 0, 0, 0, 0, 0, 0, 0, 0, 0, 0, 0, 0, 0, 0, 0, 0, 0, 0, 0, 0, 0, 0, 0, 0, 0, 0, 0, 0, 0, 0, 0, 0, 0, 0, 0, 0, 0, 0, 0, 0, 0, 0, 0, 0, 0, 0, 0, 0, 0, 0, 0, 0, 0, 0, 0, 0, 0, 0, 0, 0, 0, 0, 0, 0, 0, 0, 0, 0, 0, 0, 0, 0, 0, 0, 0, 0, 0, 0, 0, 0, 0, 0, 0, 0, 0, 0, 0, 0, 0, 0, 0, 0, 0, 0, 0, 0, 0, 0, 0, 0, 0, 0, 0, 0, 0, 0, 0, 0, 0, 0, 0, 0, 0, 0, 0, 0, 0, 0, 0, 0, 0, 0, 0, 0, 0, 0, 0, 0, 0, 0, 0, 0, 0, 0, 0, 0, 0, 0, 0, 0, 0, 0, 0, 0, 0, 0, 0, 0, 0, 0, 0, 0, 0, 0, 0, 0, 0, 0, 0, 0, 0, 0, 0, 0, 0, 0, 0, 0, 0, 0, 0, 0, 0, 0, 0, 0, 0, 0, 0, 0, 0, 0, 0, 0, 0, 0, 0, 0, 0, 0, 0, 0, 0, 0, 1, 0, 0, 0, 0, 0, 0, 0, 0, 0, 0, 0, 0, 0, 0, 0, 0, 0, 0, 0, 0, 0, 0, 0, 0, 0, 0, 0, 0, 0, 0, 0, 0, 0, 0, 0, 0, 0, 0, 0, 0, 0, 0, 0, 0, 0, 0, 0, 0, 0, 0, 0, 0, 0, 0, 0, 0, 0, 0, 0, 0, 0, 0, 0, 0, 0, 0, 0, 0, 0, 0, 0, 0, 0, 0, 0, 0, 0, 0, 0, 0, 0, 0, 0, 0, 0, 0, 1, 0, 0, 0, 0, 0, 0, 0, 0, 0, 0, 0, 0, 0, 0, 0, 0, 0, 0, 0, 0, 0, 0, 0, 0, 0, 0, 0, 0, 0, 0, 0, 0, 0, 0, 0, 0, 0, 0, 0, 0, 0, 0, 0, 0, 0, 0, 0, 0, 0, 0, 0, 0, 0, 0, 0, 0, 0, 0, 0, 0, 0, 0, 0, 0, 0, 0, 0, 0, 0, 0, 0, 0, 0, 0, 0, 0, 0, 0, 0, 0, 0, 0, 0, 0, 0, 0, 0, 0, 0, 0, 0, 0, 0, 0, 0, 0, 0, 0, 0, 0, 0, 0, 0, 0, 0, 0, 0, 0, 0, 0, 0, 0, 0, 0, 0, 0, 0, 0, 0, 0, 0, 0, 0, 0, 0, 0, 0, 0, 0, 0, 0, 0, 0, 0, 0, 0, 0, 0, 0, 0, 0, 0, 0, 0, 0, 0, 0, 0, 0, 0, 0, 0, 0, 0, 0, 0, 0, 0, 0, 0, 0, 0, 0, 0, 0, 0, 0, 0, 0, 0, 0, 0, 0, 0, 0, 0, 0, 0, 0, 0, 0, 0, 0, 0, 0, 0, 0, 0, 0, 0, 0, 0, 0, 0, 0, 0, 0, 0, 0, 0, 0, 0, 0, 0, 0, 0, 0, 0, 0, 0, 0, 0, 0, 0, 0, 0, 0, 0, 0, 0, 0, 0, 0, 0, 0, 0, 0, 0, 0, 0, 0, 0, 0, 0, 0, 0, 0, 0, 0, 0, 0, 0, 0, 0, 0, 0, 0, 0, 0, 0, 0, 0, 1, 0, 0, 0, 0, 0, 0, 0, 0, 0, 0, 0, 0, 0, 0, 0, 0, 0, 0, 0, 0, 0, 0, 0, 0, 0, 0, 0, 0, 0, 0, 0, 0, 0, 0, 0, 0, 0, 0, 0, 0, 0, 0, 0, 0, 0, 0, 0, 0, 0, 0, 0, 0, 0, 0, 0, 1, 0, 0, 0, 0, 0, 0, 0, 0, 0, 0, 0, 0, 0, 0, 0, 0, 0, 0, 0, 0, 0, 0, 0, 0, 0, 0, 0, 0, 0, 0, 0, 0, 0, 0, 0, 0, 0, 0, 0, 0, 0, 0, 0, 0, 0, 0, 0, 0, 0, 0, 0, 0, 0, 0, 0, 0, 0, 0, 0, 0, 0, 0, 0, 0, 0, 0, 0, 0, 0, 0, 0, 0, 0, 0, 0, 0, 0, 0, 0, 0, 0, 0, 0, 0, 0, 0, 0, 0, 0, 0, 0, 0, 0, 0, 0, 0, 0, 0, 0, 0, 0, 0, 0, 0, 0, 0, 0, 0, 0, 0, 0, 0, 0, 0, 0, 0, 0, 0, 0, 0, 0, 0, 0, 0, 0, 0, 0, 0, 0, 0, 0, 0, 0, 0, 0, 0, 0, 0, 0, 0, 0, 0, 0, 0, 0, 0, 0, 0, 0, 0, 0, 0, 0, 0, 0, 0, 0, 0, 0, 0, 0, 0, 0, 0, 0, 0, 0, 0, 0, 0, 0, 0, 0, 0, 0, 0, 0, 0, 0, 0, 0, 0, 0, 0, 0, 0, 0, 0, 0, 0, 0, 0, 0, 0, 0, 0, 0, 0, 0, 0, 0, 0, 0, 0, 0, 0, 0, 0, 0, 0, 0, 0, 0, 0, 0, 0, 0, 0, 0, 0, 0, 0, 0, 0, 0, 0, 0, 0, 0, 0, 0, 0, 0, 0, 0, 0, 0, 0, 0, 0, 0, 0, 0, 0, 0, 0, 0, 0, 0, 0, 0, 0, 0, 0, 0, 0, 0, 0, 0, 0, 0, 0, 0, 0, 0, 0, 0, 0, 0, 0, 0, 0, 0, 0, 0, 0, 0, 0, 0, 0, 0, 0, 0, 0, 0, 0, 0, 0, 0, 0, 0, 0, 0, 0, 0, 0, 0, 0, 0, 0, 0, 0, 0, 0, 0, 0, 0, 0, 0, 0, 0, 0, 0, 0, 0, 0, 0, 0, 0, 0, 0, 0, 0, 0, 0, 0, 0, 0, 0, 0, 0, 0, 0, 0, 0, 0, 0, 0, 0, 0, 0, 0, 0, 0, 0, 0, 0, 0, 0, 0, 0, 0, 0, 0, 0, 0, 0, 0, 0, 0, 0, 0, 0, 0, 0, 0, 0, 0, 0, 0, 0, 0, 0, 0, 0, 0, 0, 0, 0, 0, 0, 0, 0, 0, 0, 0, 0, 0, 0, 0, 0, 0, 0, 0, 0, 0, 0, 0, 0, 0, 0, 0, 0, 0, 0, 0, 0, 0, 0, 0, 0, 0, 0, 0, 0, 0, 0, 0, 0, 0, 0, 0, 0, 0, 0, 0, 0, 0, 0, 0, 0, 0, 0, 0, 0, 0, 0, 0, 0, 0, 0, 0, 0, 0, 0, 0, 0, 0, 0, 0, 0, 0, 0, 0, 0, 0, 0, 0, 0, 0, 0, 0, 0, 0, 0, 0, 0, 0, 0, 0, 0, 0, 0, 0, 0, 0, 0, 0, 0, 0, 0, 0, 0, 0, 0, 0, 0, 0, 0, 0, 0, 0, 0, 0, 0, 0, 0, 0, 0, 0, 0, 0, 0, 0, 0, 0, 0, 0, 0, 0, 0, 0, 0, 0, 0, 0, 0, 0, 0, 0, 0, 0, 0, 0, 0, 0, 0, 0, 0, 0, 0, 0, 0, 0, 0, 0, 0, 0, 0, 0, 0, 0, 0, 0, 0, 0, 0, 0, 0, 0, 0, 0, 0, 0, 0, 0, 0, 0, 0, 0, 0, 0, 0, 0, 0, 0, 0, 0, 0, 0, 0, 0, 0, 0, 0, 0, 0, 0, 0, 0, 0, 0, 0, 0, 0, 0, 0, 0, 0, 0, 0, 0, 0, 0, 0, 0, 0, 0, 0, 0, 0, 0, 0, 0, 0, 0, 0, 0, 0, 0, 0, 0, 0, 0, 0, 0, 0, 0, 0, 0, 0, 0, 0, 0, 0, 0, 0, 0, 0, 0, 0, 0, 0, 0, 0, 0, 0, 0, 0, 0, 0, 0, 0, 0, 0, 0, 0, 0, 0, 0, 0, 0, 0, 0, 0, 0, 0, 0, 0, 0, 0, 0, 0, 0, 0, 0, 0, 0, 0, 0, 0, 0, 0, 0, 0, 0, 0, 0, 0, 0, 0, 1, 0, 0, 0, 0, 0, 0, 0, 0, 0, 0, 0, 0, 0, 0, 0, 0, 0, 0, 0, 0, 0, 0, 0, 0, 0, 0, 0, 0, 0, 0, 0, 0, 0, 0, 0, 0, 0, 0, 0, 0, 0, 0, 0, 0, 0, 0, 0, 0, 0, 0, 0, 0, 0, 0, 0, 0, 0, 0, 0, 0, 0, 0, 0, 0, 0, 0, 0, 0, 0, 0, 0, 0, 0, 0, 1, 0, 0, 0, 0, 0, 0, 0, 0, 0, 0, 0, 0, 0, 0, 0, 0, 0, 0, 0, 0, 1, 0, 0, 1, 0, 0, 0, 0, 0, 0, 0, 0, 0, 0, 0, 0, 0, 0, 0, 0, 0, 0, 0, 0, 0, 0, 0, 0, 0, 0, 0, 0, 0, 0, 0, 0, 0, 0, 0, 0, 0, 0, 0, 0, 0, 0, 0, 0, 0, 0, 0, 0, 0, 0, 0, 0, 0, 0, 0, 0, 0, 0, 0, 0, 0, 0, 0, 0, 0, 0, 0, 0, 0, 0, 0, 0, 0, 0, 0, 0, 0, 0, 0, 0, 0, 0, 0, 0, 0, 0, 0, 0, 0, 0, 0, 0, 0, 0, 0, 0, 0, 0, 0, 0, 0, 0, 0, 0, 0, 0, 0, 0, 0, 0, 0, 0, 0, 0, 0, 0, 0, 0, 0, 0, 0, 0, 0, 0, 0, 0, 0, 0, 0, 0, 0, 0, 0, 0, 0, 0, 0, 0, 0, 0, 0, 0, 0, 0, 0, 0, 0, 0, 0, 0, 0, 0, 0, 0, 0, 0, 0, 0, 0, 0, 0, 0, 0, 0, 0, 0, 0, 0, 0, 0, 0, 0, 0, 0, 0, 0, 0, 0, 0, 0, 0, 0, 0, 0, 0, 0, 0, 0, 0, 0, 0, 0, 0, 0, 0, 0, 0, 0, 0, 0, 0, 0, 0, 0, 0, 0, 0, 0, 0, 0, 0, 0, 0, 0, 0, 0, 0, 0, 0, 0, 0, 0, 0, 0, 0, 0, 0, 0, 0, 0, 0, 0, 0, 0, 0, 0, 0, 0, 0, 0, 0, 0, 0, 0, 0, 0, 0, 0, 0, 0, 0, 0, 0, 0, 0, 0, 0, 0, 0, 0, 0, 0, 0, 0, 0, 0, 0, 0, 0, 0, 0, 0, 0, 0, 0, 0, 0, 0, 0, 0, 0, 0, 0, 0, 0, 0, 0, 0, 0, 0, 0, 0, 0, 0, 0, 0, 0, 0, 0, 0, 0, 0, 0, 0, 0, 0, 0, 0, 0, 0, 0, 0, 0, 0, 0, 0, 0, 0, 0, 0, 0, 0, 0, 0, 0, 0, 0, 0, 0, 0, 0, 0, 0, 0, 0, 0, 0, 0, 0, 0, 0, 0, 0, 0, 0, 0, 0, 0, 0, 0, 0, 0, 0, 0, 0, 0, 0, 0, 0, 0, 0, 0, 0, 0, 0, 0, 0, 0, 0, 0, 0, 0, 0, 0, 0, 0, 0, 0, 0, 0, 0, 0, 0, 0, 0, 0, 0, 0, 0, 0, 0, 0, 0, 0, 0, 0, 0, 0, 0, 0, 0, 0, 0, 0, 0, 0, 0, 0, 0, 0, 0, 0, 0, 0, 0, 0, 0, 0, 0, 0, 0, 0, 0, 0, 0, 0, 0, 0, 0, 0, 0, 0, 0, 0, 0, 0, 0, 0, 0, 0, 0, 0, 0, 0, 0, 0, 0, 0, 0, 0, 0, 0, 0, 0, 0, 0, 0, 0, 0, 0, 0, 0, 0, 0, 0, 0, 1, 0, 0, 0, 0, 0, 0, 0, 0, 0, 0, 0, 0, 0, 0, 0, 0, 0, 0, 0, 0, 0, 0, 0, 0, 0, 0, 0, 0, 0, 0, 0, 0, 0, 0, 0, 0, 0, 0, 0, 0, 0, 0, 0, 0, 0, 0, 0, 0, 0, 0, 0, 0, 0, 0, 0, 0, 0, 0, 0, 0, 0, 0, 0, 0, 0, 0, 0, 0, 0, 0, 0, 0, 0, 0, 0, 0, 0, 0, 0, 0, 0, 0, 0, 0, 0, 0, 0, 0, 0, 0, 0, 0, 0, 0, 0, 0, 0, 0, 0, 0, 0, 0, 0, 0, 0, 0, 0, 0, 0, 0, 0, 0, 0, 0, 0, 0, 0, 0, 0, 0, 0, 0, 0, 0, 0, 0, 0, 0, 0, 0, 0, 0, 0, 0, 0, 0, 0, 0, 0, 0, 0, 0, 0, 0, 0, 0, 0, 0, 0, 0, 0, 0, 0, 0, 0, 0, 0, 0, 0, 0, 0, 0, 0, 0, 0, 0, 0, 0, 0, 0, 0, 0, 0, 0, 0, 0, 0, 0, 0, 0, 0, 0, 0, 0, 0, 0, 0, 0, 0, 0, 0, 0, 0, 0, 0, 0, 0, 0, 0, 0, 0, 0, 0, 0, 0, 0, 0, 0, 0, 0, 0, 0, 0, 0, 0, 0, 0, 0, 0, 0, 0, 0, 0, 0, 0, 0, 0, 0, 0, 0, 0, 0, 0, 0, 0, 0, 0, 0, 0, 0, 0, 0, 0, 0, 0, 0, 0, 0, 0, 0, 0, 0, 0, 0, 0, 0, 0, 0, 0, 0, 0, 0, 0, 0, 0, 0, 0, 0, 0, 0, 0, 0, 0, 0, 0, 0, 0, 0, 0, 0, 0, 0, 0, 0, 0, 0, 0, 0, 0, 0, 0, 0, 0, 0, 0, 0, 0, 0, 0, 0, 0, 0, 0, 0, 0, 0, 0, 0, 0, 0, 0, 0, 0, 0, 0, 0, 0, 0, 0, 0, 0, 0, 0, 0, 0, 0, 0, 0, 0, 0, 0, 0, 0, 0, 0, 0, 0, 0, 0, 0, 0, 0, 0, 0, 0, 0, 0, 0, 0, 0, 0, 0, 0, 0, 0, 0, 0, 0, 0, 0, 0, 0, 0, 0, 0, 0, 0, 0, 0, 0, 0, 0, 0, 0, 0, 0, 0, 0, 0, 0, 0, 0, 0, 0, 0, 0, 0, 0, 0, 0, 0, 0, 0, 0, 0, 0, 0, 0, 0, 0, 0, 0, 0, 0, 0, 0, 0, 0, 0, 0, 0, 0, 0, 0, 0, 0, 0, 0, 0, 0, 0, 0, 0, 0, 0, 0, 0, 0, 0, 0, 0, 0, 0, 0, 0, 0, 0, 0, 0, 0, 0, 0, 0, 0, 0, 0, 0, 0, 0, 0, 0, 0, 0, 0, 0, 0, 0, 0, 0, 0, 0, 0, 0, 0, 0, 0, 0, 0, 0, 0, 0, 0, 0, 0, 0, 0, 0, 0, 0, 0, 0, 0, 0, 0, 0, 0, 0, 0, 0, 0, 0, 0, 0, 0, 0, 0, 0, 0, 0, 0, 0, 0, 0, 0, 0, 0, 0, 0, 0, 0, 0, 0, 1, 0, 0, 0, 0, 0, 0, 0, 0, 0, 0, 0, 0, 0, 0, 0, 0, 0, 0, 0, 0, 0, 0, 0, 0, 0, 0, 0, 0, 0, 0, 0, 0, 0, 0, 0, 2, 0, 0, 0, 0, 0, 0, 0, 0, 0, 0, 0, 0, 0, 0, 0, 0, 0, 0, 0, 0, 0, 0, 0, 0, 0, 0, 0, 0, 0, 0, 0, 0, 0, 0, 0, 0, 0, 0, 0, 0, 1, 0, 0, 0, 0, 0, 0, 0, 0, 0, 0, 0, 0, 0, 0, 0, 0, 0, 0, 0, 0, 0, 0, 0, 0, 0, 0, 0, 0, 0, 0, 0, 0, 0, 0, 0, 0, 0, 0, 0, 0, 0, 0, 0, 0, 0, 0, 0, 0, 0, 0, 0, 0, 0, 0, 0, 0, 0, 0, 0, 0, 0, 0, 0, 0, 0, 0, 0, 0, 0, 0, 0, 0, 0, 0, 0, 0, 0, 0, 0, 0, 0, 0, 0, 0, 0, 0, 0, 0, 0, 0, 0, 0, 0, 0, 0, 0, 0, 0, 0, 0, 0, 0, 0, 0, 0, 0, 0, 0, 0, 0, 0, 0, 0, 0, 0, 0, 0, 0, 0, 0, 0, 0, 0, 0, 0, 0, 0, 0, 0, 0, 0, 0, 0, 0, 0, 0, 0, 0, 0, 0, 0, 0, 0, 0, 0, 0, 0, 0, 0, 0, 0, 0, 0, 0, 0, 0, 0, 0, 0, 0, 0, 0, 0, 0, 0, 0, 0, 0, 0, 0, 0, 0, 0, 0, 0, 0, 0, 0, 0, 0, 0, 0, 0, 0, 0, 0, 0, 0, 0, 0, 0, 0, 0, 0, 0, 0, 0, 0, 0, 0, 0, 0, 0, 0, 0, 0, 0, 0, 0, 0, 0, 0, 0, 0, 0, 0, 0, 0, 0, 0, 0, 0, 0, 0, 0, 0, 0, 0, 0, 0, 0, 0, 0, 0, 0, 0, 0, 0, 0, 0, 0, 0, 0, 0, 0, 0, 0, 0, 0, 0, 0, 0, 0, 0, 0, 0, 0, 0, 0, 0, 0, 0, 0, 0, 0, 0, 0, 0, 0, 0, 0, 0, 0, 0, 0, 0, 0, 0, 0, 0, 0, 0, 0, 0, 0, 0, 0, 0, 0, 0, 0, 0, 0, 0, 0, 0, 0, 0, 0, 0, 0, 0, 0, 0, 0, 0, 0, 0, 0, 0, 0, 0, 0, 0, 0, 0, 0, 0, 0, 0, 0, 0, 0, 0, 0, 0, 0, 0, 0, 0, 0, 0, 0, 0, 0, 0, 0, 0, 0, 0, 0, 0, 0, 0, 0, 0, 0, 0, 0, 0, 0, 0, 0, 0, 0, 0, 0, 0, 0, 0, 0, 0, 0, 0, 0, 0, 0, 0, 0, 0, 0, 0, 0, 0, 0, 0, 0, 0, 0, 0, 0, 0, 0, 0, 0, 0, 0, 0, 0, 0, 0, 0, 0, 0, 0, 0, 0, 0, 0, 0, 0, 0, 0, 0, 0, 0, 0, 0, 0, 0, 0, 0, 0, 0, 0, 0, 0, 0, 0, 0, 0, 0, 0, 0, 0, 0, 0, 0, 0, 0, 0, 0, 0, 0, 0, 0, 0, 0, 0, 0, 0, 0, 0, 0, 0, 0, 0, 0, 0, 0, 0, 0, 0, 0, 0, 0, 0, 0, 0, 0, 0, 0, 0, 0, 0, 0, 0, 0, 0, 0, 0, 0, 0, 0, 0, 0, 0, 0, 0, 0, 0, 0, 0, 0, 0, 0, 0, 0, 0, 0, 0, 0, 0, 0, 0, 0, 0, 1, 0, 0, 0, 0, 0, 0, 0, 0, 0, 0, 0, 0, 0, 0, 0, 0, 0, 0, 0, 0, 0, 0, 0, 0, 0, 0, 0, 0, 0, 0, 0, 0, 0, 0, 0, 0, 0, 0, 0, 0, 0, 0, 0, 0, 0, 0, 0, 0, 0, 0, 0, 0, 0, 0, 0, 0, 0, 0, 0, 0, 0, 0, 0, 0, 0, 0, 0, 0, 0, 0, 0, 0, 0, 0, 0, 0, 0, 0, 0, 0, 0, 0, 0, 0, 0, 0, 0, 0, 0, 0, 0, 0, 0, 0, 0, 0, 0, 0, 0, 0, 0, 0, 0, 0, 0, 0, 0, 0, 0, 0, 2, 0, 0, 0, 0, 0, 0, 0, 0, 0, 0, 0, 0, 0, 0, 0, 0, 0, 0, 0, 0, 0, 0, 0, 0, 0, 0, 0, 0, 0, 0, 0, 0, 0, 0, 0, 0, 0, 0, 0, 0, 0, 0, 0, 0, 0, 0, 0, 0, 0, 0, 0, 0, 0, 0, 0, 0, 0, 0, 0, 0, 0, 0, 0, 0, 0, 0, 0, 0, 0, 0, 0, 0, 0, 0, 0, 0, 0, 0, 0, 0, 0, 0, 0, 0, 0, 0, 0, 0, 0, 0, 0, 0, 0, 0, 0, 0, 0, 0, 0, 0, 0, 0, 0, 0, 0, 0, 0, 0, 0, 0, 0, 0, 0, 0, 0, 0, 0, 0, 0, 0, 0, 0, 0, 0, 0, 0, 0, 0, 0, 0, 0, 0, 0, 0, 0, 0, 0, 0, 0, 0, 0, 0, 0, 0, 0, 0, 0, 0, 0, 0, 0, 0, 0, 0, 0, 0, 0, 0, 0, 0, 0, 0, 0, 0, 0, 0, 0, 0, 0, 0, 0, 0, 0, 0, 0, 0, 0, 0, 0, 0, 0, 0, 0, 0, 0, 0, 0, 0, 0, 0, 0, 0, 0, 0, 0, 0, 0, 0, 0, 0, 0, 0, 0, 0, 0, 0, 0, 0, 0, 0, 0, 0, 0, 0, 0, 0, 0, 0, 0, 0, 0, 0, 0, 0, 0, 0, 0, 0, 0, 0, 0, 0, 0, 0, 0, 0, 0, 0, 0, 0, 0, 0, 0, 0, 0, 0, 0, 0, 0, 0, 0, 0, 0, 0, 0, 0, 0, 0, 0, 0, 0, 0, 0, 0, 0, 0, 0, 0, 0, 0, 0, 0, 0, 0, 0, 0, 0, 0, 0, 0, 0, 0, 0, 0, 0, 0, 0, 0, 0, 0, 0, 0, 0, 0, 0, 0, 0, 0, 0, 0, 0, 0, 0, 0, 0, 0, 0, 0, 0, 0, 0, 0, 0, 0, 0, 0, 0, 0, 0, 0, 0, 0, 0, 0, 0, 0, 0, 0, 0, 0, 0, 0, 0, 0, 0, 0, 0, 0, 0, 0, 0, 0, 0, 0, 0, 0, 0, 0, 0, 0, 0, 0, 0, 0, 0, 0, 0, 0, 0, 0, 0, 0, 0, 0, 0, 0, 0, 0, 0, 0, 0, 0, 0, 0, 0, 0, 0, 0, 0, 0, 0, 0, 0, 0, 0, 0, 0, 0, 0, 0, 0, 0, 0, 0, 0, 0, 0, 0, 0, 0, 0, 0, 0, 0, 0, 0, 0, 0, 0, 0, 0, 0, 0, 0, 0, 0, 0, 0, 0, 0, 0, 0, 0, 0, 0, 0, 0, 0, 0, 0, 0, 0, 0, 0, 0, 0, 0, 0, 0, 0, 0, 0, 0, 0, 0, 0, 0, 0, 0, 0, 0, 0, 0, 0, 0, 0, 0, 0, 0, 0, 0, 0, 0, 0, 0, 0, 0, 0, 0, 0, 0, 0, 0, 0, 0, 0, 0, 0, 0, 0, 0, 0, 0, 0, 0, 0, 0, 0, 0, 0, 0, 0, 0, 0, 0, 0, 0, 0, 0, 0, 0, 0, 0, 0, 0, 0, 0, 0, 0, 0, 0, 0, 0, 0, 0, 0, 0, 0, 0, 0, 0, 0, 0, 0, 0, 0, 0, 0, 0, 0, 0, 0, 0, 0, 0, 0, 0, 0, 0, 0, 0, 0, 0, 0, 0, 0, 0, 0, 0, 0, 0, 0, 0, 0, 0, 0, 0, 0, 0, 0, 0, 0, 0, 0, 0, 0, 0, 0, 0, 0, 0, 0, 0, 0, 0, 0, 0, 0, 0, 0, 0, 0, 0, 0, 0, 0, 0, 0, 0, 0, 0, 0, 0, 0, 0, 0, 0, 0, 0, 0, 0, 0, 0, 0, 0, 0, 0, 0, 0, 0, 0, 0, 0, 0, 0, 0, 0, 0, 0, 0, 0, 0, 0, 0, 0, 0, 0, 0, 0, 0, 0, 0, 0, 0, 0, 0, 0, 0, 0, 0, 0, 0, 0, 0, 0, 0, 0, 0, 0, 0, 0, 0, 0, 0, 0, 0, 0, 0, 0, 0, 0, 0, 0, 0, 0, 0, 0, 0, 0, 0, 0, 0, 0, 0, 0, 0, 0, 0, 0, 0, 0, 0, 0, 0, 0, 0, 0, 0, 0, 0, 1, 0, 0, 0, 0, 0, 0, 0, 0, 0, 0, 0, 0, 0, 0, 0, 0, 0, 0, 0, 0, 0, 0, 0, 0, 0, 0, 0, 0, 0, 0, 0, 0, 0, 0, 0, 0, 0, 0, 0, 0, 0, 0, 0, 0, 0, 0, 0, 0, 0, 0, 0, 0, 0, 0, 0, 0, 0, 0, 0, 0, 0, 0, 0, 0, 0, 0, 0, 0, 0, 0, 0, 0, 0, 0, 0, 0, 0, 0, 0, 0, 0, 0, 0, 0, 0, 0, 0, 0, 0, 0, 0, 0, 0, 0, 0, 0, 0, 0, 0, 0, 0, 0, 0, 0, 0, 0, 0, 1, 0, 0, 0, 0, 0, 0, 0, 0, 0, 0, 0, 0, 0, 0, 0, 0, 0, 0, 0, 0, 0, 0, 0, 0, 0, 0, 0, 0, 0, 0, 0, 0, 0, 0, 0, 0, 0, 0, 0, 0, 0, 0, 0, 0, 0, 0, 0, 0, 0, 0, 0, 0, 0, 0, 0, 0, 0, 0, 0, 0, 0, 0, 0, 0, 0, 0, 0, 0, 0, 0, 0, 0, 0, 0, 0, 0, 0, 0, 0, 0, 0, 0, 0, 0, 0, 0, 0, 0, 0, 0, 0, 0, 0, 0, 0, 0, 0, 0, 0, 0, 0, 0, 0, 0, 0, 0, 0, 0, 0, 0, 0, 0, 0, 0, 0, 0, 0, 0, 0, 0, 0, 0, 0, 0, 0, 0, 0, 0, 0, 0, 0, 0, 0, 0, 0, 0, 0, 0, 0, 0, 0, 0, 0, 0, 0, 0, 0, 0, 0, 0, 0, 0, 0, 0, 0, 0, 0, 0, 0, 0, 0, 0, 0, 0, 0, 0, 0, 0, 0, 0, 0, 0, 0, 0, 0, 0, 0, 0, 0, 0, 0, 0, 0, 0, 0, 0, 0, 0, 0, 0, 0, 0, 0, 0, 0, 0, 0, 0, 0, 0, 0, 0, 0, 0, 0, 0, 0, 0, 0, 0, 0, 0, 0, 0, 0, 0, 0, 0, 0, 0, 0, 0, 0, 0, 0, 0, 0, 0, 0, 0, 0, 0, 0, 0, 0, 0, 0, 0, 0, 0, 0, 0, 0, 0, 0, 0, 0, 0, 0, 0, 0, 0, 0, 0, 0, 0, 0, 0, 0, 0, 0, 0, 0, 0, 0, 0, 0, 0, 0, 0, 0, 0, 0, 0, 0, 0, 0, 0, 0, 0, 0, 0, 0, 0, 0, 0, 0, 0, 0, 0, 0, 0, 0, 0, 0, 0, 0, 0, 0, 0, 0, 0, 0, 0, 0, 0, 0, 0, 0, 0, 0, 0, 0, 0, 0, 0, 0, 0, 0, 0, 0, 0, 0, 0, 0, 0, 0, 0, 0, 0, 0, 0, 0, 0, 0, 0, 0, 0, 0, 0, 0, 0, 0, 0, 0, 0, 0, 0, 0, 0, 0, 0, 0, 0, 0, 0, 0, 0, 0, 0, 0, 0, 0, 0, 0, 0, 0, 0, 0, 0, 0, 0, 0, 0, 0, 0, 0, 0, 0, 0, 0, 0, 0, 0, 0, 0, 0, 0, 0, 0, 0, 0, 0, 0, 0, 0, 0, 0, 0, 0, 0, 0, 0, 0, 0, 0, 0, 0, 0, 0, 0, 0, 0, 0, 0, 0, 0, 0, 0, 0, 0, 0, 0, 0, 0, 0, 0, 0, 0, 0, 0, 0, 0, 0, 0, 0, 0, 0, 0, 0, 0, 0, 0, 0, 0, 0, 0, 0, 0, 0, 0, 0, 0, 0, 0, 0, 0, 0, 0, 0, 0, 0, 0, 2, 0, 1, 0]\n"
     ]
    }
   ],
   "source": [
    "test_bow = bow_encoding(test_words, vocabulary)\n",
    "print(test_bow)"
   ]
  },
  {
   "cell_type": "code",
   "execution_count": 48,
   "metadata": {},
   "outputs": [
    {
     "data": {
      "text/plain": [
       "5000"
      ]
     },
     "execution_count": 48,
     "metadata": {},
     "output_type": "execute_result"
    }
   ],
   "source": [
    "len(test_bow)"
   ]
  },
  {
   "cell_type": "markdown",
   "metadata": {},
   "source": [
    "So now we know how to construct a bag of words encoding of a user provided review, how to we send it to our endpoint? First, we need to start the endpoint back up."
   ]
  },
  {
   "cell_type": "code",
   "execution_count": 49,
   "metadata": {},
   "outputs": [
    {
     "name": "stderr",
     "output_type": "stream",
     "text": [
      "WARNING:sagemaker:Using already existing model: xgboost-2019-11-08-21-46-00-508\n"
     ]
    },
    {
     "name": "stdout",
     "output_type": "stream",
     "text": [
      "--------------------------------------------------------------------------------------------------!"
     ]
    }
   ],
   "source": [
    "xgb_predictor = xgb.deploy(initial_instance_count = 1, instance_type = 'ml.m4.xlarge')"
   ]
  },
  {
   "cell_type": "markdown",
   "metadata": {},
   "source": [
    "At this point we could just do the same thing that we did earlier when we tested our deployed model and send `test_bow` to our endpoint using the `xgb_predictor` object. However, when we eventually construct our Lambda function we won't have access to this object, so how do we call a SageMaker endpoint?\n",
    "\n",
    "It turns out that Python functions that are used in Lambda have access to another Amazon library called `boto3`. This library provides an API for working with Amazon services, including SageMaker. To start with, we need to get a handle to the SageMaker runtime."
   ]
  },
  {
   "cell_type": "code",
   "execution_count": 42,
   "metadata": {},
   "outputs": [],
   "source": [
    "import boto3\n",
    "\n",
    "runtime = boto3.Session().client('sagemaker-runtime')"
   ]
  },
  {
   "cell_type": "markdown",
   "metadata": {},
   "source": [
    "And now that we have access to the SageMaker runtime, we can ask it to make use of (invoke) an endpoint that has already been created. However, we need to provide SageMaker with the name of the deployed endpoint. To find this out we can print it out using the `xgb_predictor` object."
   ]
  },
  {
   "cell_type": "code",
   "execution_count": 43,
   "metadata": {},
   "outputs": [
    {
     "data": {
      "text/plain": [
       "'xgboost-2019-11-08-21-46-00-508'"
      ]
     },
     "execution_count": 43,
     "metadata": {},
     "output_type": "execute_result"
    }
   ],
   "source": [
    "xgb_predictor.endpoint"
   ]
  },
  {
   "cell_type": "markdown",
   "metadata": {},
   "source": [
    "Using the SageMaker runtime and the name of our endpoint, we can invoke the endpoint and send it the `test_bow` data."
   ]
  },
  {
   "cell_type": "code",
   "execution_count": 44,
   "metadata": {},
   "outputs": [
    {
     "ename": "ParamValidationError",
     "evalue": "Parameter validation failed:\nInvalid type for parameter Body, value: [0, 0, 0, 0, 0, 0, 0, 0, 0, 0, 0, 0, 0, 0, 0, 0, 0, 0, 0, 0, 0, 0, 0, 0, 0, 0, 0, 0, 0, 0, 0, 0, 0, 0, 0, 0, 0, 0, 0, 0, 0, 0, 0, 0, 0, 0, 0, 0, 0, 0, 0, 0, 0, 0, 0, 0, 0, 0, 0, 0, 0, 0, 0, 0, 0, 0, 0, 0, 0, 0, 0, 0, 0, 0, 0, 0, 0, 0, 0, 0, 0, 0, 0, 0, 0, 0, 0, 0, 0, 0, 0, 0, 0, 0, 0, 0, 0, 0, 0, 0, 0, 0, 0, 0, 0, 0, 0, 0, 0, 0, 0, 0, 0, 0, 0, 0, 0, 0, 0, 0, 0, 0, 0, 0, 0, 0, 0, 0, 0, 0, 0, 0, 0, 0, 0, 0, 0, 0, 0, 0, 0, 0, 0, 0, 0, 0, 0, 0, 0, 0, 0, 0, 0, 0, 0, 0, 0, 0, 0, 0, 0, 0, 0, 0, 0, 0, 0, 0, 0, 0, 0, 0, 0, 0, 0, 0, 0, 0, 0, 0, 0, 0, 0, 0, 0, 0, 0, 0, 0, 0, 0, 0, 0, 0, 0, 0, 0, 0, 0, 0, 0, 0, 0, 0, 0, 0, 0, 0, 0, 0, 0, 0, 0, 0, 0, 0, 0, 0, 0, 0, 0, 0, 0, 0, 0, 0, 1, 0, 0, 0, 0, 0, 0, 0, 0, 0, 0, 0, 0, 0, 0, 0, 0, 0, 0, 0, 0, 0, 0, 0, 0, 0, 0, 0, 0, 0, 1, 0, 0, 0, 0, 0, 0, 0, 0, 0, 0, 0, 0, 0, 0, 0, 0, 0, 0, 0, 0, 0, 0, 0, 0, 0, 0, 0, 0, 0, 0, 0, 0, 0, 0, 0, 0, 0, 0, 0, 0, 0, 0, 0, 0, 0, 0, 0, 0, 0, 0, 0, 0, 0, 0, 0, 0, 0, 0, 0, 0, 0, 0, 0, 0, 0, 0, 0, 0, 0, 0, 0, 0, 0, 0, 0, 0, 0, 0, 0, 0, 0, 0, 0, 0, 0, 0, 0, 0, 0, 0, 0, 0, 0, 0, 0, 0, 0, 0, 0, 0, 0, 0, 0, 0, 0, 0, 0, 0, 0, 0, 0, 0, 0, 0, 0, 0, 0, 0, 0, 0, 0, 0, 0, 0, 0, 0, 0, 0, 0, 0, 0, 0, 0, 0, 0, 0, 0, 0, 0, 0, 0, 0, 0, 0, 0, 0, 0, 0, 0, 0, 0, 0, 0, 0, 0, 0, 0, 0, 0, 0, 0, 0, 0, 0, 0, 0, 0, 0, 0, 0, 0, 0, 0, 0, 0, 0, 0, 0, 0, 0, 0, 0, 0, 0, 0, 0, 0, 0, 0, 0, 0, 0, 0, 0, 0, 0, 0, 0, 0, 0, 0, 0, 0, 0, 0, 0, 0, 0, 0, 0, 0, 0, 0, 0, 0, 0, 0, 0, 0, 0, 0, 0, 0, 0, 0, 0, 0, 0, 0, 0, 0, 0, 0, 0, 0, 0, 0, 0, 0, 0, 0, 0, 0, 0, 0, 0, 0, 0, 0, 0, 0, 0, 0, 0, 0, 0, 0, 0, 0, 0, 0, 0, 0, 0, 0, 0, 0, 0, 0, 0, 0, 0, 0, 0, 0, 0, 0, 0, 0, 0, 0, 0, 0, 0, 0, 0, 0, 0, 0, 0, 0, 0, 0, 0, 0, 0, 0, 0, 0, 0, 0, 0, 0, 0, 0, 0, 0, 0, 0, 0, 0, 0, 0, 0, 0, 0, 0, 0, 0, 0, 0, 0, 0, 0, 0, 0, 0, 0, 0, 0, 0, 0, 0, 0, 0, 0, 0, 0, 0, 0, 0, 0, 0, 0, 0, 0, 0, 0, 0, 0, 0, 0, 0, 0, 0, 0, 0, 0, 0, 0, 0, 0, 0, 0, 0, 0, 0, 0, 0, 0, 0, 0, 0, 0, 0, 0, 0, 0, 0, 1, 0, 0, 0, 0, 0, 0, 0, 0, 0, 0, 0, 0, 0, 0, 0, 0, 0, 0, 0, 0, 0, 0, 0, 0, 0, 0, 0, 0, 0, 0, 0, 0, 0, 0, 0, 0, 0, 0, 0, 0, 0, 0, 0, 0, 0, 0, 0, 0, 0, 0, 0, 0, 0, 0, 0, 0, 0, 0, 0, 0, 0, 0, 0, 0, 0, 0, 0, 0, 0, 0, 0, 0, 0, 0, 0, 0, 0, 0, 0, 0, 0, 0, 0, 0, 0, 0, 0, 0, 0, 0, 0, 0, 0, 0, 0, 0, 0, 0, 0, 0, 0, 0, 0, 0, 0, 0, 0, 0, 0, 0, 0, 0, 0, 0, 0, 0, 0, 0, 0, 0, 0, 0, 0, 0, 0, 0, 0, 0, 0, 0, 0, 0, 0, 0, 0, 0, 0, 0, 0, 0, 0, 0, 0, 0, 0, 0, 0, 0, 0, 0, 0, 0, 0, 0, 0, 0, 0, 0, 0, 0, 0, 0, 0, 0, 0, 0, 0, 0, 0, 0, 0, 0, 0, 0, 0, 0, 0, 0, 0, 0, 0, 0, 0, 0, 0, 0, 0, 0, 0, 0, 0, 0, 0, 0, 0, 0, 0, 0, 0, 0, 0, 0, 0, 0, 0, 0, 0, 0, 0, 0, 0, 0, 0, 0, 0, 0, 0, 0, 0, 0, 0, 0, 0, 0, 0, 0, 0, 0, 0, 0, 0, 0, 0, 0, 0, 0, 0, 0, 0, 0, 0, 0, 0, 0, 0, 0, 0, 0, 0, 0, 0, 0, 0, 1, 0, 0, 0, 0, 0, 0, 0, 0, 0, 0, 0, 0, 0, 0, 0, 0, 0, 0, 0, 0, 0, 0, 0, 0, 0, 0, 0, 0, 0, 0, 0, 0, 0, 0, 0, 0, 0, 0, 0, 0, 0, 0, 0, 0, 0, 0, 0, 0, 0, 0, 0, 0, 0, 0, 0, 0, 0, 0, 0, 0, 0, 0, 0, 0, 0, 0, 0, 0, 0, 0, 0, 0, 0, 0, 0, 0, 0, 0, 0, 0, 0, 0, 0, 0, 0, 0, 1, 0, 0, 0, 0, 0, 0, 0, 0, 0, 0, 0, 0, 0, 0, 0, 0, 0, 0, 0, 0, 0, 0, 0, 0, 0, 0, 0, 0, 0, 0, 0, 0, 0, 0, 0, 0, 0, 0, 0, 0, 0, 0, 0, 0, 0, 0, 0, 0, 0, 0, 0, 0, 0, 0, 0, 0, 0, 0, 0, 0, 0, 0, 0, 0, 0, 0, 0, 0, 0, 0, 0, 0, 0, 0, 0, 0, 0, 0, 0, 0, 0, 0, 0, 0, 0, 0, 0, 0, 0, 0, 0, 0, 0, 0, 0, 0, 0, 0, 0, 0, 0, 0, 0, 0, 0, 0, 0, 0, 0, 0, 0, 0, 0, 0, 0, 0, 0, 0, 0, 0, 0, 0, 0, 0, 0, 0, 0, 0, 0, 0, 0, 0, 0, 0, 0, 0, 0, 0, 0, 0, 0, 0, 0, 0, 0, 0, 0, 0, 0, 0, 0, 0, 0, 0, 0, 0, 0, 0, 0, 0, 0, 0, 0, 0, 0, 0, 0, 0, 0, 0, 0, 0, 0, 0, 0, 0, 0, 0, 0, 0, 0, 0, 0, 0, 0, 0, 0, 0, 0, 0, 0, 0, 0, 0, 0, 0, 0, 0, 0, 0, 0, 0, 0, 0, 0, 0, 0, 0, 0, 0, 0, 0, 0, 0, 0, 0, 0, 0, 0, 0, 0, 0, 0, 0, 0, 0, 0, 0, 0, 0, 0, 0, 0, 0, 0, 0, 0, 0, 0, 0, 0, 0, 0, 0, 0, 0, 0, 0, 0, 0, 0, 0, 1, 0, 0, 0, 0, 0, 0, 0, 0, 0, 0, 0, 0, 0, 0, 0, 0, 0, 0, 0, 0, 0, 0, 0, 0, 0, 0, 0, 0, 0, 0, 0, 0, 0, 0, 0, 0, 0, 0, 0, 0, 0, 0, 0, 0, 0, 0, 0, 0, 0, 0, 0, 0, 0, 0, 0, 1, 0, 0, 0, 0, 0, 0, 0, 0, 0, 0, 0, 0, 0, 0, 0, 0, 0, 0, 0, 0, 0, 0, 0, 0, 0, 0, 0, 0, 0, 0, 0, 0, 0, 0, 0, 0, 0, 0, 0, 0, 0, 0, 0, 0, 0, 0, 0, 0, 0, 0, 0, 0, 0, 0, 0, 0, 0, 0, 0, 0, 0, 0, 0, 0, 0, 0, 0, 0, 0, 0, 0, 0, 0, 0, 0, 0, 0, 0, 0, 0, 0, 0, 0, 0, 0, 0, 0, 0, 0, 0, 0, 0, 0, 0, 0, 0, 0, 0, 0, 0, 0, 0, 0, 0, 0, 0, 0, 0, 0, 0, 0, 0, 0, 0, 0, 0, 0, 0, 0, 0, 0, 0, 0, 0, 0, 0, 0, 0, 0, 0, 0, 0, 0, 0, 0, 0, 0, 0, 0, 0, 0, 0, 0, 0, 0, 0, 0, 0, 0, 0, 0, 0, 0, 0, 0, 0, 0, 0, 0, 0, 0, 0, 0, 0, 0, 0, 0, 0, 0, 0, 0, 0, 0, 0, 0, 0, 0, 0, 0, 0, 0, 0, 0, 0, 0, 0, 0, 0, 0, 0, 0, 0, 0, 0, 0, 0, 0, 0, 0, 0, 0, 0, 0, 0, 0, 0, 0, 0, 0, 0, 0, 0, 0, 0, 0, 0, 0, 0, 0, 0, 0, 0, 0, 0, 0, 0, 0, 0, 0, 0, 0, 0, 0, 0, 0, 0, 0, 0, 0, 0, 0, 0, 0, 0, 0, 0, 0, 0, 0, 0, 0, 0, 0, 0, 0, 0, 0, 0, 0, 0, 0, 0, 0, 0, 0, 0, 0, 0, 0, 0, 0, 0, 0, 0, 0, 0, 0, 0, 0, 0, 0, 0, 0, 0, 0, 0, 0, 0, 0, 0, 0, 0, 0, 0, 0, 0, 0, 0, 0, 0, 0, 0, 0, 0, 0, 0, 0, 0, 0, 0, 0, 0, 0, 0, 0, 0, 0, 0, 0, 0, 0, 0, 0, 0, 0, 0, 0, 0, 0, 0, 0, 0, 0, 0, 0, 0, 0, 0, 0, 0, 0, 0, 0, 0, 0, 0, 0, 0, 0, 0, 0, 0, 0, 0, 0, 0, 0, 0, 0, 0, 0, 0, 0, 0, 0, 0, 0, 0, 0, 0, 0, 0, 0, 0, 0, 0, 0, 0, 0, 0, 0, 0, 0, 0, 0, 0, 0, 0, 0, 0, 0, 0, 0, 0, 0, 0, 0, 0, 0, 0, 0, 0, 0, 0, 0, 0, 0, 0, 0, 0, 0, 0, 0, 0, 0, 0, 0, 0, 0, 0, 0, 0, 0, 0, 0, 0, 0, 0, 0, 0, 0, 0, 0, 0, 0, 0, 0, 0, 0, 0, 0, 0, 0, 0, 0, 0, 0, 0, 0, 0, 0, 0, 0, 0, 0, 0, 0, 0, 0, 0, 0, 0, 0, 0, 0, 0, 0, 0, 0, 0, 0, 0, 0, 0, 0, 0, 0, 0, 0, 0, 0, 0, 0, 0, 0, 0, 0, 0, 0, 0, 0, 0, 0, 0, 0, 0, 0, 0, 0, 0, 0, 0, 0, 0, 0, 0, 0, 0, 0, 0, 0, 0, 0, 0, 0, 0, 0, 0, 0, 0, 0, 0, 0, 0, 0, 0, 0, 0, 0, 0, 0, 0, 0, 0, 0, 0, 0, 0, 0, 0, 0, 0, 0, 0, 0, 0, 0, 0, 0, 0, 0, 0, 0, 0, 0, 0, 0, 0, 0, 0, 0, 0, 0, 0, 0, 0, 0, 0, 0, 0, 0, 0, 0, 0, 0, 0, 0, 0, 0, 0, 0, 0, 0, 0, 0, 0, 0, 0, 0, 0, 0, 0, 0, 0, 0, 0, 0, 0, 0, 0, 0, 0, 0, 0, 0, 0, 0, 0, 0, 0, 0, 0, 0, 0, 0, 0, 0, 0, 0, 0, 0, 0, 0, 0, 0, 0, 0, 0, 0, 0, 0, 0, 0, 0, 0, 0, 0, 0, 0, 0, 0, 0, 0, 0, 0, 0, 0, 0, 0, 0, 0, 0, 0, 0, 0, 0, 0, 0, 0, 0, 0, 0, 0, 0, 0, 0, 0, 0, 0, 0, 0, 0, 0, 0, 0, 0, 0, 0, 0, 0, 0, 1, 0, 0, 0, 0, 0, 0, 0, 0, 0, 0, 0, 0, 0, 0, 0, 0, 0, 0, 0, 0, 0, 0, 0, 0, 0, 0, 0, 0, 0, 0, 0, 0, 0, 0, 0, 0, 0, 0, 0, 0, 0, 0, 0, 0, 0, 0, 0, 0, 0, 0, 0, 0, 0, 0, 0, 0, 0, 0, 0, 0, 0, 0, 0, 0, 0, 0, 0, 0, 0, 0, 0, 0, 0, 0, 1, 0, 0, 0, 0, 0, 0, 0, 0, 0, 0, 0, 0, 0, 0, 0, 0, 0, 0, 0, 0, 1, 0, 0, 1, 0, 0, 0, 0, 0, 0, 0, 0, 0, 0, 0, 0, 0, 0, 0, 0, 0, 0, 0, 0, 0, 0, 0, 0, 0, 0, 0, 0, 0, 0, 0, 0, 0, 0, 0, 0, 0, 0, 0, 0, 0, 0, 0, 0, 0, 0, 0, 0, 0, 0, 0, 0, 0, 0, 0, 0, 0, 0, 0, 0, 0, 0, 0, 0, 0, 0, 0, 0, 0, 0, 0, 0, 0, 0, 0, 0, 0, 0, 0, 0, 0, 0, 0, 0, 0, 0, 0, 0, 0, 0, 0, 0, 0, 0, 0, 0, 0, 0, 0, 0, 0, 0, 0, 0, 0, 0, 0, 0, 0, 0, 0, 0, 0, 0, 0, 0, 0, 0, 0, 0, 0, 0, 0, 0, 0, 0, 0, 0, 0, 0, 0, 0, 0, 0, 0, 0, 0, 0, 0, 0, 0, 0, 0, 0, 0, 0, 0, 0, 0, 0, 0, 0, 0, 0, 0, 0, 0, 0, 0, 0, 0, 0, 0, 0, 0, 0, 0, 0, 0, 0, 0, 0, 0, 0, 0, 0, 0, 0, 0, 0, 0, 0, 0, 0, 0, 0, 0, 0, 0, 0, 0, 0, 0, 0, 0, 0, 0, 0, 0, 0, 0, 0, 0, 0, 0, 0, 0, 0, 0, 0, 0, 0, 0, 0, 0, 0, 0, 0, 0, 0, 0, 0, 0, 0, 0, 0, 0, 0, 0, 0, 0, 0, 0, 0, 0, 0, 0, 0, 0, 0, 0, 0, 0, 0, 0, 0, 0, 0, 0, 0, 0, 0, 0, 0, 0, 0, 0, 0, 0, 0, 0, 0, 0, 0, 0, 0, 0, 0, 0, 0, 0, 0, 0, 0, 0, 0, 0, 0, 0, 0, 0, 0, 0, 0, 0, 0, 0, 0, 0, 0, 0, 0, 0, 0, 0, 0, 0, 0, 0, 0, 0, 0, 0, 0, 0, 0, 0, 0, 0, 0, 0, 0, 0, 0, 0, 0, 0, 0, 0, 0, 0, 0, 0, 0, 0, 0, 0, 0, 0, 0, 0, 0, 0, 0, 0, 0, 0, 0, 0, 0, 0, 0, 0, 0, 0, 0, 0, 0, 0, 0, 0, 0, 0, 0, 0, 0, 0, 0, 0, 0, 0, 0, 0, 0, 0, 0, 0, 0, 0, 0, 0, 0, 0, 0, 0, 0, 0, 0, 0, 0, 0, 0, 0, 0, 0, 0, 0, 0, 0, 0, 0, 0, 0, 0, 0, 0, 0, 0, 0, 0, 0, 0, 0, 0, 0, 0, 0, 0, 0, 0, 0, 0, 0, 0, 0, 0, 0, 0, 0, 0, 0, 0, 0, 0, 0, 0, 0, 0, 0, 0, 0, 0, 0, 0, 0, 0, 0, 0, 0, 0, 0, 0, 0, 0, 0, 0, 0, 0, 0, 0, 0, 0, 0, 0, 0, 0, 0, 0, 0, 0, 0, 0, 0, 0, 0, 0, 1, 0, 0, 0, 0, 0, 0, 0, 0, 0, 0, 0, 0, 0, 0, 0, 0, 0, 0, 0, 0, 0, 0, 0, 0, 0, 0, 0, 0, 0, 0, 0, 0, 0, 0, 0, 0, 0, 0, 0, 0, 0, 0, 0, 0, 0, 0, 0, 0, 0, 0, 0, 0, 0, 0, 0, 0, 0, 0, 0, 0, 0, 0, 0, 0, 0, 0, 0, 0, 0, 0, 0, 0, 0, 0, 0, 0, 0, 0, 0, 0, 0, 0, 0, 0, 0, 0, 0, 0, 0, 0, 0, 0, 0, 0, 0, 0, 0, 0, 0, 0, 0, 0, 0, 0, 0, 0, 0, 0, 0, 0, 0, 0, 0, 0, 0, 0, 0, 0, 0, 0, 0, 0, 0, 0, 0, 0, 0, 0, 0, 0, 0, 0, 0, 0, 0, 0, 0, 0, 0, 0, 0, 0, 0, 0, 0, 0, 0, 0, 0, 0, 0, 0, 0, 0, 0, 0, 0, 0, 0, 0, 0, 0, 0, 0, 0, 0, 0, 0, 0, 0, 0, 0, 0, 0, 0, 0, 0, 0, 0, 0, 0, 0, 0, 0, 0, 0, 0, 0, 0, 0, 0, 0, 0, 0, 0, 0, 0, 0, 0, 0, 0, 0, 0, 0, 0, 0, 0, 0, 0, 0, 0, 0, 0, 0, 0, 0, 0, 0, 0, 0, 0, 0, 0, 0, 0, 0, 0, 0, 0, 0, 0, 0, 0, 0, 0, 0, 0, 0, 0, 0, 0, 0, 0, 0, 0, 0, 0, 0, 0, 0, 0, 0, 0, 0, 0, 0, 0, 0, 0, 0, 0, 0, 0, 0, 0, 0, 0, 0, 0, 0, 0, 0, 0, 0, 0, 0, 0, 0, 0, 0, 0, 0, 0, 0, 0, 0, 0, 0, 0, 0, 0, 0, 0, 0, 0, 0, 0, 0, 0, 0, 0, 0, 0, 0, 0, 0, 0, 0, 0, 0, 0, 0, 0, 0, 0, 0, 0, 0, 0, 0, 0, 0, 0, 0, 0, 0, 0, 0, 0, 0, 0, 0, 0, 0, 0, 0, 0, 0, 0, 0, 0, 0, 0, 0, 0, 0, 0, 0, 0, 0, 0, 0, 0, 0, 0, 0, 0, 0, 0, 0, 0, 0, 0, 0, 0, 0, 0, 0, 0, 0, 0, 0, 0, 0, 0, 0, 0, 0, 0, 0, 0, 0, 0, 0, 0, 0, 0, 0, 0, 0, 0, 0, 0, 0, 0, 0, 0, 0, 0, 0, 0, 0, 0, 0, 0, 0, 0, 0, 0, 0, 0, 0, 0, 0, 0, 0, 0, 0, 0, 0, 0, 0, 0, 0, 0, 0, 0, 0, 0, 0, 0, 0, 0, 0, 0, 0, 0, 0, 0, 0, 0, 0, 0, 0, 0, 0, 0, 0, 0, 0, 0, 0, 0, 0, 0, 0, 0, 0, 0, 0, 0, 0, 0, 0, 0, 0, 0, 0, 0, 0, 0, 0, 0, 0, 0, 0, 0, 0, 0, 0, 0, 0, 0, 0, 0, 0, 0, 0, 0, 0, 0, 0, 0, 0, 0, 0, 0, 0, 0, 0, 0, 0, 0, 0, 0, 0, 0, 0, 0, 0, 0, 0, 1, 0, 0, 0, 0, 0, 0, 0, 0, 0, 0, 0, 0, 0, 0, 0, 0, 0, 0, 0, 0, 0, 0, 0, 0, 0, 0, 0, 0, 0, 0, 0, 0, 0, 0, 0, 2, 0, 0, 0, 0, 0, 0, 0, 0, 0, 0, 0, 0, 0, 0, 0, 0, 0, 0, 0, 0, 0, 0, 0, 0, 0, 0, 0, 0, 0, 0, 0, 0, 0, 0, 0, 0, 0, 0, 0, 0, 1, 0, 0, 0, 0, 0, 0, 0, 0, 0, 0, 0, 0, 0, 0, 0, 0, 0, 0, 0, 0, 0, 0, 0, 0, 0, 0, 0, 0, 0, 0, 0, 0, 0, 0, 0, 0, 0, 0, 0, 0, 0, 0, 0, 0, 0, 0, 0, 0, 0, 0, 0, 0, 0, 0, 0, 0, 0, 0, 0, 0, 0, 0, 0, 0, 0, 0, 0, 0, 0, 0, 0, 0, 0, 0, 0, 0, 0, 0, 0, 0, 0, 0, 0, 0, 0, 0, 0, 0, 0, 0, 0, 0, 0, 0, 0, 0, 0, 0, 0, 0, 0, 0, 0, 0, 0, 0, 0, 0, 0, 0, 0, 0, 0, 0, 0, 0, 0, 0, 0, 0, 0, 0, 0, 0, 0, 0, 0, 0, 0, 0, 0, 0, 0, 0, 0, 0, 0, 0, 0, 0, 0, 0, 0, 0, 0, 0, 0, 0, 0, 0, 0, 0, 0, 0, 0, 0, 0, 0, 0, 0, 0, 0, 0, 0, 0, 0, 0, 0, 0, 0, 0, 0, 0, 0, 0, 0, 0, 0, 0, 0, 0, 0, 0, 0, 0, 0, 0, 0, 0, 0, 0, 0, 0, 0, 0, 0, 0, 0, 0, 0, 0, 0, 0, 0, 0, 0, 0, 0, 0, 0, 0, 0, 0, 0, 0, 0, 0, 0, 0, 0, 0, 0, 0, 0, 0, 0, 0, 0, 0, 0, 0, 0, 0, 0, 0, 0, 0, 0, 0, 0, 0, 0, 0, 0, 0, 0, 0, 0, 0, 0, 0, 0, 0, 0, 0, 0, 0, 0, 0, 0, 0, 0, 0, 0, 0, 0, 0, 0, 0, 0, 0, 0, 0, 0, 0, 0, 0, 0, 0, 0, 0, 0, 0, 0, 0, 0, 0, 0, 0, 0, 0, 0, 0, 0, 0, 0, 0, 0, 0, 0, 0, 0, 0, 0, 0, 0, 0, 0, 0, 0, 0, 0, 0, 0, 0, 0, 0, 0, 0, 0, 0, 0, 0, 0, 0, 0, 0, 0, 0, 0, 0, 0, 0, 0, 0, 0, 0, 0, 0, 0, 0, 0, 0, 0, 0, 0, 0, 0, 0, 0, 0, 0, 0, 0, 0, 0, 0, 0, 0, 0, 0, 0, 0, 0, 0, 0, 0, 0, 0, 0, 0, 0, 0, 0, 0, 0, 0, 0, 0, 0, 0, 0, 0, 0, 0, 0, 0, 0, 0, 0, 0, 0, 0, 0, 0, 0, 0, 0, 0, 0, 0, 0, 0, 0, 0, 0, 0, 0, 0, 0, 0, 0, 0, 0, 0, 0, 0, 0, 0, 0, 0, 0, 0, 0, 0, 0, 0, 0, 0, 0, 0, 0, 0, 0, 0, 0, 0, 0, 0, 0, 0, 0, 0, 0, 0, 0, 0, 0, 0, 0, 0, 0, 0, 0, 0, 0, 0, 0, 0, 0, 0, 0, 0, 0, 0, 0, 0, 0, 0, 0, 0, 0, 0, 0, 0, 0, 0, 0, 0, 0, 0, 0, 0, 0, 0, 0, 0, 0, 0, 0, 0, 0, 0, 0, 0, 0, 0, 1, 0, 0, 0, 0, 0, 0, 0, 0, 0, 0, 0, 0, 0, 0, 0, 0, 0, 0, 0, 0, 0, 0, 0, 0, 0, 0, 0, 0, 0, 0, 0, 0, 0, 0, 0, 0, 0, 0, 0, 0, 0, 0, 0, 0, 0, 0, 0, 0, 0, 0, 0, 0, 0, 0, 0, 0, 0, 0, 0, 0, 0, 0, 0, 0, 0, 0, 0, 0, 0, 0, 0, 0, 0, 0, 0, 0, 0, 0, 0, 0, 0, 0, 0, 0, 0, 0, 0, 0, 0, 0, 0, 0, 0, 0, 0, 0, 0, 0, 0, 0, 0, 0, 0, 0, 0, 0, 0, 0, 0, 0, 2, 0, 0, 0, 0, 0, 0, 0, 0, 0, 0, 0, 0, 0, 0, 0, 0, 0, 0, 0, 0, 0, 0, 0, 0, 0, 0, 0, 0, 0, 0, 0, 0, 0, 0, 0, 0, 0, 0, 0, 0, 0, 0, 0, 0, 0, 0, 0, 0, 0, 0, 0, 0, 0, 0, 0, 0, 0, 0, 0, 0, 0, 0, 0, 0, 0, 0, 0, 0, 0, 0, 0, 0, 0, 0, 0, 0, 0, 0, 0, 0, 0, 0, 0, 0, 0, 0, 0, 0, 0, 0, 0, 0, 0, 0, 0, 0, 0, 0, 0, 0, 0, 0, 0, 0, 0, 0, 0, 0, 0, 0, 0, 0, 0, 0, 0, 0, 0, 0, 0, 0, 0, 0, 0, 0, 0, 0, 0, 0, 0, 0, 0, 0, 0, 0, 0, 0, 0, 0, 0, 0, 0, 0, 0, 0, 0, 0, 0, 0, 0, 0, 0, 0, 0, 0, 0, 0, 0, 0, 0, 0, 0, 0, 0, 0, 0, 0, 0, 0, 0, 0, 0, 0, 0, 0, 0, 0, 0, 0, 0, 0, 0, 0, 0, 0, 0, 0, 0, 0, 0, 0, 0, 0, 0, 0, 0, 0, 0, 0, 0, 0, 0, 0, 0, 0, 0, 0, 0, 0, 0, 0, 0, 0, 0, 0, 0, 0, 0, 0, 0, 0, 0, 0, 0, 0, 0, 0, 0, 0, 0, 0, 0, 0, 0, 0, 0, 0, 0, 0, 0, 0, 0, 0, 0, 0, 0, 0, 0, 0, 0, 0, 0, 0, 0, 0, 0, 0, 0, 0, 0, 0, 0, 0, 0, 0, 0, 0, 0, 0, 0, 0, 0, 0, 0, 0, 0, 0, 0, 0, 0, 0, 0, 0, 0, 0, 0, 0, 0, 0, 0, 0, 0, 0, 0, 0, 0, 0, 0, 0, 0, 0, 0, 0, 0, 0, 0, 0, 0, 0, 0, 0, 0, 0, 0, 0, 0, 0, 0, 0, 0, 0, 0, 0, 0, 0, 0, 0, 0, 0, 0, 0, 0, 0, 0, 0, 0, 0, 0, 0, 0, 0, 0, 0, 0, 0, 0, 0, 0, 0, 0, 0, 0, 0, 0, 0, 0, 0, 0, 0, 0, 0, 0, 0, 0, 0, 0, 0, 0, 0, 0, 0, 0, 0, 0, 0, 0, 0, 0, 0, 0, 0, 0, 0, 0, 0, 0, 0, 0, 0, 0, 0, 0, 0, 0, 0, 0, 0, 0, 0, 0, 0, 0, 0, 0, 0, 0, 0, 0, 0, 0, 0, 0, 0, 0, 0, 0, 0, 0, 0, 0, 0, 0, 0, 0, 0, 0, 0, 0, 0, 0, 0, 0, 0, 0, 0, 0, 0, 0, 0, 0, 0, 0, 0, 0, 0, 0, 0, 0, 0, 0, 0, 0, 0, 0, 0, 0, 0, 0, 0, 0, 0, 0, 0, 0, 0, 0, 0, 0, 0, 0, 0, 0, 0, 0, 0, 0, 0, 0, 0, 0, 0, 0, 0, 0, 0, 0, 0, 0, 0, 0, 0, 0, 0, 0, 0, 0, 0, 0, 0, 0, 0, 0, 0, 0, 0, 0, 0, 0, 0, 0, 0, 0, 0, 0, 0, 0, 0, 0, 0, 0, 0, 0, 0, 0, 0, 0, 0, 0, 0, 0, 0, 0, 0, 0, 0, 0, 0, 0, 0, 0, 0, 0, 0, 0, 0, 0, 0, 0, 0, 0, 0, 0, 0, 0, 0, 0, 0, 0, 0, 0, 0, 0, 0, 0, 0, 0, 0, 0, 0, 0, 0, 0, 0, 0, 0, 0, 0, 0, 0, 0, 0, 0, 0, 0, 0, 0, 0, 0, 0, 0, 0, 0, 0, 0, 0, 0, 0, 0, 0, 0, 0, 0, 0, 0, 0, 0, 0, 0, 0, 0, 0, 0, 0, 0, 0, 0, 0, 0, 0, 0, 0, 0, 0, 0, 0, 0, 0, 0, 0, 0, 0, 0, 0, 0, 0, 0, 0, 0, 0, 0, 0, 0, 0, 0, 0, 0, 0, 0, 0, 0, 0, 0, 0, 0, 0, 0, 0, 0, 0, 0, 0, 0, 0, 0, 0, 0, 0, 0, 0, 0, 0, 0, 0, 0, 0, 0, 0, 0, 0, 0, 0, 0, 0, 0, 0, 0, 0, 0, 0, 0, 0, 1, 0, 0, 0, 0, 0, 0, 0, 0, 0, 0, 0, 0, 0, 0, 0, 0, 0, 0, 0, 0, 0, 0, 0, 0, 0, 0, 0, 0, 0, 0, 0, 0, 0, 0, 0, 0, 0, 0, 0, 0, 0, 0, 0, 0, 0, 0, 0, 0, 0, 0, 0, 0, 0, 0, 0, 0, 0, 0, 0, 0, 0, 0, 0, 0, 0, 0, 0, 0, 0, 0, 0, 0, 0, 0, 0, 0, 0, 0, 0, 0, 0, 0, 0, 0, 0, 0, 0, 0, 0, 0, 0, 0, 0, 0, 0, 0, 0, 0, 0, 0, 0, 0, 0, 0, 0, 0, 0, 1, 0, 0, 0, 0, 0, 0, 0, 0, 0, 0, 0, 0, 0, 0, 0, 0, 0, 0, 0, 0, 0, 0, 0, 0, 0, 0, 0, 0, 0, 0, 0, 0, 0, 0, 0, 0, 0, 0, 0, 0, 0, 0, 0, 0, 0, 0, 0, 0, 0, 0, 0, 0, 0, 0, 0, 0, 0, 0, 0, 0, 0, 0, 0, 0, 0, 0, 0, 0, 0, 0, 0, 0, 0, 0, 0, 0, 0, 0, 0, 0, 0, 0, 0, 0, 0, 0, 0, 0, 0, 0, 0, 0, 0, 0, 0, 0, 0, 0, 0, 0, 0, 0, 0, 0, 0, 0, 0, 0, 0, 0, 0, 0, 0, 0, 0, 0, 0, 0, 0, 0, 0, 0, 0, 0, 0, 0, 0, 0, 0, 0, 0, 0, 0, 0, 0, 0, 0, 0, 0, 0, 0, 0, 0, 0, 0, 0, 0, 0, 0, 0, 0, 0, 0, 0, 0, 0, 0, 0, 0, 0, 0, 0, 0, 0, 0, 0, 0, 0, 0, 0, 0, 0, 0, 0, 0, 0, 0, 0, 0, 0, 0, 0, 0, 0, 0, 0, 0, 0, 0, 0, 0, 0, 0, 0, 0, 0, 0, 0, 0, 0, 0, 0, 0, 0, 0, 0, 0, 0, 0, 0, 0, 0, 0, 0, 0, 0, 0, 0, 0, 0, 0, 0, 0, 0, 0, 0, 0, 0, 0, 0, 0, 0, 0, 0, 0, 0, 0, 0, 0, 0, 0, 0, 0, 0, 0, 0, 0, 0, 0, 0, 0, 0, 0, 0, 0, 0, 0, 0, 0, 0, 0, 0, 0, 0, 0, 0, 0, 0, 0, 0, 0, 0, 0, 0, 0, 0, 0, 0, 0, 0, 0, 0, 0, 0, 0, 0, 0, 0, 0, 0, 0, 0, 0, 0, 0, 0, 0, 0, 0, 0, 0, 0, 0, 0, 0, 0, 0, 0, 0, 0, 0, 0, 0, 0, 0, 0, 0, 0, 0, 0, 0, 0, 0, 0, 0, 0, 0, 0, 0, 0, 0, 0, 0, 0, 0, 0, 0, 0, 0, 0, 0, 0, 0, 0, 0, 0, 0, 0, 0, 0, 0, 0, 0, 0, 0, 0, 0, 0, 0, 0, 0, 0, 0, 0, 0, 0, 0, 0, 0, 0, 0, 0, 0, 0, 0, 0, 0, 0, 0, 0, 0, 0, 0, 0, 0, 0, 0, 0, 0, 0, 0, 0, 0, 0, 0, 0, 0, 0, 0, 0, 0, 0, 0, 0, 0, 0, 0, 0, 0, 0, 0, 0, 0, 0, 0, 0, 0, 0, 0, 0, 0, 0, 0, 0, 0, 0, 0, 0, 0, 0, 0, 0, 0, 0, 0, 0, 0, 0, 0, 0, 0, 0, 0, 0, 0, 0, 0, 0, 0, 0, 0, 0, 0, 0, 0, 0, 0, 0, 0, 0, 0, 0, 0, 2, 0, 1, 0], type: <class 'list'>, valid types: <class 'bytes'>, <class 'bytearray'>, file-like object",
     "output_type": "error",
     "traceback": [
      "\u001b[0;31m---------------------------------------------------------------------------\u001b[0m",
      "\u001b[0;31mParamValidationError\u001b[0m                      Traceback (most recent call last)",
      "\u001b[0;32m<ipython-input-44-c9ab54ae3a48>\u001b[0m in \u001b[0;36m<module>\u001b[0;34m()\u001b[0m\n\u001b[1;32m      1\u001b[0m response = runtime.invoke_endpoint(EndpointName = xgb_predictor.endpoint, # The name of the endpoint we created\n\u001b[1;32m      2\u001b[0m                                        \u001b[0mContentType\u001b[0m \u001b[0;34m=\u001b[0m \u001b[0;34m'text/csv'\u001b[0m\u001b[0;34m,\u001b[0m                     \u001b[0;31m# The data format that is expected\u001b[0m\u001b[0;34m\u001b[0m\u001b[0m\n\u001b[0;32m----> 3\u001b[0;31m                                        Body = test_bow)\n\u001b[0m",
      "\u001b[0;32m~/anaconda3/envs/python3/lib/python3.6/site-packages/botocore/client.py\u001b[0m in \u001b[0;36m_api_call\u001b[0;34m(self, *args, **kwargs)\u001b[0m\n\u001b[1;32m    355\u001b[0m                     \"%s() only accepts keyword arguments.\" % py_operation_name)\n\u001b[1;32m    356\u001b[0m             \u001b[0;31m# The \"self\" in this scope is referring to the BaseClient.\u001b[0m\u001b[0;34m\u001b[0m\u001b[0;34m\u001b[0m\u001b[0m\n\u001b[0;32m--> 357\u001b[0;31m             \u001b[0;32mreturn\u001b[0m \u001b[0mself\u001b[0m\u001b[0;34m.\u001b[0m\u001b[0m_make_api_call\u001b[0m\u001b[0;34m(\u001b[0m\u001b[0moperation_name\u001b[0m\u001b[0;34m,\u001b[0m \u001b[0mkwargs\u001b[0m\u001b[0;34m)\u001b[0m\u001b[0;34m\u001b[0m\u001b[0m\n\u001b[0m\u001b[1;32m    358\u001b[0m \u001b[0;34m\u001b[0m\u001b[0m\n\u001b[1;32m    359\u001b[0m         \u001b[0m_api_call\u001b[0m\u001b[0;34m.\u001b[0m\u001b[0m__name__\u001b[0m \u001b[0;34m=\u001b[0m \u001b[0mstr\u001b[0m\u001b[0;34m(\u001b[0m\u001b[0mpy_operation_name\u001b[0m\u001b[0;34m)\u001b[0m\u001b[0;34m\u001b[0m\u001b[0m\n",
      "\u001b[0;32m~/anaconda3/envs/python3/lib/python3.6/site-packages/botocore/client.py\u001b[0m in \u001b[0;36m_make_api_call\u001b[0;34m(self, operation_name, api_params)\u001b[0m\n\u001b[1;32m    632\u001b[0m         }\n\u001b[1;32m    633\u001b[0m         request_dict = self._convert_to_request_dict(\n\u001b[0;32m--> 634\u001b[0;31m             api_params, operation_model, context=request_context)\n\u001b[0m\u001b[1;32m    635\u001b[0m \u001b[0;34m\u001b[0m\u001b[0m\n\u001b[1;32m    636\u001b[0m         \u001b[0mservice_id\u001b[0m \u001b[0;34m=\u001b[0m \u001b[0mself\u001b[0m\u001b[0;34m.\u001b[0m\u001b[0m_service_model\u001b[0m\u001b[0;34m.\u001b[0m\u001b[0mservice_id\u001b[0m\u001b[0;34m.\u001b[0m\u001b[0mhyphenize\u001b[0m\u001b[0;34m(\u001b[0m\u001b[0;34m)\u001b[0m\u001b[0;34m\u001b[0m\u001b[0m\n",
      "\u001b[0;32m~/anaconda3/envs/python3/lib/python3.6/site-packages/botocore/client.py\u001b[0m in \u001b[0;36m_convert_to_request_dict\u001b[0;34m(self, api_params, operation_model, context)\u001b[0m\n\u001b[1;32m    680\u001b[0m             api_params, operation_model, context)\n\u001b[1;32m    681\u001b[0m         request_dict = self._serializer.serialize_to_request(\n\u001b[0;32m--> 682\u001b[0;31m             api_params, operation_model)\n\u001b[0m\u001b[1;32m    683\u001b[0m         \u001b[0;32mif\u001b[0m \u001b[0;32mnot\u001b[0m \u001b[0mself\u001b[0m\u001b[0;34m.\u001b[0m\u001b[0m_client_config\u001b[0m\u001b[0;34m.\u001b[0m\u001b[0minject_host_prefix\u001b[0m\u001b[0;34m:\u001b[0m\u001b[0;34m\u001b[0m\u001b[0m\n\u001b[1;32m    684\u001b[0m             \u001b[0mrequest_dict\u001b[0m\u001b[0;34m.\u001b[0m\u001b[0mpop\u001b[0m\u001b[0;34m(\u001b[0m\u001b[0;34m'host_prefix'\u001b[0m\u001b[0;34m,\u001b[0m \u001b[0;32mNone\u001b[0m\u001b[0;34m)\u001b[0m\u001b[0;34m\u001b[0m\u001b[0m\n",
      "\u001b[0;32m~/anaconda3/envs/python3/lib/python3.6/site-packages/botocore/validate.py\u001b[0m in \u001b[0;36mserialize_to_request\u001b[0;34m(self, parameters, operation_model)\u001b[0m\n\u001b[1;32m    295\u001b[0m                                                     operation_model.input_shape)\n\u001b[1;32m    296\u001b[0m             \u001b[0;32mif\u001b[0m \u001b[0mreport\u001b[0m\u001b[0;34m.\u001b[0m\u001b[0mhas_errors\u001b[0m\u001b[0;34m(\u001b[0m\u001b[0;34m)\u001b[0m\u001b[0;34m:\u001b[0m\u001b[0;34m\u001b[0m\u001b[0m\n\u001b[0;32m--> 297\u001b[0;31m                 \u001b[0;32mraise\u001b[0m \u001b[0mParamValidationError\u001b[0m\u001b[0;34m(\u001b[0m\u001b[0mreport\u001b[0m\u001b[0;34m=\u001b[0m\u001b[0mreport\u001b[0m\u001b[0;34m.\u001b[0m\u001b[0mgenerate_report\u001b[0m\u001b[0;34m(\u001b[0m\u001b[0;34m)\u001b[0m\u001b[0;34m)\u001b[0m\u001b[0;34m\u001b[0m\u001b[0m\n\u001b[0m\u001b[1;32m    298\u001b[0m         return self._serializer.serialize_to_request(parameters,\n\u001b[1;32m    299\u001b[0m                                                      operation_model)\n",
      "\u001b[0;31mParamValidationError\u001b[0m: Parameter validation failed:\nInvalid type for parameter Body, value: [0, 0, 0, 0, 0, 0, 0, 0, 0, 0, 0, 0, 0, 0, 0, 0, 0, 0, 0, 0, 0, 0, 0, 0, 0, 0, 0, 0, 0, 0, 0, 0, 0, 0, 0, 0, 0, 0, 0, 0, 0, 0, 0, 0, 0, 0, 0, 0, 0, 0, 0, 0, 0, 0, 0, 0, 0, 0, 0, 0, 0, 0, 0, 0, 0, 0, 0, 0, 0, 0, 0, 0, 0, 0, 0, 0, 0, 0, 0, 0, 0, 0, 0, 0, 0, 0, 0, 0, 0, 0, 0, 0, 0, 0, 0, 0, 0, 0, 0, 0, 0, 0, 0, 0, 0, 0, 0, 0, 0, 0, 0, 0, 0, 0, 0, 0, 0, 0, 0, 0, 0, 0, 0, 0, 0, 0, 0, 0, 0, 0, 0, 0, 0, 0, 0, 0, 0, 0, 0, 0, 0, 0, 0, 0, 0, 0, 0, 0, 0, 0, 0, 0, 0, 0, 0, 0, 0, 0, 0, 0, 0, 0, 0, 0, 0, 0, 0, 0, 0, 0, 0, 0, 0, 0, 0, 0, 0, 0, 0, 0, 0, 0, 0, 0, 0, 0, 0, 0, 0, 0, 0, 0, 0, 0, 0, 0, 0, 0, 0, 0, 0, 0, 0, 0, 0, 0, 0, 0, 0, 0, 0, 0, 0, 0, 0, 0, 0, 0, 0, 0, 0, 0, 0, 0, 0, 0, 1, 0, 0, 0, 0, 0, 0, 0, 0, 0, 0, 0, 0, 0, 0, 0, 0, 0, 0, 0, 0, 0, 0, 0, 0, 0, 0, 0, 0, 0, 1, 0, 0, 0, 0, 0, 0, 0, 0, 0, 0, 0, 0, 0, 0, 0, 0, 0, 0, 0, 0, 0, 0, 0, 0, 0, 0, 0, 0, 0, 0, 0, 0, 0, 0, 0, 0, 0, 0, 0, 0, 0, 0, 0, 0, 0, 0, 0, 0, 0, 0, 0, 0, 0, 0, 0, 0, 0, 0, 0, 0, 0, 0, 0, 0, 0, 0, 0, 0, 0, 0, 0, 0, 0, 0, 0, 0, 0, 0, 0, 0, 0, 0, 0, 0, 0, 0, 0, 0, 0, 0, 0, 0, 0, 0, 0, 0, 0, 0, 0, 0, 0, 0, 0, 0, 0, 0, 0, 0, 0, 0, 0, 0, 0, 0, 0, 0, 0, 0, 0, 0, 0, 0, 0, 0, 0, 0, 0, 0, 0, 0, 0, 0, 0, 0, 0, 0, 0, 0, 0, 0, 0, 0, 0, 0, 0, 0, 0, 0, 0, 0, 0, 0, 0, 0, 0, 0, 0, 0, 0, 0, 0, 0, 0, 0, 0, 0, 0, 0, 0, 0, 0, 0, 0, 0, 0, 0, 0, 0, 0, 0, 0, 0, 0, 0, 0, 0, 0, 0, 0, 0, 0, 0, 0, 0, 0, 0, 0, 0, 0, 0, 0, 0, 0, 0, 0, 0, 0, 0, 0, 0, 0, 0, 0, 0, 0, 0, 0, 0, 0, 0, 0, 0, 0, 0, 0, 0, 0, 0, 0, 0, 0, 0, 0, 0, 0, 0, 0, 0, 0, 0, 0, 0, 0, 0, 0, 0, 0, 0, 0, 0, 0, 0, 0, 0, 0, 0, 0, 0, 0, 0, 0, 0, 0, 0, 0, 0, 0, 0, 0, 0, 0, 0, 0, 0, 0, 0, 0, 0, 0, 0, 0, 0, 0, 0, 0, 0, 0, 0, 0, 0, 0, 0, 0, 0, 0, 0, 0, 0, 0, 0, 0, 0, 0, 0, 0, 0, 0, 0, 0, 0, 0, 0, 0, 0, 0, 0, 0, 0, 0, 0, 0, 0, 0, 0, 0, 0, 0, 0, 0, 0, 0, 0, 0, 0, 0, 0, 0, 0, 0, 0, 0, 0, 0, 0, 0, 0, 0, 0, 0, 0, 0, 0, 0, 0, 0, 0, 0, 0, 0, 0, 0, 0, 0, 0, 0, 0, 0, 0, 0, 0, 0, 0, 0, 0, 0, 0, 0, 0, 0, 1, 0, 0, 0, 0, 0, 0, 0, 0, 0, 0, 0, 0, 0, 0, 0, 0, 0, 0, 0, 0, 0, 0, 0, 0, 0, 0, 0, 0, 0, 0, 0, 0, 0, 0, 0, 0, 0, 0, 0, 0, 0, 0, 0, 0, 0, 0, 0, 0, 0, 0, 0, 0, 0, 0, 0, 0, 0, 0, 0, 0, 0, 0, 0, 0, 0, 0, 0, 0, 0, 0, 0, 0, 0, 0, 0, 0, 0, 0, 0, 0, 0, 0, 0, 0, 0, 0, 0, 0, 0, 0, 0, 0, 0, 0, 0, 0, 0, 0, 0, 0, 0, 0, 0, 0, 0, 0, 0, 0, 0, 0, 0, 0, 0, 0, 0, 0, 0, 0, 0, 0, 0, 0, 0, 0, 0, 0, 0, 0, 0, 0, 0, 0, 0, 0, 0, 0, 0, 0, 0, 0, 0, 0, 0, 0, 0, 0, 0, 0, 0, 0, 0, 0, 0, 0, 0, 0, 0, 0, 0, 0, 0, 0, 0, 0, 0, 0, 0, 0, 0, 0, 0, 0, 0, 0, 0, 0, 0, 0, 0, 0, 0, 0, 0, 0, 0, 0, 0, 0, 0, 0, 0, 0, 0, 0, 0, 0, 0, 0, 0, 0, 0, 0, 0, 0, 0, 0, 0, 0, 0, 0, 0, 0, 0, 0, 0, 0, 0, 0, 0, 0, 0, 0, 0, 0, 0, 0, 0, 0, 0, 0, 0, 0, 0, 0, 0, 0, 0, 0, 0, 0, 0, 0, 0, 0, 0, 0, 0, 0, 0, 0, 0, 0, 0, 1, 0, 0, 0, 0, 0, 0, 0, 0, 0, 0, 0, 0, 0, 0, 0, 0, 0, 0, 0, 0, 0, 0, 0, 0, 0, 0, 0, 0, 0, 0, 0, 0, 0, 0, 0, 0, 0, 0, 0, 0, 0, 0, 0, 0, 0, 0, 0, 0, 0, 0, 0, 0, 0, 0, 0, 0, 0, 0, 0, 0, 0, 0, 0, 0, 0, 0, 0, 0, 0, 0, 0, 0, 0, 0, 0, 0, 0, 0, 0, 0, 0, 0, 0, 0, 0, 0, 1, 0, 0, 0, 0, 0, 0, 0, 0, 0, 0, 0, 0, 0, 0, 0, 0, 0, 0, 0, 0, 0, 0, 0, 0, 0, 0, 0, 0, 0, 0, 0, 0, 0, 0, 0, 0, 0, 0, 0, 0, 0, 0, 0, 0, 0, 0, 0, 0, 0, 0, 0, 0, 0, 0, 0, 0, 0, 0, 0, 0, 0, 0, 0, 0, 0, 0, 0, 0, 0, 0, 0, 0, 0, 0, 0, 0, 0, 0, 0, 0, 0, 0, 0, 0, 0, 0, 0, 0, 0, 0, 0, 0, 0, 0, 0, 0, 0, 0, 0, 0, 0, 0, 0, 0, 0, 0, 0, 0, 0, 0, 0, 0, 0, 0, 0, 0, 0, 0, 0, 0, 0, 0, 0, 0, 0, 0, 0, 0, 0, 0, 0, 0, 0, 0, 0, 0, 0, 0, 0, 0, 0, 0, 0, 0, 0, 0, 0, 0, 0, 0, 0, 0, 0, 0, 0, 0, 0, 0, 0, 0, 0, 0, 0, 0, 0, 0, 0, 0, 0, 0, 0, 0, 0, 0, 0, 0, 0, 0, 0, 0, 0, 0, 0, 0, 0, 0, 0, 0, 0, 0, 0, 0, 0, 0, 0, 0, 0, 0, 0, 0, 0, 0, 0, 0, 0, 0, 0, 0, 0, 0, 0, 0, 0, 0, 0, 0, 0, 0, 0, 0, 0, 0, 0, 0, 0, 0, 0, 0, 0, 0, 0, 0, 0, 0, 0, 0, 0, 0, 0, 0, 0, 0, 0, 0, 0, 0, 0, 0, 0, 0, 0, 0, 1, 0, 0, 0, 0, 0, 0, 0, 0, 0, 0, 0, 0, 0, 0, 0, 0, 0, 0, 0, 0, 0, 0, 0, 0, 0, 0, 0, 0, 0, 0, 0, 0, 0, 0, 0, 0, 0, 0, 0, 0, 0, 0, 0, 0, 0, 0, 0, 0, 0, 0, 0, 0, 0, 0, 0, 1, 0, 0, 0, 0, 0, 0, 0, 0, 0, 0, 0, 0, 0, 0, 0, 0, 0, 0, 0, 0, 0, 0, 0, 0, 0, 0, 0, 0, 0, 0, 0, 0, 0, 0, 0, 0, 0, 0, 0, 0, 0, 0, 0, 0, 0, 0, 0, 0, 0, 0, 0, 0, 0, 0, 0, 0, 0, 0, 0, 0, 0, 0, 0, 0, 0, 0, 0, 0, 0, 0, 0, 0, 0, 0, 0, 0, 0, 0, 0, 0, 0, 0, 0, 0, 0, 0, 0, 0, 0, 0, 0, 0, 0, 0, 0, 0, 0, 0, 0, 0, 0, 0, 0, 0, 0, 0, 0, 0, 0, 0, 0, 0, 0, 0, 0, 0, 0, 0, 0, 0, 0, 0, 0, 0, 0, 0, 0, 0, 0, 0, 0, 0, 0, 0, 0, 0, 0, 0, 0, 0, 0, 0, 0, 0, 0, 0, 0, 0, 0, 0, 0, 0, 0, 0, 0, 0, 0, 0, 0, 0, 0, 0, 0, 0, 0, 0, 0, 0, 0, 0, 0, 0, 0, 0, 0, 0, 0, 0, 0, 0, 0, 0, 0, 0, 0, 0, 0, 0, 0, 0, 0, 0, 0, 0, 0, 0, 0, 0, 0, 0, 0, 0, 0, 0, 0, 0, 0, 0, 0, 0, 0, 0, 0, 0, 0, 0, 0, 0, 0, 0, 0, 0, 0, 0, 0, 0, 0, 0, 0, 0, 0, 0, 0, 0, 0, 0, 0, 0, 0, 0, 0, 0, 0, 0, 0, 0, 0, 0, 0, 0, 0, 0, 0, 0, 0, 0, 0, 0, 0, 0, 0, 0, 0, 0, 0, 0, 0, 0, 0, 0, 0, 0, 0, 0, 0, 0, 0, 0, 0, 0, 0, 0, 0, 0, 0, 0, 0, 0, 0, 0, 0, 0, 0, 0, 0, 0, 0, 0, 0, 0, 0, 0, 0, 0, 0, 0, 0, 0, 0, 0, 0, 0, 0, 0, 0, 0, 0, 0, 0, 0, 0, 0, 0, 0, 0, 0, 0, 0, 0, 0, 0, 0, 0, 0, 0, 0, 0, 0, 0, 0, 0, 0, 0, 0, 0, 0, 0, 0, 0, 0, 0, 0, 0, 0, 0, 0, 0, 0, 0, 0, 0, 0, 0, 0, 0, 0, 0, 0, 0, 0, 0, 0, 0, 0, 0, 0, 0, 0, 0, 0, 0, 0, 0, 0, 0, 0, 0, 0, 0, 0, 0, 0, 0, 0, 0, 0, 0, 0, 0, 0, 0, 0, 0, 0, 0, 0, 0, 0, 0, 0, 0, 0, 0, 0, 0, 0, 0, 0, 0, 0, 0, 0, 0, 0, 0, 0, 0, 0, 0, 0, 0, 0, 0, 0, 0, 0, 0, 0, 0, 0, 0, 0, 0, 0, 0, 0, 0, 0, 0, 0, 0, 0, 0, 0, 0, 0, 0, 0, 0, 0, 0, 0, 0, 0, 0, 0, 0, 0, 0, 0, 0, 0, 0, 0, 0, 0, 0, 0, 0, 0, 0, 0, 0, 0, 0, 0, 0, 0, 0, 0, 0, 0, 0, 0, 0, 0, 0, 0, 0, 0, 0, 0, 0, 0, 0, 0, 0, 0, 0, 0, 0, 0, 0, 0, 0, 0, 0, 0, 0, 0, 0, 0, 0, 0, 0, 0, 0, 0, 0, 0, 0, 0, 0, 0, 0, 0, 0, 0, 0, 0, 0, 0, 0, 0, 0, 0, 0, 0, 0, 0, 0, 0, 0, 0, 0, 0, 0, 0, 0, 0, 0, 0, 0, 0, 0, 0, 0, 0, 0, 0, 0, 0, 0, 0, 0, 0, 0, 0, 0, 0, 0, 0, 0, 0, 0, 0, 0, 0, 0, 0, 0, 0, 0, 0, 0, 0, 0, 0, 0, 0, 0, 0, 0, 0, 0, 0, 0, 0, 0, 0, 0, 0, 0, 0, 0, 0, 0, 0, 0, 0, 0, 0, 0, 0, 0, 0, 0, 0, 0, 0, 0, 0, 0, 0, 0, 0, 0, 0, 0, 0, 0, 0, 0, 0, 0, 0, 0, 0, 0, 0, 0, 0, 0, 0, 0, 0, 0, 0, 0, 0, 0, 0, 0, 0, 0, 0, 0, 0, 0, 0, 0, 0, 0, 0, 0, 0, 0, 0, 0, 0, 0, 1, 0, 0, 0, 0, 0, 0, 0, 0, 0, 0, 0, 0, 0, 0, 0, 0, 0, 0, 0, 0, 0, 0, 0, 0, 0, 0, 0, 0, 0, 0, 0, 0, 0, 0, 0, 0, 0, 0, 0, 0, 0, 0, 0, 0, 0, 0, 0, 0, 0, 0, 0, 0, 0, 0, 0, 0, 0, 0, 0, 0, 0, 0, 0, 0, 0, 0, 0, 0, 0, 0, 0, 0, 0, 0, 1, 0, 0, 0, 0, 0, 0, 0, 0, 0, 0, 0, 0, 0, 0, 0, 0, 0, 0, 0, 0, 1, 0, 0, 1, 0, 0, 0, 0, 0, 0, 0, 0, 0, 0, 0, 0, 0, 0, 0, 0, 0, 0, 0, 0, 0, 0, 0, 0, 0, 0, 0, 0, 0, 0, 0, 0, 0, 0, 0, 0, 0, 0, 0, 0, 0, 0, 0, 0, 0, 0, 0, 0, 0, 0, 0, 0, 0, 0, 0, 0, 0, 0, 0, 0, 0, 0, 0, 0, 0, 0, 0, 0, 0, 0, 0, 0, 0, 0, 0, 0, 0, 0, 0, 0, 0, 0, 0, 0, 0, 0, 0, 0, 0, 0, 0, 0, 0, 0, 0, 0, 0, 0, 0, 0, 0, 0, 0, 0, 0, 0, 0, 0, 0, 0, 0, 0, 0, 0, 0, 0, 0, 0, 0, 0, 0, 0, 0, 0, 0, 0, 0, 0, 0, 0, 0, 0, 0, 0, 0, 0, 0, 0, 0, 0, 0, 0, 0, 0, 0, 0, 0, 0, 0, 0, 0, 0, 0, 0, 0, 0, 0, 0, 0, 0, 0, 0, 0, 0, 0, 0, 0, 0, 0, 0, 0, 0, 0, 0, 0, 0, 0, 0, 0, 0, 0, 0, 0, 0, 0, 0, 0, 0, 0, 0, 0, 0, 0, 0, 0, 0, 0, 0, 0, 0, 0, 0, 0, 0, 0, 0, 0, 0, 0, 0, 0, 0, 0, 0, 0, 0, 0, 0, 0, 0, 0, 0, 0, 0, 0, 0, 0, 0, 0, 0, 0, 0, 0, 0, 0, 0, 0, 0, 0, 0, 0, 0, 0, 0, 0, 0, 0, 0, 0, 0, 0, 0, 0, 0, 0, 0, 0, 0, 0, 0, 0, 0, 0, 0, 0, 0, 0, 0, 0, 0, 0, 0, 0, 0, 0, 0, 0, 0, 0, 0, 0, 0, 0, 0, 0, 0, 0, 0, 0, 0, 0, 0, 0, 0, 0, 0, 0, 0, 0, 0, 0, 0, 0, 0, 0, 0, 0, 0, 0, 0, 0, 0, 0, 0, 0, 0, 0, 0, 0, 0, 0, 0, 0, 0, 0, 0, 0, 0, 0, 0, 0, 0, 0, 0, 0, 0, 0, 0, 0, 0, 0, 0, 0, 0, 0, 0, 0, 0, 0, 0, 0, 0, 0, 0, 0, 0, 0, 0, 0, 0, 0, 0, 0, 0, 0, 0, 0, 0, 0, 0, 0, 0, 0, 0, 0, 0, 0, 0, 0, 0, 0, 0, 0, 0, 0, 0, 0, 0, 0, 0, 0, 0, 0, 0, 0, 0, 0, 0, 0, 0, 0, 0, 0, 0, 0, 0, 0, 0, 0, 0, 0, 0, 0, 0, 0, 0, 0, 0, 0, 0, 0, 0, 0, 0, 0, 0, 0, 0, 0, 0, 0, 0, 0, 0, 0, 0, 0, 0, 0, 0, 0, 0, 0, 0, 0, 0, 0, 0, 0, 0, 0, 0, 0, 0, 0, 0, 0, 0, 0, 0, 0, 0, 0, 0, 0, 0, 1, 0, 0, 0, 0, 0, 0, 0, 0, 0, 0, 0, 0, 0, 0, 0, 0, 0, 0, 0, 0, 0, 0, 0, 0, 0, 0, 0, 0, 0, 0, 0, 0, 0, 0, 0, 0, 0, 0, 0, 0, 0, 0, 0, 0, 0, 0, 0, 0, 0, 0, 0, 0, 0, 0, 0, 0, 0, 0, 0, 0, 0, 0, 0, 0, 0, 0, 0, 0, 0, 0, 0, 0, 0, 0, 0, 0, 0, 0, 0, 0, 0, 0, 0, 0, 0, 0, 0, 0, 0, 0, 0, 0, 0, 0, 0, 0, 0, 0, 0, 0, 0, 0, 0, 0, 0, 0, 0, 0, 0, 0, 0, 0, 0, 0, 0, 0, 0, 0, 0, 0, 0, 0, 0, 0, 0, 0, 0, 0, 0, 0, 0, 0, 0, 0, 0, 0, 0, 0, 0, 0, 0, 0, 0, 0, 0, 0, 0, 0, 0, 0, 0, 0, 0, 0, 0, 0, 0, 0, 0, 0, 0, 0, 0, 0, 0, 0, 0, 0, 0, 0, 0, 0, 0, 0, 0, 0, 0, 0, 0, 0, 0, 0, 0, 0, 0, 0, 0, 0, 0, 0, 0, 0, 0, 0, 0, 0, 0, 0, 0, 0, 0, 0, 0, 0, 0, 0, 0, 0, 0, 0, 0, 0, 0, 0, 0, 0, 0, 0, 0, 0, 0, 0, 0, 0, 0, 0, 0, 0, 0, 0, 0, 0, 0, 0, 0, 0, 0, 0, 0, 0, 0, 0, 0, 0, 0, 0, 0, 0, 0, 0, 0, 0, 0, 0, 0, 0, 0, 0, 0, 0, 0, 0, 0, 0, 0, 0, 0, 0, 0, 0, 0, 0, 0, 0, 0, 0, 0, 0, 0, 0, 0, 0, 0, 0, 0, 0, 0, 0, 0, 0, 0, 0, 0, 0, 0, 0, 0, 0, 0, 0, 0, 0, 0, 0, 0, 0, 0, 0, 0, 0, 0, 0, 0, 0, 0, 0, 0, 0, 0, 0, 0, 0, 0, 0, 0, 0, 0, 0, 0, 0, 0, 0, 0, 0, 0, 0, 0, 0, 0, 0, 0, 0, 0, 0, 0, 0, 0, 0, 0, 0, 0, 0, 0, 0, 0, 0, 0, 0, 0, 0, 0, 0, 0, 0, 0, 0, 0, 0, 0, 0, 0, 0, 0, 0, 0, 0, 0, 0, 0, 0, 0, 0, 0, 0, 0, 0, 0, 0, 0, 0, 0, 0, 0, 0, 0, 0, 0, 0, 0, 0, 0, 0, 0, 0, 0, 0, 0, 0, 0, 0, 0, 0, 0, 0, 0, 0, 0, 0, 0, 0, 0, 0, 0, 0, 0, 0, 0, 0, 0, 0, 0, 0, 0, 0, 0, 0, 0, 0, 0, 0, 0, 0, 0, 0, 0, 0, 0, 0, 0, 0, 0, 0, 0, 0, 0, 0, 0, 0, 0, 0, 0, 0, 0, 0, 0, 0, 0, 0, 0, 0, 0, 0, 0, 0, 0, 0, 0, 0, 0, 0, 0, 0, 0, 0, 0, 0, 0, 0, 0, 0, 0, 0, 0, 0, 0, 0, 0, 0, 0, 0, 0, 0, 0, 0, 0, 0, 0, 0, 0, 0, 0, 0, 1, 0, 0, 0, 0, 0, 0, 0, 0, 0, 0, 0, 0, 0, 0, 0, 0, 0, 0, 0, 0, 0, 0, 0, 0, 0, 0, 0, 0, 0, 0, 0, 0, 0, 0, 0, 2, 0, 0, 0, 0, 0, 0, 0, 0, 0, 0, 0, 0, 0, 0, 0, 0, 0, 0, 0, 0, 0, 0, 0, 0, 0, 0, 0, 0, 0, 0, 0, 0, 0, 0, 0, 0, 0, 0, 0, 0, 1, 0, 0, 0, 0, 0, 0, 0, 0, 0, 0, 0, 0, 0, 0, 0, 0, 0, 0, 0, 0, 0, 0, 0, 0, 0, 0, 0, 0, 0, 0, 0, 0, 0, 0, 0, 0, 0, 0, 0, 0, 0, 0, 0, 0, 0, 0, 0, 0, 0, 0, 0, 0, 0, 0, 0, 0, 0, 0, 0, 0, 0, 0, 0, 0, 0, 0, 0, 0, 0, 0, 0, 0, 0, 0, 0, 0, 0, 0, 0, 0, 0, 0, 0, 0, 0, 0, 0, 0, 0, 0, 0, 0, 0, 0, 0, 0, 0, 0, 0, 0, 0, 0, 0, 0, 0, 0, 0, 0, 0, 0, 0, 0, 0, 0, 0, 0, 0, 0, 0, 0, 0, 0, 0, 0, 0, 0, 0, 0, 0, 0, 0, 0, 0, 0, 0, 0, 0, 0, 0, 0, 0, 0, 0, 0, 0, 0, 0, 0, 0, 0, 0, 0, 0, 0, 0, 0, 0, 0, 0, 0, 0, 0, 0, 0, 0, 0, 0, 0, 0, 0, 0, 0, 0, 0, 0, 0, 0, 0, 0, 0, 0, 0, 0, 0, 0, 0, 0, 0, 0, 0, 0, 0, 0, 0, 0, 0, 0, 0, 0, 0, 0, 0, 0, 0, 0, 0, 0, 0, 0, 0, 0, 0, 0, 0, 0, 0, 0, 0, 0, 0, 0, 0, 0, 0, 0, 0, 0, 0, 0, 0, 0, 0, 0, 0, 0, 0, 0, 0, 0, 0, 0, 0, 0, 0, 0, 0, 0, 0, 0, 0, 0, 0, 0, 0, 0, 0, 0, 0, 0, 0, 0, 0, 0, 0, 0, 0, 0, 0, 0, 0, 0, 0, 0, 0, 0, 0, 0, 0, 0, 0, 0, 0, 0, 0, 0, 0, 0, 0, 0, 0, 0, 0, 0, 0, 0, 0, 0, 0, 0, 0, 0, 0, 0, 0, 0, 0, 0, 0, 0, 0, 0, 0, 0, 0, 0, 0, 0, 0, 0, 0, 0, 0, 0, 0, 0, 0, 0, 0, 0, 0, 0, 0, 0, 0, 0, 0, 0, 0, 0, 0, 0, 0, 0, 0, 0, 0, 0, 0, 0, 0, 0, 0, 0, 0, 0, 0, 0, 0, 0, 0, 0, 0, 0, 0, 0, 0, 0, 0, 0, 0, 0, 0, 0, 0, 0, 0, 0, 0, 0, 0, 0, 0, 0, 0, 0, 0, 0, 0, 0, 0, 0, 0, 0, 0, 0, 0, 0, 0, 0, 0, 0, 0, 0, 0, 0, 0, 0, 0, 0, 0, 0, 0, 0, 0, 0, 0, 0, 0, 0, 0, 0, 0, 0, 0, 0, 0, 0, 0, 0, 0, 0, 0, 0, 0, 0, 0, 0, 0, 0, 0, 0, 0, 0, 0, 0, 0, 0, 0, 0, 0, 0, 0, 0, 0, 0, 0, 0, 0, 0, 0, 0, 0, 0, 0, 0, 0, 0, 0, 0, 0, 0, 0, 0, 0, 0, 0, 0, 0, 0, 0, 0, 0, 0, 0, 0, 0, 0, 0, 0, 0, 0, 0, 0, 0, 0, 0, 0, 1, 0, 0, 0, 0, 0, 0, 0, 0, 0, 0, 0, 0, 0, 0, 0, 0, 0, 0, 0, 0, 0, 0, 0, 0, 0, 0, 0, 0, 0, 0, 0, 0, 0, 0, 0, 0, 0, 0, 0, 0, 0, 0, 0, 0, 0, 0, 0, 0, 0, 0, 0, 0, 0, 0, 0, 0, 0, 0, 0, 0, 0, 0, 0, 0, 0, 0, 0, 0, 0, 0, 0, 0, 0, 0, 0, 0, 0, 0, 0, 0, 0, 0, 0, 0, 0, 0, 0, 0, 0, 0, 0, 0, 0, 0, 0, 0, 0, 0, 0, 0, 0, 0, 0, 0, 0, 0, 0, 0, 0, 0, 2, 0, 0, 0, 0, 0, 0, 0, 0, 0, 0, 0, 0, 0, 0, 0, 0, 0, 0, 0, 0, 0, 0, 0, 0, 0, 0, 0, 0, 0, 0, 0, 0, 0, 0, 0, 0, 0, 0, 0, 0, 0, 0, 0, 0, 0, 0, 0, 0, 0, 0, 0, 0, 0, 0, 0, 0, 0, 0, 0, 0, 0, 0, 0, 0, 0, 0, 0, 0, 0, 0, 0, 0, 0, 0, 0, 0, 0, 0, 0, 0, 0, 0, 0, 0, 0, 0, 0, 0, 0, 0, 0, 0, 0, 0, 0, 0, 0, 0, 0, 0, 0, 0, 0, 0, 0, 0, 0, 0, 0, 0, 0, 0, 0, 0, 0, 0, 0, 0, 0, 0, 0, 0, 0, 0, 0, 0, 0, 0, 0, 0, 0, 0, 0, 0, 0, 0, 0, 0, 0, 0, 0, 0, 0, 0, 0, 0, 0, 0, 0, 0, 0, 0, 0, 0, 0, 0, 0, 0, 0, 0, 0, 0, 0, 0, 0, 0, 0, 0, 0, 0, 0, 0, 0, 0, 0, 0, 0, 0, 0, 0, 0, 0, 0, 0, 0, 0, 0, 0, 0, 0, 0, 0, 0, 0, 0, 0, 0, 0, 0, 0, 0, 0, 0, 0, 0, 0, 0, 0, 0, 0, 0, 0, 0, 0, 0, 0, 0, 0, 0, 0, 0, 0, 0, 0, 0, 0, 0, 0, 0, 0, 0, 0, 0, 0, 0, 0, 0, 0, 0, 0, 0, 0, 0, 0, 0, 0, 0, 0, 0, 0, 0, 0, 0, 0, 0, 0, 0, 0, 0, 0, 0, 0, 0, 0, 0, 0, 0, 0, 0, 0, 0, 0, 0, 0, 0, 0, 0, 0, 0, 0, 0, 0, 0, 0, 0, 0, 0, 0, 0, 0, 0, 0, 0, 0, 0, 0, 0, 0, 0, 0, 0, 0, 0, 0, 0, 0, 0, 0, 0, 0, 0, 0, 0, 0, 0, 0, 0, 0, 0, 0, 0, 0, 0, 0, 0, 0, 0, 0, 0, 0, 0, 0, 0, 0, 0, 0, 0, 0, 0, 0, 0, 0, 0, 0, 0, 0, 0, 0, 0, 0, 0, 0, 0, 0, 0, 0, 0, 0, 0, 0, 0, 0, 0, 0, 0, 0, 0, 0, 0, 0, 0, 0, 0, 0, 0, 0, 0, 0, 0, 0, 0, 0, 0, 0, 0, 0, 0, 0, 0, 0, 0, 0, 0, 0, 0, 0, 0, 0, 0, 0, 0, 0, 0, 0, 0, 0, 0, 0, 0, 0, 0, 0, 0, 0, 0, 0, 0, 0, 0, 0, 0, 0, 0, 0, 0, 0, 0, 0, 0, 0, 0, 0, 0, 0, 0, 0, 0, 0, 0, 0, 0, 0, 0, 0, 0, 0, 0, 0, 0, 0, 0, 0, 0, 0, 0, 0, 0, 0, 0, 0, 0, 0, 0, 0, 0, 0, 0, 0, 0, 0, 0, 0, 0, 0, 0, 0, 0, 0, 0, 0, 0, 0, 0, 0, 0, 0, 0, 0, 0, 0, 0, 0, 0, 0, 0, 0, 0, 0, 0, 0, 0, 0, 0, 0, 0, 0, 0, 0, 0, 0, 0, 0, 0, 0, 0, 0, 0, 0, 0, 0, 0, 0, 0, 0, 0, 0, 0, 0, 0, 0, 0, 0, 0, 0, 0, 0, 0, 0, 0, 0, 0, 0, 0, 0, 0, 0, 0, 0, 0, 0, 0, 0, 0, 0, 0, 0, 0, 0, 0, 0, 0, 0, 0, 0, 0, 0, 0, 0, 0, 0, 0, 0, 0, 0, 0, 0, 0, 0, 0, 0, 0, 0, 0, 0, 0, 0, 0, 0, 0, 0, 0, 0, 0, 0, 0, 0, 0, 0, 0, 0, 0, 0, 0, 0, 0, 0, 0, 0, 0, 0, 0, 0, 0, 0, 0, 0, 0, 0, 0, 0, 0, 0, 0, 0, 0, 0, 0, 0, 0, 0, 0, 0, 0, 0, 0, 0, 0, 0, 0, 0, 0, 0, 0, 0, 0, 0, 0, 0, 0, 0, 0, 0, 0, 0, 0, 0, 0, 0, 0, 0, 0, 0, 0, 0, 0, 0, 0, 0, 0, 0, 0, 0, 0, 0, 0, 0, 0, 0, 0, 0, 0, 0, 0, 0, 0, 0, 0, 0, 0, 0, 1, 0, 0, 0, 0, 0, 0, 0, 0, 0, 0, 0, 0, 0, 0, 0, 0, 0, 0, 0, 0, 0, 0, 0, 0, 0, 0, 0, 0, 0, 0, 0, 0, 0, 0, 0, 0, 0, 0, 0, 0, 0, 0, 0, 0, 0, 0, 0, 0, 0, 0, 0, 0, 0, 0, 0, 0, 0, 0, 0, 0, 0, 0, 0, 0, 0, 0, 0, 0, 0, 0, 0, 0, 0, 0, 0, 0, 0, 0, 0, 0, 0, 0, 0, 0, 0, 0, 0, 0, 0, 0, 0, 0, 0, 0, 0, 0, 0, 0, 0, 0, 0, 0, 0, 0, 0, 0, 0, 1, 0, 0, 0, 0, 0, 0, 0, 0, 0, 0, 0, 0, 0, 0, 0, 0, 0, 0, 0, 0, 0, 0, 0, 0, 0, 0, 0, 0, 0, 0, 0, 0, 0, 0, 0, 0, 0, 0, 0, 0, 0, 0, 0, 0, 0, 0, 0, 0, 0, 0, 0, 0, 0, 0, 0, 0, 0, 0, 0, 0, 0, 0, 0, 0, 0, 0, 0, 0, 0, 0, 0, 0, 0, 0, 0, 0, 0, 0, 0, 0, 0, 0, 0, 0, 0, 0, 0, 0, 0, 0, 0, 0, 0, 0, 0, 0, 0, 0, 0, 0, 0, 0, 0, 0, 0, 0, 0, 0, 0, 0, 0, 0, 0, 0, 0, 0, 0, 0, 0, 0, 0, 0, 0, 0, 0, 0, 0, 0, 0, 0, 0, 0, 0, 0, 0, 0, 0, 0, 0, 0, 0, 0, 0, 0, 0, 0, 0, 0, 0, 0, 0, 0, 0, 0, 0, 0, 0, 0, 0, 0, 0, 0, 0, 0, 0, 0, 0, 0, 0, 0, 0, 0, 0, 0, 0, 0, 0, 0, 0, 0, 0, 0, 0, 0, 0, 0, 0, 0, 0, 0, 0, 0, 0, 0, 0, 0, 0, 0, 0, 0, 0, 0, 0, 0, 0, 0, 0, 0, 0, 0, 0, 0, 0, 0, 0, 0, 0, 0, 0, 0, 0, 0, 0, 0, 0, 0, 0, 0, 0, 0, 0, 0, 0, 0, 0, 0, 0, 0, 0, 0, 0, 0, 0, 0, 0, 0, 0, 0, 0, 0, 0, 0, 0, 0, 0, 0, 0, 0, 0, 0, 0, 0, 0, 0, 0, 0, 0, 0, 0, 0, 0, 0, 0, 0, 0, 0, 0, 0, 0, 0, 0, 0, 0, 0, 0, 0, 0, 0, 0, 0, 0, 0, 0, 0, 0, 0, 0, 0, 0, 0, 0, 0, 0, 0, 0, 0, 0, 0, 0, 0, 0, 0, 0, 0, 0, 0, 0, 0, 0, 0, 0, 0, 0, 0, 0, 0, 0, 0, 0, 0, 0, 0, 0, 0, 0, 0, 0, 0, 0, 0, 0, 0, 0, 0, 0, 0, 0, 0, 0, 0, 0, 0, 0, 0, 0, 0, 0, 0, 0, 0, 0, 0, 0, 0, 0, 0, 0, 0, 0, 0, 0, 0, 0, 0, 0, 0, 0, 0, 0, 0, 0, 0, 0, 0, 0, 0, 0, 0, 0, 0, 0, 0, 0, 0, 0, 0, 0, 0, 0, 0, 0, 0, 0, 0, 0, 0, 0, 0, 0, 0, 0, 0, 0, 0, 0, 0, 0, 0, 0, 0, 0, 0, 0, 0, 0, 0, 0, 0, 0, 0, 0, 0, 0, 0, 0, 0, 0, 0, 0, 0, 0, 0, 0, 0, 0, 0, 0, 0, 0, 0, 0, 0, 0, 0, 0, 0, 0, 0, 0, 0, 0, 0, 0, 2, 0, 1, 0], type: <class 'list'>, valid types: <class 'bytes'>, <class 'bytearray'>, file-like object"
     ]
    }
   ],
   "source": [
    "response = runtime.invoke_endpoint(EndpointName = xgb_predictor.endpoint, # The name of the endpoint we created\n",
    "                                       ContentType = 'text/csv',                     # The data format that is expected\n",
    "                                       Body = test_bow)"
   ]
  },
  {
   "cell_type": "markdown",
   "metadata": {},
   "source": [
    "So why did we get an error?\n",
    "\n",
    "Because we tried to send the endpoint a list of integers but it expected us to send data of type `text/csv`. So, we need to convert it."
   ]
  },
  {
   "cell_type": "code",
   "execution_count": 45,
   "metadata": {},
   "outputs": [
    {
     "ename": "ValidationError",
     "evalue": "An error occurred (ValidationError) when calling the InvokeEndpoint operation: Endpoint xgboost-2019-11-08-21-46-00-508 of account 712619796631 not found.",
     "output_type": "error",
     "traceback": [
      "\u001b[0;31m---------------------------------------------------------------------------\u001b[0m",
      "\u001b[0;31mValidationError\u001b[0m                           Traceback (most recent call last)",
      "\u001b[0;32m<ipython-input-45-838b0a600725>\u001b[0m in \u001b[0;36m<module>\u001b[0;34m()\u001b[0m\n\u001b[1;32m      1\u001b[0m response = runtime.invoke_endpoint(EndpointName = xgb_predictor.endpoint, # The name of the endpoint we created\n\u001b[1;32m      2\u001b[0m                                        \u001b[0mContentType\u001b[0m \u001b[0;34m=\u001b[0m \u001b[0;34m'text/csv'\u001b[0m\u001b[0;34m,\u001b[0m                     \u001b[0;31m# The data format that is expected\u001b[0m\u001b[0;34m\u001b[0m\u001b[0m\n\u001b[0;32m----> 3\u001b[0;31m                                        Body = ','.join([str(val) for val in test_bow]).encode('utf-8'))\n\u001b[0m",
      "\u001b[0;32m~/anaconda3/envs/python3/lib/python3.6/site-packages/botocore/client.py\u001b[0m in \u001b[0;36m_api_call\u001b[0;34m(self, *args, **kwargs)\u001b[0m\n\u001b[1;32m    355\u001b[0m                     \"%s() only accepts keyword arguments.\" % py_operation_name)\n\u001b[1;32m    356\u001b[0m             \u001b[0;31m# The \"self\" in this scope is referring to the BaseClient.\u001b[0m\u001b[0;34m\u001b[0m\u001b[0;34m\u001b[0m\u001b[0m\n\u001b[0;32m--> 357\u001b[0;31m             \u001b[0;32mreturn\u001b[0m \u001b[0mself\u001b[0m\u001b[0;34m.\u001b[0m\u001b[0m_make_api_call\u001b[0m\u001b[0;34m(\u001b[0m\u001b[0moperation_name\u001b[0m\u001b[0;34m,\u001b[0m \u001b[0mkwargs\u001b[0m\u001b[0;34m)\u001b[0m\u001b[0;34m\u001b[0m\u001b[0m\n\u001b[0m\u001b[1;32m    358\u001b[0m \u001b[0;34m\u001b[0m\u001b[0m\n\u001b[1;32m    359\u001b[0m         \u001b[0m_api_call\u001b[0m\u001b[0;34m.\u001b[0m\u001b[0m__name__\u001b[0m \u001b[0;34m=\u001b[0m \u001b[0mstr\u001b[0m\u001b[0;34m(\u001b[0m\u001b[0mpy_operation_name\u001b[0m\u001b[0;34m)\u001b[0m\u001b[0;34m\u001b[0m\u001b[0m\n",
      "\u001b[0;32m~/anaconda3/envs/python3/lib/python3.6/site-packages/botocore/client.py\u001b[0m in \u001b[0;36m_make_api_call\u001b[0;34m(self, operation_name, api_params)\u001b[0m\n\u001b[1;32m    659\u001b[0m             \u001b[0merror_code\u001b[0m \u001b[0;34m=\u001b[0m \u001b[0mparsed_response\u001b[0m\u001b[0;34m.\u001b[0m\u001b[0mget\u001b[0m\u001b[0;34m(\u001b[0m\u001b[0;34m\"Error\"\u001b[0m\u001b[0;34m,\u001b[0m \u001b[0;34m{\u001b[0m\u001b[0;34m}\u001b[0m\u001b[0;34m)\u001b[0m\u001b[0;34m.\u001b[0m\u001b[0mget\u001b[0m\u001b[0;34m(\u001b[0m\u001b[0;34m\"Code\"\u001b[0m\u001b[0;34m)\u001b[0m\u001b[0;34m\u001b[0m\u001b[0m\n\u001b[1;32m    660\u001b[0m             \u001b[0merror_class\u001b[0m \u001b[0;34m=\u001b[0m \u001b[0mself\u001b[0m\u001b[0;34m.\u001b[0m\u001b[0mexceptions\u001b[0m\u001b[0;34m.\u001b[0m\u001b[0mfrom_code\u001b[0m\u001b[0;34m(\u001b[0m\u001b[0merror_code\u001b[0m\u001b[0;34m)\u001b[0m\u001b[0;34m\u001b[0m\u001b[0m\n\u001b[0;32m--> 661\u001b[0;31m             \u001b[0;32mraise\u001b[0m \u001b[0merror_class\u001b[0m\u001b[0;34m(\u001b[0m\u001b[0mparsed_response\u001b[0m\u001b[0;34m,\u001b[0m \u001b[0moperation_name\u001b[0m\u001b[0;34m)\u001b[0m\u001b[0;34m\u001b[0m\u001b[0m\n\u001b[0m\u001b[1;32m    662\u001b[0m         \u001b[0;32melse\u001b[0m\u001b[0;34m:\u001b[0m\u001b[0;34m\u001b[0m\u001b[0m\n\u001b[1;32m    663\u001b[0m             \u001b[0;32mreturn\u001b[0m \u001b[0mparsed_response\u001b[0m\u001b[0;34m\u001b[0m\u001b[0m\n",
      "\u001b[0;31mValidationError\u001b[0m: An error occurred (ValidationError) when calling the InvokeEndpoint operation: Endpoint xgboost-2019-11-08-21-46-00-508 of account 712619796631 not found."
     ]
    }
   ],
   "source": [
    "response = runtime.invoke_endpoint(EndpointName = xgb_predictor.endpoint, # The name of the endpoint we created\n",
    "                                       ContentType = 'text/csv',                     # The data format that is expected\n",
    "                                       Body = ','.join([str(val) for val in test_bow]).encode('utf-8'))"
   ]
  },
  {
   "cell_type": "code",
   "execution_count": null,
   "metadata": {},
   "outputs": [],
   "source": [
    "print(response)"
   ]
  },
  {
   "cell_type": "markdown",
   "metadata": {},
   "source": [
    "As we can see, the response from our model is a somewhat complicated looking dict that contains a bunch of information. The bit that we are most interested in is `'Body'` object which is a streaming object that we need to `read` in order to make use of."
   ]
  },
  {
   "cell_type": "code",
   "execution_count": null,
   "metadata": {},
   "outputs": [],
   "source": [
    "response = response['Body'].read().decode('utf-8')\n",
    "print(response)"
   ]
  },
  {
   "cell_type": "markdown",
   "metadata": {},
   "source": [
    "Now that we know how to process the incoming user data we can start setting up the infrastructure to make our simple web app work. To do this we will make use of two different services. Amazon's Lambda and API Gateway services.\n",
    "\n",
    "Lambda is a service which allows someone to write some relatively simple code and have it executed whenever a chosen trigger occurs. For example, you may want to update a database whenever new data is uploaded to a folder stored on S3.\n",
    "\n",
    "API Gateway is a service that allows you to create HTTP endpoints (url addresses) which are connected to other AWS services. One of the benefits to this is that you get to decide what credentials, if any, are required to access these endpoints.\n",
    "\n",
    "In our case we are going to set up an HTTP endpoint through API Gateway which is open to the public. Then, whenever anyone sends data to our public endpoint we will trigger a Lambda function which will send the input (in our case a review) to our model's endpoint and then return the result."
   ]
  },
  {
   "cell_type": "markdown",
   "metadata": {},
   "source": [
    "### Setting up a Lambda function\n",
    "\n",
    "The first thing we are going to do is set up a Lambda function. This Lambda function will be executed whenever our public API has data sent to it. When it is executed it will receive the data, perform any sort of processing that is required, send the data (the review) to the SageMaker endpoint we've created and then return the result.\n",
    "\n",
    "#### Part A: Create an IAM Role for the Lambda function\n",
    "\n",
    "Since we want the Lambda function to call a SageMaker endpoint, we need to make sure that it has permission to do so. To do this, we will construct a role that we can later give the Lambda function.\n",
    "\n",
    "Using the AWS Console, navigate to the **IAM** page and click on **Roles**. Then, click on **Create role**. Make sure that the **AWS service** is the type of trusted entity selected and choose **Lambda** as the service that will use this role, then click **Next: Permissions**.\n",
    "\n",
    "In the search box type `sagemaker` and select the check box next to the **AmazonSageMakerFullAccess** policy. Then, click on **Next: Review**.\n",
    "\n",
    "Lastly, give this role a name. Make sure you use a name that you will remember later on, for example `LambdaSageMakerRole`. Then, click on **Create role**."
   ]
  },
  {
   "cell_type": "markdown",
   "metadata": {},
   "source": [
    "#### Part B: Create a Lambda function\n",
    "\n",
    "Now it is time to actually create the Lambda function. Remember from earlier that in order to process the user provided input and send it to our endpoint we need to gather two pieces of information:\n",
    "\n",
    " - The name of the endpoint, and\n",
    " - the vocabulary object.\n",
    "\n",
    "We will copy these pieces of information to our Lambda function after we create it.\n",
    "\n",
    "To start, using the AWS Console, navigate to the AWS Lambda page and click on **Create a function**. When you get to the next page, make sure that **Author from scratch** is selected. Now, name your Lambda function, using a name that you will remember later on, for example `sentiment_analysis_xgboost_func`. Make sure that the **Python 3.6** runtime is selected and then choose the role that you created in the previous part. Then, click on **Create Function**.\n",
    "\n",
    "On the next page you will see some information about the Lambda function you've just created. If you scroll down you should see an editor in which you can write the code that will be executed when your Lambda function is triggered. Collecting the code we wrote above to process a single review and adding it to the provided example `lambda_handler` we arrive at the following.\n",
    "\n",
    "```python\n",
    "# We need to use the low-level library to interact with SageMaker since the SageMaker API\n",
    "# is not available natively through Lambda.\n",
    "import boto3\n",
    "\n",
    "# And we need the regular expression library to do some of the data processing\n",
    "import re\n",
    "\n",
    "REPLACE_NO_SPACE = re.compile(\"(\\.)|(\\;)|(\\:)|(\\!)|(\\')|(\\?)|(\\,)|(\\\")|(\\()|(\\))|(\\[)|(\\])\")\n",
    "REPLACE_WITH_SPACE = re.compile(\"(<br\\s*/><br\\s*/>)|(\\-)|(\\/)\")\n",
    "\n",
    "def review_to_words(review):\n",
    "    words = REPLACE_NO_SPACE.sub(\"\", review.lower())\n",
    "    words = REPLACE_WITH_SPACE.sub(\" \", words)\n",
    "    return words\n",
    "    \n",
    "def bow_encoding(words, vocabulary):\n",
    "    bow = [0] * len(vocabulary) # Start by setting the count for each word in the vocabulary to zero.\n",
    "    for word in words.split():  # For each word in the string\n",
    "        if word in vocabulary:  # If the word is one that occurs in the vocabulary, increase its count.\n",
    "            bow[vocabulary[word]] += 1\n",
    "    return bow\n",
    "\n",
    "\n",
    "def lambda_handler(event, context):\n",
    "    \n",
    "    vocab = \"*** ACTUAL VOCABULARY GOES HERE ***\"\n",
    "    \n",
    "    words = review_to_words(event['body'])\n",
    "    bow = bow_encoding(words, vocab)\n",
    "\n",
    "    # The SageMaker runtime is what allows us to invoke the endpoint that we've created.\n",
    "    runtime = boto3.Session().client('sagemaker-runtime')\n",
    "\n",
    "    # Now we use the SageMaker runtime to invoke our endpoint, sending the review we were given\n",
    "    response = runtime.invoke_endpoint(EndpointName = '***ENDPOINT NAME HERE***',# The name of the endpoint we created\n",
    "                                       ContentType = 'text/csv',                 # The data format that is expected\n",
    "                                       Body = ','.join([str(val) for val in bow]).encode('utf-8')) # The actual review\n",
    "\n",
    "    # The response is an HTTP response whose body contains the result of our inference\n",
    "    result = response['Body'].read().decode('utf-8')\n",
    "    \n",
    "    # Round the result so that our web app only gets '1' or '0' as a response.\n",
    "    result = round(float(result))\n",
    "\n",
    "    return {\n",
    "        'statusCode' : 200,\n",
    "        'headers' : { 'Content-Type' : 'text/plain', 'Access-Control-Allow-Origin' : '*' },\n",
    "        'body' : str(result)\n",
    "    }\n",
    "```"
   ]
  },
  {
   "cell_type": "markdown",
   "metadata": {},
   "source": [
    "Once you have copy and pasted the code above into the Lambda code editor, replace the `**ENDPOINT NAME HERE**` portion with the name of the endpoint that we deployed earlier. You can determine the name of the endpoint using the code cell below."
   ]
  },
  {
   "cell_type": "code",
   "execution_count": 52,
   "metadata": {},
   "outputs": [
    {
     "data": {
      "text/plain": [
       "'xgboost-2019-11-08-21-46-00-508'"
      ]
     },
     "execution_count": 52,
     "metadata": {},
     "output_type": "execute_result"
    }
   ],
   "source": [
    "xgb_predictor.endpoint"
   ]
  },
  {
   "cell_type": "markdown",
   "metadata": {},
   "source": [
    "In addition, you will need to copy the vocabulary dict to the appropriate place in the code at the beginning of the `lambda_handler` method. The cell below prints out the vocabulary dict in a way that is easy to copy and paste."
   ]
  },
  {
   "cell_type": "code",
   "execution_count": 51,
   "metadata": {},
   "outputs": [
    {
     "name": "stdout",
     "output_type": "stream",
     "text": [
      "{'if': 2222, 'the': 4426, 'of': 3083, 'dr': 1340, 'is': 2360, 'father': 1666, 'all': 187, 'horror': 2168, 'films': 1721, 'and': 226, 'german': 1896, 'cinema': 816, 'this': 4457, 'pre': 3365, 'film': 1716, 'grandfather': 1954, 'student': 4238, 'in': 2257, 'an': 223, 'empty': 1465, 'makes': 2716, 'deal': 1135, 'with': 4911, 'devil': 1228, 'gives': 1914, 'him': 2110, 'gold': 1932, 'for': 1784, 'anything': 260, 'room': 3735, 'chooses': 800, 'students': 4239, 'reflection': 3585, 'his': 2118, 'mirror': 2861, 'he': 2056, 'walks': 4780, 'off': 3084, 'who': 4871, 'crimes': 1056, 'which': 4867, 'by': 642, 'some': 4061, 'out': 3141, 'technically': 4382, 'state': 4160, 'plot': 3309, 'effects': 1431, 'but': 636, 'virtually': 4751, 'shot': 3949, 'scene': 3809, 'where': 4864, 'still': 4188, 'more': 2904, 'interesting': 2325, 'it': 2366, 'than': 4420, 'its': 2370, 'own': 3158, 'sake': 3775, 'worthwhile': 4955, 'her': 2085, 'deadly': 1133, 'rival': 3706, 'starring': 4154, 'harry': 2039, 'annie': 247, 'lisa': 2616, 'tommy': 4516, 'susan': 4326, 'robert': 3713, 'anderson': 227, 'william': 4887, 'blair': 497, 'sean': 3840, 'robin': 3715, 'stan': 4142, 'kelly': 2452, 'david': 1124, 'chuck': 812, 'amy': 222, 'ralph': 3510, 'al': 170, 'jeff': 2390, 'james': 2378, 'screenplay': 3831, 'dan': 1102, 'actor': 103, 'la': 2500, 'law': 2538, 'fame': 1642, 'other': 3135, 'seems': 3864, 'perfectly': 3226, 'cast': 710, 'lifetime': 2594, 'type': 4621, 'directed': 1259, 'released': 3603, 'wife': 4884, 'would': 4957, 'later': 2525, 'work': 4940, 'on': 3105, 'about': 67, 'sex': 3907, 'at': 331, 'first': 1736, 'similar': 3978, 'to': 4507, 'better': 472, 'known': 2492, 'hollywood': 2137, 'box': 555, 'office': 3091, 'hit': 2122, 'fatal': 1664, 'attraction': 350, 'happily': 2030, 'married': 2744, 'couple': 1016, 'jim': 2402, 'move': 2921, 'into': 2332, 'new': 3003, 'home': 2142, 'typically': 4624, 'beautiful': 428, 'they': 4442, 'have': 2052, 'seemingly': 3863, 'perfect': 3224, 'marriage': 2743, 'are': 285, 'deeply': 1156, 'love': 2669, 'despite': 1211, 'routine': 3743, 'lifestyle': 2593, 'then': 4436, 'mysterious': 2955, 'sets': 3899, 'eyes': 1613, 'identity': 2217, 'never': 3001, 'revealed': 3671, 'attempt': 340, 'even': 1533, 'discover': 1279, 'she': 3923, 'constantly': 958, 'through': 4477, 'phone': 3255, 'calls': 654, 'letters': 2582, 'nearly': 2981, 'as': 311, 'begins': 444, 'think': 4452, 'hes': 2093, 'having': 2054, 'affair': 135, 'trying': 4601, 'cover': 1022, 'up': 4683, 'while': 4868, 'rest': 3657, 'each': 1395, 'seem': 3861, 'be': 418, 'straight': 4210, 'soap': 4047, 'opera': 3116, 'very': 4723, 'suspense': 4330, 'filled': 1715, 'drama': 1346, 'has': 2043, 'good': 1937, 'moments': 2887, 'there': 4438, 'twist': 4617, 'end': 1468, 'spoiler': 4123, 'alert': 178, 'say': 3799, 'was': 4805, 'only': 3110, 'herself': 2092, 'based': 404, 'supposedly': 4307, 'actual': 108, 'case': 707, 'suffered': 4276, 'from': 1840, 'multiple': 2936, 'personality': 3242, 'that': 4424, 'what': 4858, 'ruined': 3751, 'story': 4207, 'not': 3040, 'terribly': 4408, 'impressive': 2253, 'acting': 99, 'step': 4175, 'above': 68, 'especially': 1520, 'moving': 2928, 'intimate': 2331, 'scenes': 3811, 'between': 475, 'final': 1722, 'when': 4862, 'learns': 2553, 'truth': 4599, 'cant': 671, 'believe': 454, 'just': 2437, 'heard': 2062, 'movie': 2926, 'probably': 3407, 'little': 2624, 'too': 4522, 'long': 2644, 'boring': 543, 'parts': 3199, 'kind': 2476, 'tv': 4610, 'usually': 4700, 'does': 1308, 'well': 4843, 'continues': 971, 'produce': 3413, 'domestic': 1318, 'thriller': 4472, 'or': 3124, 'stories': 4205, 'trashy': 4566, 'everyone': 1542, 'likes': 2602, 'trash': 4565, 'show': 3953, 'example': 1553, 'how': 2181, 'should': 3951, 'stick': 4185, 'either': 1438, 'news': 3005, 'sports': 4130, 'comedy': 890, 'situation': 4008, 'shown': 3959, 'can': 665, 'combine': 884, 'king': 2479, 'laughs': 2534, 'embarrassment': 1455, 'great': 1964, 'shows': 3960, 'like': 2599, 'kids': 2467, 'hall': 2009, 'second': 3846, 'city': 825, 'share': 3920, 'their': 4431, 'comedic': 888, 'roots': 3738, 'lame': 2510, 'production': 3419, 'admit': 122, 'didnt': 1242, 'give': 1912, 'much': 2934, 'chance': 747, 'right': 3696, 'concept': 930, 'start': 4156, 'half': 2007, 'direct': 1258, 'rip': 3700, 'one': 3107, 'few': 1700, 'sitcom': 4004, 'english': 1483, 'canadian': 667, 'history': 2121, 'corner': 996, 'gas': 1874, 'cultural': 1078, 'far': 1653, 'being': 448, 'original': 3129, 'often': 3095, 'used': 4693, 'screen': 3829, 'writing': 4971, 'muslim': 2949, 'religion': 3607, 'basis': 408, 'fish': 1738, 'water': 4816, 'characters': 760, 'desperate': 1208, 'comes': 891, 'forced': 1787, 'jokes': 2415, 'around': 297, 'reaction': 3541, 'cringe': 1059, 'inducing': 2279, 'thoroughly': 4459, 'insulting': 2310, 'intelligence': 2313, 'involved': 2346, 'audience': 352, 'doesnt': 1309, 'get': 1899, 'creating': 1039, 'content': 966, 'canada': 666, 'environment': 1505, 'presented': 3376, 'such': 4268, 'heavy': 2070, 'handed': 2016, 'way': 4820, 'refreshing': 3586, 'change': 749, 'see': 3855, 'introduce': 2336, 'television': 4394, 'without': 4913, 'making': 2718, 'said': 3774, 'doubt': 1332, 'talent': 4354, 'pull': 3461, 'something': 4066, 'so': 4046, 'subtle': 4260, 'comparison': 914, 'could': 1007, 'made': 2697, 'depicted': 1183, 'ie': 2221, 'set': 3898, 'apart': 264, 'nor': 3032, 'lines': 2612, 'lives': 2628, 'no': 3020, 'significant': 3972, 'any': 256, 'personal': 3240, 'formulaic': 1803, 'fails': 1628, 'weak': 4824, 'comic': 893, 'pacing': 3163, 'over': 3148, 'map': 2733, 'saw': 3798, 'were': 4848, 'beyond': 476, 'belief': 451, 'saving': 3797, 'grace': 1950, 'talented': 4355, 'derek': 1192, 'horribly': 2164, 'wasted': 4809, 'here': 2086, 'addition': 118, 'guest': 1992, 'stars': 4155, 'save': 3794, 'dog': 1310, 'decided': 1149, 'once': 3106, 'hype': 2207, 'had': 2003, 'died': 1244, 'down': 1335, 'two': 4620, 'episodes': 1508, 'stand': 4143, 'almost': 193, 'feel': 1684, 'my': 2951, 'themselves': 4435, 'failed': 1626, 'time': 4495, 'served': 3894, 'street': 4216, 'air': 164, 'farce': 1654, 're': 3535, 'runs': 3757, 'improvement': 2256, 'pretentious': 3383, 'moment': 2886, 'mr': 2929, 'purple': 3473, 'dinosaur': 1255, 'less': 2575, 'music': 2946, 'sad': 3767, 'someone': 4064, 'inner': 2292, 'beauty': 430, 'been': 438, 'brought': 600, 'art': 304, 'tea': 4373, 'service': 3896, 'culture': 1079, 'respected': 3653, 'japanese': 2382, 'another': 250, 'life': 2592, 'crew': 1053, 'ship': 3934, 'finds': 1728, 'giant': 1905, 'piece': 3272, 'found': 1811, 'theatre': 4429, 'pieces': 3273, 'composed': 926, 'heart': 2064, 'spoilers': 4124, 'im': 2232, 'talking': 4360, 'you': 4986, 'clothes': 860, 'seen': 3865, 'holy': 2140, 'mountain': 2917, 'your': 4991, 'thin': 4449, 'fake': 1635, 'stolen': 4195, 'images': 2235, 'style': 4249, 'entire': 1502, 'man': 2721, 'now': 3054, 'finally': 1724, 'lets': 2580, 'hope': 2155, 'powers': 3361, 'world': 4946, 'stop': 4201, 'poor': 3328, 'lost': 2660, 'financial': 1725, 'battle': 414, 'lawyer': 2541, 'cheap': 774, 'liked': 2600, 'college': 875, 'am': 204, 'filmmaker': 1719, 'interested': 2324, 'reality': 3551, 'will': 4886, 'fight': 1707, 'ring': 3698, 'starts': 4159, 'slow': 4031, 'after': 143, 'watching': 4815, 'hour': 2176, 'seeing': 3857, 'absolutely': 72, 'nothing': 3047, 'happen': 2026, 'walked': 4776, 'mean': 2779, 'happened': 2027, 'zero': 4996, 'vague': 4705, 'most': 2909, 'people': 3221, 'us': 4690, 'know': 2489, 'producers': 3416, 'court': 1020, 'try': 4600, 'sell': 3871, 'motion': 2913, 'picture': 3269, 'told': 4513, 'same': 3778, 'pictures': 3270, 'script': 3834, 'joke': 2414, 'awful': 372, 'doctor': 1304, 'biggest': 480, 'regret': 3591, '60': 53, 'minutes': 2859, 'money': 2888, 'missed': 2867, 'opportunity': 3121, 'leader': 2546, 'walk': 4775, 'waited': 4771, 'bit': 488, 'instead': 2307, 'watched': 4813, '20': 29, 'before': 440, 'me': 2778, 'remember': 3616, 'came': 656, 'taken': 4350, 'streisand': 4218, 'years': 4979, 'couldnt': 1008, 'many': 2732, 'play': 3296, 'opened': 3113, 'eight': 1436, 'previously': 3388, 'broadway': 592, 'star': 4150, 'actress': 105, 'do': 1302, 'total': 4531, 'disaster': 1276, 'finish': 1732, 'thing': 4450, 'forty': 1807, 'old': 3100, 'looked': 2647, 'every': 1539, 'minute': 2858, 'anyone': 259, 'possibly': 3351, 'young': 4989, 'girl': 1909, 'study': 4242, 'boy': 557, 'gets': 1900, 'campy': 664, 'impression': 2252, 'bear': 420, 'played': 3297, 'make': 2713, 'bad': 382, 'enough': 1491, 'both': 547, 'whose': 4877, 'best': 469, 'naked': 2959, 'usual': 4699, 'woman': 4921, 'always': 203, 'director': 1264, 'doing': 1312, 'goes': 1930, 'marry': 2745, 'wont': 4932, 'bother': 548, 'mention': 2810, 'wedding': 4836, 'night': 3013, 'nine': 3017, 'totally': 4532, 'forgettable': 1794, 'songs': 4072, 'via': 4726, 'voice': 4761, 'presumably': 3380, 'look': 2646, 'inside': 2297, 'mind': 2849, 'irritating': 2359, 'promise': 3430, 'visuals': 4759, 'lovely': 2671, 'eye': 1611, 'balance': 387, 'problem': 3408, 'did': 1241, 'title': 4504, 'role': 3726, 'added': 116, 'top': 4525, 'whole': 4873, 'mess': 2818, 'hours': 2177, 'fifteen': 1706, 'sick': 3963, 'sorry': 4076, 'five': 1743, 'angela': 232, 'johnson': 2411, 'pamela': 3179, 'yes': 4982, 'shes': 3930, 'related': 3594, 'bruce': 602, 'killer': 2470, 'tricks': 4583, 'again': 146, 'camp': 662, 'rolling': 3730, 'hills': 2109, 'girls': 1911, 'nice': 3008, 'stay': 4166, 'away': 369, 'drugs': 1374, 'things': 4451, 'fine': 1729, 'line': 2610, 'kills': 2474, 'them': 4432, 'vicious': 4728, 'nasty': 2968, 'splatter': 4118, 'points': 3319, 'done': 1322, 'death': 1141, 'adds': 119, 'formula': 1802, 'plenty': 3307, 'gory': 1943, 'killings': 2473, 'alive': 186, 'heads': 2059, 'cut': 1089, 'gore': 1941, 'obviously': 3072, 'actually': 109, 'become': 433, 'comical': 894, 'also': 199, 'amount': 219, 'ive': 2372, 'ever': 1538, 'roles': 3727, 'expected': 1577, 'theres': 4440, 'gratuitous': 1961, 'female': 1693, 'nudity': 3059, 'provided': 3449, 'team': 4378, 'tony': 4521, 'sole': 4055, 'exception': 1557, 'lousy': 2667, 'slasher': 4020, 'standards': 4145, 'cruel': 1070, 'edge': 1418, 'character': 758, 'stupid': 4247, 'pointless': 3318, 'skip': 4016, 'besides': 468, 'dark': 1115, 'tried': 4584, 'portray': 3340, 'moral': 2902, 'fell': 1690, 'flat': 1748, 'message': 2819, 'redeeming': 3577, 'qualities': 3483, 'dont': 1324, 'italian': 2367, 'lovers': 2673, 'hate': 2046, 'since': 3990, 'because': 432, 'connection': 946, 'demons': 1178, 'iii': 2227, 'assume': 328, 'intended': 2315, 'part': 3193, 'series': 3890, 'cash': 709, 'popularity': 3334, 'american': 213, 'dvd': 1391, 'release': 3602, 'itself': 2371, 'says': 3801, 'past': 3207, 'white': 4870, 'lie': 2590, 'might': 2835, 'enjoyment': 1488, 'creep': 1051, 'stays': 4169, 'pretty': 3384, 'throughout': 4478, 'movies': 2927, 'slowly': 4032, 'expect': 1575, '10': 0, 'fans': 1650, 'miss': 2866, 'early': 1400, 'ten': 4399, 'unusual': 4681, 'thinking': 4453, 'going': 1931, 'classic': 835, 'hill': 2108, 'brilliant': 583, 'worth': 4953, 'macy': 2695, 'fantastic': 1651, 'watch': 4811, 'seemed': 3862, 'connect': 944, 'waiting': 4772, 'big': 478, 'writer': 4968, 'gone': 1935, 'deep': 1154, 'these': 4441, 'together': 4511, 'ill': 2228, 'clever': 841, 'strange': 4211, 'odd': 3080, 'rated': 3527, 'quality': 3484, 'moves': 2925, 'unlikely': 4671, 'unbelievable': 4634, 'unrealistic': 4677, 'ludicrous': 2685, 'revolves': 3682, 'british': 589, 'soldiers': 4054, 'rescue': 3643, 'third': 4455, 'soldier': 4053, 'captured': 677, 'indians': 2275, 'we': 4823, 'full': 1846, 'army': 295, 'order': 3126, 'indian': 2274, 'hand': 2015, 'incredibly': 2270, 'inept': 2281, 'hundreds': 2196, 'hold': 2129, 'prisoner': 3402, 'kill': 2468, 'course': 1019, 'point': 3316, 'throwing': 4480, 'stone': 4197, 'brain': 562, 'damage': 1099, 'cary': 706, 'grant': 1956, 'lies': 2591, 'floor': 1759, 'looking': 2648, 'actions': 101, 'back': 378, 'blows': 517, 'nowhere': 3056, 'sound': 4081, 'standing': 4146, 'high': 2100, 'wall': 4781, 'guys': 2001, 'shed': 3924, 'tear': 4379, 'keeps': 2451, 'notes': 3046, 'repeatedly': 3632, 'call': 651, 'breaks': 571, 'blowing': 515, 'hiding': 2099, 'behind': 447, 'anybody': 257, 'wanted': 4789, 'keaton': 2448, 'hired': 2117, 'enjoys': 1489, 'changing': 752, 'historical': 2119, 'events': 1536, 'our': 3139, 'those': 4460, 'bank': 394, 'go': 1924, 'started': 4157, 'shooting': 3943, 'yet': 4984, 'twice': 4613, 'number': 3060, 'officers': 3093, 'near': 2979, 'must': 2950, 'bloody': 513, 'ending': 1471, 'add': 115, 'blood': 512, 'guts': 1999, 'combined': 885, 'lead': 2545, 'actors': 104, 'several': 3905, 'different': 1248, 'why': 4878, 'complain': 919, 'guess': 1989, 'documentaries': 1306, 'north': 3036, 'reason': 3557, 'idea': 2213, 'handled': 2019, 'badly': 383, 'middle': 2833, 'everything': 1544, 'changes': 751, 'sense': 3877, 'clear': 839, 'nick': 3012, 'needs': 2990, 'excellent': 1555, 'bedroom': 437, 'terrible': 4407, 'enjoy': 1484, 'violence': 4747, 'disappointed': 1273, 'though': 4461, '80': 58, 'short': 3946, 'means': 2783, 'bothered': 549, 'fill': 1714, 'missing': 2869, 'spend': 4105, 'detailed': 1218, 'subject': 4253, 'takes': 4351, 'chose': 804, 'difficult': 1249, 'debut': 1143, 'worked': 4941, 'details': 1219, 'bring': 585, 'treatment': 4574, 'during': 1387, 'costumes': 1006, 'real': 3547, 'unlike': 4670, 'focuses': 1768, 'come': 886, 'given': 1913, 'performance': 3228, 'acted': 98, 'showing': 3958, 'plight': 3308, 'guilt': 1994, 'ridden': 3691, 'job': 2405, 'animation': 242, 'cgi': 740, 'looks': 2649, 'awesome': 371, 'kept': 2456, 'feeling': 1685, 'friendship': 1838, 'cute': 1090, 'powerful': 3360, 'really': 3556, 'sam': 3777, 'appearance': 274, 'suddenly': 4273, 'pops': 3332, 'helps': 2082, 'co': 867, 'leaves': 2556, 'bigger': 479, 'overall': 3150, 'wait': 4770, 'usa': 4691, 'version': 4720, 'silly': 3976, 'joe': 2407, 'children': 792, 'worse': 4951, 'captain': 674, 'ghosts': 1903, 'die': 1243, 'hard': 2033, 'michael': 2829, 'jackson': 2375, 'fan': 1648, 'yeah': 4977, 'thats': 4425, 'guy': 2000, 'hearing': 2063, 'wonderful': 4928, 'trip': 4588, 'heaven': 2068, 'afraid': 140, 'lower': 2677, 'grade': 1951, 'mike': 2838, 'hadnt': 2004, 'noise': 3024, 'utter': 4701, 'disappointment': 1275, 'cinematography': 820, 'nicely': 3009, 'lit': 2621, 'camera': 659, 'reasonable': 3558, 'direction': 1261, 'predictable': 3367, 'called': 652, 'market': 2740, 'recently': 3567, 'although': 201, 'factor': 1622, 'believable': 453, 'explain': 1586, 'certain': 737, 'went': 4847, 'ahead': 159, 'main': 2707, 'portrayed': 3342, 'emotion': 1458, 'recent': 3566, 'definitely': 1162, 'buying': 641, 'recommend': 3571, 'imagine': 2238, '12': 3, 'bored': 541, 'tired': 4501, 'scenario': 3808, 'occurred': 3077, 'turned': 4606, 'channels': 754, 'oh': 3096, 'word': 4937, 'worst': 4952, 'car': 680, 'stopped': 4202, 'whats': 4860, 'gonna': 1936, 'funny': 1852, 'stunts': 4246, 'cost': 1003, 'instance': 2304, 'baby': 376, 'small': 4033, 'child': 789, 'helicopter': 2076, 'viewer': 4738, 'placed': 3283, 'bridge': 578, 'low': 2676, 'budget': 610, 'bet': 470, 'glad': 1916, 'got': 1944, 'rex': 3683, 'reed': 3580, 'julia': 2427, 'specific': 4099, 'reminded': 3619, 'appeared': 276, 'helped': 2080, 'large': 2517, 'faces': 1618, 'literally': 2622, 'focus': 1766, 'extended': 1604, 'among': 217, 'dead': 1132, 'society': 4050, 'nobody': 3022, 'care': 684, 'light': 2595, 'period': 3236, 'circumstances': 822, 'ambitious': 211, 'theatrical': 4430, 'background': 380, 'tries': 4585, 'future': 1856, 'success': 4265, 'definition': 1163, 'video': 4733, 'perhaps': 3235, 'thrillers': 4473, 'technical': 4381, 'quite': 3495, 'youre': 4992, 'bath': 411, 'wise': 4903, 'clues': 865, 'easily': 1406, 'getting': 1901, 'somehow': 4063, 'weird': 4841, 'result': 3660, 'turkey': 4604, 'easy': 1410, 'decide': 1148, 'company': 910, 'goldberg': 1933, 'tough': 4537, 'police': 3322, 'cop': 991, 'pathetic': 3210, 'works': 4945, 'ridiculous': 3693, 'goofy': 1939, 'name': 2960, 'leave': 2555, 'hair': 2005, 'black': 493, 'complete': 921, 'sure': 4308, 'theyve': 4446, 'wearing': 4831, 'aint': 163, 'none': 3028, 'hat': 2045, 'find': 1726, 'fit': 1740, 'pants': 3182, 'tight': 4492, 'smoke': 4039, 'gun': 1996, 'times': 4497, 'cagney': 646, 'figure': 1711, 'pace': 3161, 'western': 4853, 'yourself': 4993, 'favor': 1670, 'forget': 1793, 'thought': 4462, 'horses': 2171, 'embarrassed': 1453, 'westerns': 4854, 'least': 2554, 'favorite': 1671, 'genre': 1888, 'level': 2584, 'kid': 2464, 'otherwise': 3137, 'therefore': 4439, 'true': 4596, 'comments': 901, 'appeal': 271, 'mentioned': 2811, 'editing': 1421, 'edited': 1420, 'somewhat': 4068, 'intriguing': 2335, 'became': 431, 'incomprehensible': 2267, 'let': 2579, 'experiments': 1584, 'choices': 798, 'exactly': 1551, 'apparently': 270, 'grand': 1953, 'plan': 3287, 'keeping': 2450, 'secrets': 3852, 'frequently': 1832, 'werent': 4849, 'theyd': 4443, 'hang': 2022, 'lack': 2502, 'playing': 3300, 'field': 1704, 'cheesy': 781, 'elements': 1443, 'rooms': 3736, 'anywhere': 263, 'entirely': 1503, 'sat': 3786, 'sit': 4003, 'pet': 3246, 'overly': 3155, 'wrong': 4973, 'action': 100, 'explore': 1594, 'emotions': 1461, 'occasionally': 3075, 'whether': 4866, 'giving': 1915, 'attention': 345, 'twists': 4619, 'guilty': 1995, 'may': 2775, 'expecting': 1578, 'entertaining': 1499, 'except': 1556, 'christmas': 810, 'eve': 1532, 'witnesses': 4916, 'parents': 3188, 'daddy': 1096, 'santa': 3783, 'suit': 4284, 'cuts': 1091, 'himself': 2111, 'normal': 3033, 'everyday': 1541, 'fact': 1621, 'obsessed': 3069, 'boss': 546, 'fun': 1848, 'insane': 2296, 'dressing': 1359, 'killing': 2472, 'non': 3027, 'believing': 457, 'neighborhood': 2993, 'catches': 715, 'theyre': 4445, 'drives': 1367, 'van': 4713, 'moon': 2900, 'paced': 3162, 'church': 813, 'hardly': 2036, 'held': 2074, 'place': 3282, 'solid': 4057, 'completely': 922, 'illogical': 2231, 'hero': 2088, 'dig': 1250, 'corny': 997, 'utterly': 4702, 'becomes': 434, 'famous': 1647, 'took': 4523, 'earlier': 1399, 'special': 4097, 'apparent': 269, 'starting': 4158, 'isnt': 2362, 'wasting': 4810, 'magic': 2703, 'fighting': 1709, 'crap': 1031, 'hilarious': 2106, 'villains': 4745, 'clichéd': 845, 'flaws': 1752, 'liners': 2611, 'public': 3460, 'others': 3136, 'curse': 1086, 'tracks': 4545, 'cell': 730, 'important': 2247, 'considered': 951, 'popular': 3333, 'japan': 2381, 'included': 2262, 'dressed': 1358, 'treated': 4573, 'material': 2766, 'politics': 3326, 'results': 3662, 'killed': 2469, 'political': 3324, 'dreams': 1355, 'turn': 4605, 'serial': 3889, 'birth': 486, 'mexico': 2827, 'nation': 2969, 'produced': 3414, 'town': 4541, 'keep': 2449, 'however': 2183, 'god': 1926, 'don': 1320, 'del': 1165, 'stealing': 4171, 'band': 391, 'men': 2805, 'winning': 4898, 'simply': 3986, 'adventure': 130, 'compare': 911, 'mark': 2739, 'power': 3359, 'super': 4295, 'highly': 2105, 'recommended': 3572, 'cage': 645, 'reviews': 3679, 'shouldnt': 3952, 'trust': 4598, 'havent': 2053, 'want': 4788, 'remake': 3612, 'basic': 406, 'extremely': 1610, 'intelligent': 2314, 'graphic': 1958, 'fall': 1637, 'under': 4639, 'remains': 3611, 'hoping': 2160, 'religious': 3608, 'everywhere': 1545, 'australia': 356, 'mother': 2911, 'sent': 3880, 'prison': 3401, 'spoil': 4121, 'need': 2987, 'caused': 724, 'buy': 640, 'rent': 3626, 'human': 2188, 'hatred': 2049, 'terrific': 4409, 'streep': 4215, 'accent': 78, 'native': 2972, 'born': 544, 'outstanding': 3147, 'supporting': 4304, 'describe': 1194, 'opinion': 3118, 'heck': 2071, 'blew': 505, 'disagree': 1269, 'wasnt': 4807, 'three': 4469, 'son': 4070, 'gave': 1875, 'anyway': 261, 'hyde': 2206, 'loved': 2670, 'body': 527, 'lee': 2559, 'pretend': 3381, 'carried': 698, 'weight': 4840, 'forgive': 1795, 'song': 4071, 'wouldnt': 4958, 'notice': 3048, 'length': 2569, 'youd': 4987, 'enjoying': 1487, 'huge': 2185, 'base': 402, 'sci': 3815, 'fi': 1701, 'futuristic': 1857, 'asian': 314, 'definite': 1161, 'corruption': 1002, 'force': 1786, 'holds': 2131, 'join': 2412, 'career': 686, 'agreed': 156, 'grew': 1972, 'lot': 2661, 'todays': 4509, 'generation': 1883, 'grown': 1984, 'realistic': 3550, 'consider': 949, 'inferior': 2285, 'product': 3418, 'beat': 423, 'tone': 4517, 'pay': 3216, 'class': 833, 'mass': 2753, 'mainstream': 2709, 'delivered': 1170, 'inspector': 2299, 'whom': 4875, 'hates': 2048, 'loves': 2674, 'dignity': 1252, 'natural': 2973, 'expressions': 1603, 'truly': 4597, 'discovery': 1282, 'promising': 3433, 'villain': 4744, 'forgotten': 1797, 'today': 4508, 'loud': 2664, '1st': 28, 'rebel': 3561, 'next': 3007, 'revealing': 3672, 'feelings': 1686, 'kudos': 2497, 'touch': 4533, 'won': 4925, 'national': 2970, 'awards': 367, 'feature': 1678, 'nostalgia': 3038, 'serious': 3891, 'ratings': 3530, 'absurd': 73, 'shocked': 3939, 'romantic': 3733, 'knowing': 2490, 'local': 2634, 'festival': 1697, 'positive': 3346, 'hell': 2077, 'bat': 410, 'written': 4972, 'twisted': 4618, 'follow': 1772, 'fashion': 1659, '90': 60, 'jack': 2373, 'loosely': 2651, 'inspired': 2301, 'mostly': 2910, 'dangerous': 1110, 'consists': 955, 'game': 1864, 'youll': 4988, 'occasion': 3073, 'whos': 4876, 'storyline': 4208, 'photography': 3260, 'ask': 316, 'wars': 4804, 'responsible': 3656, 'parent': 3187, 'speaking': 4095, 'pseudo': 3454, 'likely': 2601, 'alien': 183, 'wholly': 4874, 'flesh': 1753, 'invisible': 2344, 'adults': 126, 'afford': 138, 'possible': 3350, 'self': 3869, 'answers': 252, 'false': 1641, 'devils': 1229, 'ron': 3734, 'emphasis': 1463, 'former': 1800, 'format': 1799, 'jump': 2429, 'yellow': 4981, 'un': 4630, 'cold': 872, 'nights': 3016, 'forgot': 1796, 'darkness': 1117, 'tension': 4404, 'features': 1680, 'actresses': 106, 'blonde': 511, 'theme': 4433, 'create': 1036, 'slave': 4022, 'mistress': 2874, 'relationship': 3597, 'featured': 1679, 'lynch': 2691, 'scripted': 3835, 'parody': 3192, 'teachers': 4376, 'south': 4087, 'london': 2641, 'school': 3813, 'laughter': 2535, 'witty': 4917, 'sharp': 3922, 'superbly': 4297, 'cross': 1066, 'section': 3853, 'accurate': 90, 'following': 1774, 'protagonists': 3442, 'term': 4405, 'shy': 3962, 'flies': 1756, 'window': 4894, 'episode': 1507, 'arent': 288, 'disappoint': 1272, 'comedies': 889, 'producing': 3417, 'offended': 3085, 'viewers': 4739, 'year': 4978, 'performances': 3229, 'blame': 499, 'dimensional': 1253, 'asked': 317, 'present': 3374, 'controversial': 978, 'royal': 3746, 'rick': 3689, 'report': 3635, 'footage': 1782, 'wooden': 4934, 'oscar': 3133, 'winner': 4897, '2nd': 41, 'segment': 3867, 'terms': 4406, 'wish': 4904, 'id': 2212, 'spent': 4108, 'else': 1448, 'killers': 2471, 'directors': 1266, 'avoid': 363, 'plague': 3285, 'amateurish': 207, 'werewolf': 4850, 'elsewhere': 1449, 'hunt': 2198, '1980s': 21, 'teenage': 4389, 'myself': 2953, 'age': 148, 'honestly': 2147, 'somewhere': 4069, 'wound': 4960, 'staying': 4168, 'collection': 874, 'loaded': 2632, 'humor': 2192, 'towards': 4540, 'generations': 1884, 'accidentally': 85, 'telling': 4396, 'take': 4349, 'hear': 2061, 'saves': 3796, 'mouth': 2920, 'afterwards': 145, 'engaged': 1480, 'smart': 4035, 'dialogue': 1234, 'york': 4985, 'celebrity': 729, 'cameos': 658, 'enjoyable': 1485, 'border': 539, 'masterpiece': 2759, 'throw': 4479, 'regular': 3592, 'deserves': 1201, 'plain': 3286, 'references': 3583, 'primary': 3394, 'trailers': 4555, 'hearted': 2065, 'nevertheless': 3002, 'asleep': 320, 'dragged': 1343, 'understand': 4643, 'dogs': 1311, 'focused': 1767, 'poorly': 3329, 'train': 4556, 'person': 3238, 'banned': 395, 'wilson': 4891, 'waste': 4808, 'sum': 4289, 'falls': 1640, 'dies': 1245, 'fast': 1661, 'century': 736, 'messages': 2820, 'consequences': 947, 'technology': 4385, 'upon': 4684, 'specifically': 4100, 'presents': 3377, 'circle': 821, 'influenced': 2287, 'subsequent': 4257, 'civilization': 827, 'serves': 3895, 'tale': 4353, 'against': 147, 'familiar': 1643, 'themes': 4434, 'pop': 3330, 'serving': 3897, 'rather': 3528, 'ways': 4822, 'humanity': 2189, 'challenge': 743, 'development': 1225, 'free': 1827, 'choice': 797, 'destiny': 1212, 'indeed': 2271, 'throws': 4482, 'sometimes': 4067, 'tend': 4400, 'remain': 3609, 'continuity': 972, 'common': 906, 'nature': 2975, 'asks': 319, 'questions': 3489, 'effect': 1428, 'individuals': 2278, 'within': 4912, 'react': 3540, 'influence': 2286, 'projects': 3428, 'unique': 4662, 'asking': 318, 'laurel': 2537, 'hardy': 2037, '1940s': 13, 'hal': 2006, 'studios': 4241, 'agents': 151, 'able': 66, 'studio': 4240, 'offered': 3088, 'unfortunately': 4654, 'fox': 1814, 'mgm': 2828, 'french': 1830, 'boys': 559, 'talents': 4356, 'plus': 3311, 'older': 3101, 'taking': 4352, 'particularly': 3195, 'barely': 399, 'uncomfortable': 4637, 'laughing': 2533, 'antics': 255, 'particular': 3194, 'suffers': 4278, 'oddly': 3081, 'created': 1037, 'parallel': 3185, 'involving': 2349, 'reduced': 3579, 'foreign': 1790, '30s': 44, 'awfully': 373, 'suited': 4286, 'decent': 1147, 'cared': 685, 'obvious': 3071, 'using': 4698, 'unit': 4663, 'support': 4303, 'last': 2521, 'dreadful': 1353, 'sloppy': 4030, 'chase': 769, 'rank': 3518, 'zombie': 4997, 'willing': 4889, 'relative': 3599, 'amazing': 209, 'wanting': 4790, 'dancing': 1107, 'masters': 2761, 'post': 3352, 'ones': 3108, 'sadly': 3769, 'trouble': 4592, 'retired': 3664, 'sea': 3838, 'wonder': 4926, 'generally': 1881, 'imdb': 2240, 'reflect': 3584, 'reviewers': 3678, 'already': 197, 'bore': 540, 'certainly': 738, 'convince': 983, 'worthy': 4956, 'expectations': 1576, 'previous': 3387, 'march': 2734, 'review': 3676, 'radio': 3504, 'happens': 2029, 'friend': 1835, 'ended': 1470, 'winter': 4900, 'spring': 4134, 'river': 3707, 'cave': 727, 'began': 441, 'reviewer': 3677, 'station': 4164, 'soon': 4074, 'chair': 742, 'stephen': 4176, 'annoying': 249, 'identify': 2216, 'wears': 4832, 'facial': 1619, 'joy': 2422, 'question': 3487, 'presence': 3373, 'eaten': 1412, 'similarly': 3980, 'commentary': 899, 'adult': 125, 'tells': 4397, 'desperately': 1209, 'lacking': 2504, 'subtlety': 4261, 'jumping': 2431, 'jumps': 2432, 'threatening': 4468, 'days': 1130, 'admittedly': 123, 'thus': 4486, 'warning': 4800, 'concerns': 934, 'sleep': 4024, 'places': 3284, 'brief': 579, '40': 48, 'earth': 1403, 'author': 359, 'managed': 2723, 'incident': 2260, 'mans': 2730, 'surface': 4310, 'modern': 2882, 'day': 1129, 'portrays': 3344, 'sympathetic': 4342, 'broken': 594, 'depth': 1190, 'alfred': 181, 'leading': 2547, 'citizen': 824, 'print': 3399, 'source': 4086, 'rental': 3627, 'dvds': 1392, 'extras': 1608, 'featuring': 1681, 'color': 877, 'shape': 3919, 'clips': 852, 'singing': 3995, 'tour': 4538, 'mini': 2854, 'cool': 989, 'fx': 1858, 'genius': 1887, 'anne': 246, 'book': 535, 'intense': 2316, 'surprising': 4315, 'existence': 1571, 'continued': 970, 'rose': 3739, 'appear': 273, 'explained': 1587, 'rape': 3521, 'redemption': 3578, 'marie': 2737, 'greatest': 1966, 'pass': 3201, 'richard': 3686, 'beating': 425, 'hands': 2020, 'learn': 2550, 'husband': 2204, 'explaining': 1588, 'mediocre': 2791, 'due': 1382, 'richards': 3687, 'impossible': 2249, 'critical': 1062, 'shell': 3927, 'allow': 189, 'junk': 2436, 'downright': 1337, 'boot': 538, 'four': 1812, 'winds': 4895, 'catch': 714, 'sequence': 3887, 'dumb': 1385, 'fire': 1734, 'brian': 576, 'soccer': 4048, 'victoria': 4732, 'trademark': 4548, 'goal': 1925, 'across': 96, 'pitch': 3279, 'equivalent': 1512, 'ball': 388, 'baseball': 403, 'spectacular': 4101, 'cameo': 657, 'property': 3438, 'homage': 2141, 'plays': 3301, 'lesbian': 2573, 'gags': 1862, 'england': 1482, 'wants': 4791, 'gift': 1906, 'overcome': 3151, 'absence': 70, 'professional': 3421, 'womens': 4924, 'league': 2549, 'uk': 4626, 'hence': 2083, 'fashioned': 1660, 'daughters': 1122, 'engage': 1479, 'contact': 961, 'family': 1645, 'figures': 1713, 'ironic': 2355, 'fat': 1663, 'greek': 1970, 'growing': 1983, 'contains': 964, 'stunning': 4244, 'centered': 733, 'smooth': 4041, 'criminal': 1057, 'speed': 4103, 'easier': 1405, 'magical': 2704, 'gangster': 1868, 'sees': 3866, 'race': 3499, 'robot': 3717, 'space': 4090, 'drawn': 1351, 'compared': 912, 'kidnapped': 2466, 'tortured': 4530, 'beaten': 424, 'turns': 4609, 'bizarre': 492, 'prom': 3429, '1980': 20, 'flick': 1754, 'starred': 4153, 'jamie': 2379, 'curtis': 1087, 'leslie': 2574, 'donna': 1323, 'snow': 4045, 'friends': 1837, 'arrive': 300, 'hotel': 2175, 'supposed': 4306, 'haunted': 2050, 'pursuit': 3476, 'maintain': 2710, 'surprises': 4314, 'felt': 1692, 'dozens': 1339, 'boredom': 542, 'unless': 4669, 'teen': 4388, 'crowd': 1067, 'majority': 2712, 'simplistic': 3985, 'surprise': 4312, 'atmosphere': 333, 'hurts': 2203, 'sink': 3999, 'teeth': 4393, 'bland': 500, 'pg': 3250, '13': 4, 'saying': 3800, 'minimal': 2855, 'halloween': 2010, 'frightening': 1839, 'effective': 1429, 'scary': 3807, 'violent': 4748, 'tame': 4363, 'build': 614, 'begin': 442, 'mild': 2839, 'outcome': 3142, 'situations': 4009, 'correct': 1000, 'numbers': 3061, 'useless': 4695, 'filmed': 1717, 'fairly': 1631, 'stylish': 4251, 'scares': 3806, 'neat': 2982, 'experienced': 1581, 'performer': 3231, 'typical': 4623, 'anti': 254, 'climactic': 848, 'considering': 952, 'potential': 3355, 'lacked': 2503, 'advise': 134, 'till': 4493, 'entertainment': 1500, 'left': 2561, 'theater': 4427, '2006': 36, 'planet': 3289, 'childhood': 790, 'caught': 722, '2007': 37, 'jumped': 2430, 'basically': 407, 'row': 3744, 'isolated': 2363, 'amongst': 218, 'living': 2629, 'creatures': 1046, 'scope': 3821, 'painfully': 3172, 'filmmakers': 1720, 'humans': 2190, 'countless': 1012, 'glorious': 1921, 'animal': 239, 'plant': 3293, 'species': 4098, 'head': 2057, 'propaganda': 3435, 'ignored': 2225, 'altogether': 202, 'sight': 3969, 'breathtaking': 574, 'journey': 2421, 'experience': 1580, 'ran': 3513, 'deeper': 1155, 'scientific': 3817, 'decision': 1151, 'information': 2288, 'emotional': 1459, 'impact': 2244, 'link': 2613, 'individual': 2277, 'animals': 240, 'extent': 1605, 'appreciate': 279, 'side': 3965, 'hopeless': 2158, 'survival': 4320, 'tragedy': 4551, 'dramatic': 1348, 'struggles': 4235, 'ice': 2210, 'elephant': 1444, 'documentary': 1307, 'ballet': 389, 'younger': 4990, 'crucial': 1068, 'raw': 3532, 'instinct': 2308, 'efforts': 1433, 'haunting': 2051, 'bringing': 586, 'single': 3996, 'mid': 2832, 'shark': 3921, 'lion': 2614, 'aside': 315, 'including': 2264, 'birds': 485, 'dedicated': 1153, 'alone': 194, 'inevitable': 2282, 'quickly': 3491, 'closely': 855, 'whale': 4857, 'problems': 3409, 'fortunately': 1805, 'track': 4544, 'copy': 994, 'awe': 370, 'inspiring': 2302, 'magnificent': 2705, 'favourite': 1673, 'war': 4792, 'plausible': 3295, 'read': 3543, 'minds': 2852, 'books': 536, 'rarely': 3524, 'quiet': 3492, 'front': 1841, 'leaving': 2557, 'along': 195, 'finding': 1727, 'showed': 3956, 'shame': 3918, 'insult': 2309, 'monkeys': 2891, 'view': 4736, 'navy': 2976, 'defense': 1159, 'put': 3480, 'below': 462, 'bottom': 551, 'gene': 1879, 'needed': 2988, 'denzel': 1181, 'washington': 4806, 'crime': 1055, 'garbage': 1870, 'figured': 1712, 'pro': 3406, 'spin': 4112, 'opening': 3114, 'liberal': 2588, 'gothic': 1945, 'batman': 413, 'decades': 1145, 'tarzan': 4367, 'gorgeous': 1942, 'existent': 1572, 'latin': 2527, 'country': 1014, 'holding': 2130, 'tender': 4401, 'paul': 3214, 'ham': 2011, 'cheese': 780, 'absolute': 71, 'delight': 1167, 'cult': 1077, 'use': 4692, 'john': 2409, 'philip': 3252, 'prime': 3395, 'treat': 4572, 'wicked': 4879, 'heroes': 2089, 'pure': 3471, 'danes': 1108, 'delightful': 1168, 'fabulous': 1615, 'appropriate': 283, 'justice': 2438, 'ignore': 2224, 'atrocious': 335, 'relies': 3606, 'ex': 1549, 'matter': 2769, 'reach': 3536, 'peace': 3219, 'simple': 3983, 'designed': 1203, 'push': 3477, 'creators': 1044, 'coherent': 871, 'painful': 3171, 'group': 1980, 'crying': 1074, 'screaming': 3827, 'fool': 1779, 'driving': 1368, 'driver': 1366, 'bunch': 623, 'remotely': 3623, 'meant': 2784, 'teenagers': 4391, 'women': 4923, '30': 42, 'picked': 3266, 'abilities': 64, 'overdone': 3152, 'help': 2079, 'survived': 4322, 'detail': 1217, 'chased': 770, 'seat': 3845, 'brutally': 604, 'attacked': 338, 'hurt': 2202, 'whatever': 4859, 'filming': 1718, 'size': 4012, 'clearly': 840, 'pushed': 3478, 'horrendous': 2162, 'listening': 2620, 'accident': 84, 'gotta': 1946, 'soundtrack': 4085, 'rock': 3720, 'feels': 1687, 'road': 3709, 'horrible': 2163, 'costs': 1004, 'ok': 3098, 'rare': 3523, 'members': 2801, 'contrived': 976, 'stuck': 4237, 'write': 4967, 'proper': 3436, 'clichés': 846, 'nose': 3037, 'indie': 2276, 'higher': 2101, 'sunshine': 4294, 'wide': 4880, 'date': 1118, 'cliché': 844, 'approach': 282, 'trap': 4563, 'cliche': 843, 'falling': 1639, 'trapped': 4564, 'psycho': 3457, 'etc': 1527, 'late': 2523, '1970s': 17, 'compelled': 915, 'dull': 1384, 'confusing': 942, 'overlook': 3153, 'compelling': 916, 'whatsoever': 4861, 'countries': 1013, 'decade': 1144, 'stands': 4147, 'personally': 3243, 'dry': 1377, 'photographer': 3259, 'captures': 678, 'aliens': 184, 'shoot': 3942, 'model': 2880, 'destroying': 1215, 'evidence': 1546, 'meets': 2795, 'apartment': 265, 'knowledge': 2491, 'secret': 3849, 'spy': 4135, 'centers': 734, 'intrigue': 2333, 'vs': 4767, 'variety': 4714, 'element': 1442, 'replaced': 3634, 'chris': 806, 'carter': 703, 'shots': 3950, 'creepy': 1052, 'negative': 2991, 'nonetheless': 3029, 'ad': 110, 'scared': 3805, 'properly': 3437, 'messed': 2821, 'double': 1331, 'tomatoes': 4515, 'laugh': 2529, 'franchise': 1817, 'dated': 1119, 'desire': 1205, 'de': 1131, 'uses': 4697, 'premise': 3370, 'sort': 4077, 'slap': 4018, 'illegal': 2229, 'cup': 1080, 'hitler': 2124, 'narrative': 2966, 'government': 1948, 'include': 2261, 'media': 2789, 'paranoia': 3186, 'control': 977, 'selling': 3873, 'pack': 3165, 'thanks': 4423, 'fear': 1676, 'broke': 593, 'gag': 1861, 'somebody': 4062, 'please': 3304, 'dinner': 1254, 'evil': 1548, 'bell': 458, 'green': 1971, 'shelf': 3926, 'ago': 154, 'splendid': 4119, 'bomb': 531, 'buried': 624, 'dozen': 1338, 'maybe': 2776, 'core': 995, 'dollars': 1315, 'dentist': 1180, 'root': 3737, 'pain': 3170, 'demand': 1174, 'creator': 1043, 'madness': 2698, 'alex': 179, 'bone': 533, 'decides': 1150, 'boyfriend': 558, 'believes': 456, 'funeral': 1849, 'gay': 1876, 'closer': 856, 'pregnant': 3369, 'lover': 2672, 'grave': 1962, 'business': 633, 'explanation': 1590, 'knows': 2493, 'gender': 1878, 'nuts': 3064, 'artistic': 308, 'stereotypes': 4179, 'exaggerated': 1552, 'commercial': 902, 'bands': 392, 'larger': 2519, 'sold': 4052, 'vice': 4727, 'remembered': 3617, 'topic': 4526, 'spread': 4133, 'skills': 4014, 'obsession': 3070, 'check': 777, 'favorites': 1672, 'pulls': 3464, 'credits': 1050, 'roll': 3728, 'realize': 3552, 'until': 4680, 'intent': 2318, 'fitting': 1742, 'witnessed': 4915, 'doubts': 1333, 'rich': 3685, 'translation': 4562, 'language': 2516, 'novel': 3052, 'currently': 1085, 'requires': 3642, 'contemporary': 965, 'score': 3822, 'matched': 2763, 'repetitive': 3633, 'glass': 1917, 'executive': 1567, 'producer': 3415, 'wes': 4851, 'craven': 1034, 'metal': 2823, 'dracula': 1341, 'christopher': 811, 'count': 1010, 'corpse': 999, 'multi': 2935, 'racial': 3501, 'victims': 4730, 'lazy': 2543, 'seasons': 3844, 'season': 3843, 'donald': 1321, 'ego': 1435, 'fest': 1696, 'granted': 1957, 'working': 4944, 'fired': 1735, 'arrogant': 303, 'clint': 850, 'latest': 2526, 'average': 362, 'progresses': 3426, 'run': 3755, 'mill': 2845, 'ends': 1474, 'packed': 3166, 'meaningful': 2781, 'shocking': 3940, 'park': 3190, 'tape': 4365, 'idiot': 2218, 'hide': 2097, 'shake': 3914, '11': 2, 'sarah': 3785, 'terrorist': 4413, 'appalling': 268, 'stunt': 4245, 'advantage': 129, 'zombies': 4998, 'vampires': 4712, 'vampire': 4711, 'argue': 290, 'value': 4709, 'surprisingly': 4316, 'independent': 2272, 'scarecrow': 3804, 'smiling': 4037, 'cameras': 660, 'talk': 4358, 'daughter': 1121, 'suspect': 4327, 'calm': 655, 'jennifer': 2392, 'lessons': 2578, 'liking': 2604, 'appearing': 277, 'deliberately': 1166, 'polished': 3323, 'fred': 1825, 'ginger': 1908, 'slightly': 4029, 'casting': 711, 'minor': 2857, 'astaire': 330, 'rogers': 3725, 'dance': 1103, 'bright': 581, 'scott': 3824, 'chemistry': 782, 'miscast': 2862, 'sweet': 4336, 'likable': 2598, 'balls': 390, 'helen': 2075, 'kick': 2460, 'stage': 4139, 'door': 1328, 'eventually': 1537, 'harder': 2035, 'onto': 3111, 'face': 1616, 'executed': 1565, 'tears': 4380, 'deserve': 1199, 'recognition': 3568, 'putting': 3482, 'reputation': 3640, 'highlights': 2104, 'perform': 3227, 'brilliantly': 584, 'piano': 3264, 'endless': 1473, 'prefer': 3368, 'performed': 3230, 'dislike': 1288, 'quote': 3496, 'cliff': 847, 'funniest': 1851, 'seriously': 3892, 'scare': 3803, 'funnier': 1850, 'mystery': 2956, 'science': 3816, 'sin': 3988, '80s': 59, 'murder': 2939, 'innocent': 2294, 'bed': 436, 'attorney': 348, 'halfway': 2008, '90s': 61, 'turning': 4608, 'manner': 2729, 'respect': 3652, 'sidney': 3968, 'lumet': 2688, 'angry': 238, 'importance': 2246, '70s': 56, 'village': 4743, 'represent': 3637, 'aspects': 322, 'behavior': 446, 'drug': 1373, 'represented': 3638, 'stereotypical': 4180, 'house': 2178, 'fbi': 1675, 'agent': 150, 'dirty': 1268, 'hey': 2095, 'tied': 4489, 'cops': 993, 'dress': 1357, 'swear': 4334, 'kapoor': 2443, 'disappointing': 1274, 'cinemas': 817, 'weekend': 4838, 'week': 4837, 'directions': 1262, 'khan': 2459, 'jimmy': 2403, 'teach': 4374, 'gangsters': 1869, 'assistant': 326, '25': 40, 'determined': 1221, 'akshay': 169, 'faithful': 1634, 'hidden': 2096, 'eighties': 1437, 'traditional': 4550, 'act': 97, 'structure': 4233, 'handful': 2017, 'constructed': 959, 'desert': 1198, 'bullet': 620, 'horse': 2170, 'driven': 1365, 'sentimental': 3882, 'flashback': 1746, 'associated': 327, 'knew': 2486, 'mix': 2876, 'exotic': 1574, 'locations': 2636, 'fancy': 1649, 'frame': 1815, 'hollow': 2135, 'blend': 504, 'engaging': 1481, 'unable': 4631, 'feet': 1688, 'meanwhile': 2785, 'queen': 3485, 'delivery': 1173, 'delivers': 1172, 'meaning': 2780, 'dialogues': 1235, 'misery': 2865, 'test': 4416, 'cable': 644, '16': 8, 'wave': 4818, 'strictly': 4223, 'classical': 836, 'charismatic': 763, 'soft': 4051, 'manager': 2724, 'stole': 4194, 'jonathan': 2417, 'player': 3298, 'sympathy': 4343, 'lights': 2597, 'okay': 3099, 'limited': 2606, 'portrayal': 3341, 'britain': 588, 'youth': 4994, 'blow': 514, 'wonderfully': 4929, 'psychological': 3458, 'surprised': 4313, 'effort': 1432, 'consistent': 953, 'appreciated': 280, 'reminiscent': 3621, 'amazingly': 210, 'diane': 1238, 'developed': 1223, 'adam': 111, 'worried': 4949, 'flawed': 1750, 'open': 3112, 'minded': 2850, 'sky': 4017, 'fits': 1741, 'mood': 2898, 'enjoyed': 1486, 'jake': 2377, 'homer': 2144, 'cooper': 990, 'laid': 2508, 'aspect': 321, 'finished': 1733, 'watches': 4814, 'humour': 2194, 'note': 3044, 'quick': 3490, 'kitchen': 2485, 'hot': 2174, 'unintentional': 4658, 'break': 569, 'computer': 927, 'coming': 896, 'necessarily': 2983, 'laughed': 2532, 'seven': 3903, 'seconds': 3848, 'draw': 1349, 'judge': 2424, 'cat': 713, 'boom': 537, '3rd': 47, 'manages': 2725, 'endearing': 1469, 'suffer': 4275, 'gruesome': 1986, 'ideal': 2214, 'snl': 4044, 'lowest': 2678, 'mad': 2696, 'magazine': 2701, 'witch': 4909, 'stewart': 4184, 'wanna': 4786, 'tell': 4395, 'bin': 483, 'lol': 2640, 'difference': 1246, 'bears': 421, 'strong': 4229, 'resemblance': 3645, '15': 7, 'painting': 3175, '50': 51, 'record': 3573, 'artist': 307, 'recognized': 3570, 'speaks': 4096, 'artists': 309, 'bits': 490, 'trial': 4580, 'poignant': 3315, 'sexual': 3908, 'social': 4049, 'fascinating': 1658, 'remarkable': 3613, 'teenager': 4390, 'drawing': 1350, 'male': 2719, 'sexy': 3911, 'feminist': 1695, 'politically': 3325, 'painted': 3174, 'academy': 77, 'stuff': 4243, 'aged': 149, 'creative': 1041, 'dialog': 1232, 'subplots': 4256, 'moved': 2922, 'romance': 3732, 'disturbing': 1300, 'ashamed': 312, 'catherine': 719, 'heavily': 2069, 'lots': 2662, 'america': 212, 'ken': 2453, 'party': 3200, 'americans': 214, 'live': 2625, 'writers': 4969, 'choose': 799, '3000': 43, 'deaths': 1142, 'west': 4852, 'thousands': 4466, 'wake': 4774, 'states': 4163, 'equally': 1510, 'tragic': 4552, 'months': 2897, 'further': 1853, 'solution': 4059, 'george': 1893, 'bush': 632, 'revenge': 3675, 'fathers': 1667, 'built': 618, 'freedom': 1828, 'interest': 2323, 'wonders': 4931, 'drink': 1361, 'exact': 1550, 'university': 4667, 'audio': 354, 'areas': 287, 'improved': 2255, 'wow': 4962, 'roberts': 3714, 'cusack': 1088, 'walken': 4777, 'jones': 2418, 'hank': 2024, 'greedy': 1969, 'surely': 4309, 'cinematic': 818, 'unnecessary': 4672, 'americas': 215, 'lately': 2524, 'names': 2963, 'cruise': 1071, 'carry': 700, 'suck': 4269, 'rented': 3628, 'yesterday': 4983, 'hitting': 2126, 'button': 639, 'setting': 3900, 'global': 1920, 'combination': 883, 'issue': 2364, 'viewing': 4740, 'merit': 2816, 'renting': 3629, 'strongly': 4231, 'ticket': 4487, 'travesty': 4570, 'mistakes': 2873, 'closing': 859, 'demon': 1177, 'sticks': 4186, 'sign': 3970, 'terrifying': 4410, 'recorded': 3574, 'recall': 3562, 'ritter': 3705, 'lord': 2652, 'block': 508, 'fail': 1625, 'miserably': 2864, 'horrid': 2165, 'cake': 648, 'cares': 690, 'yelling': 4980, 'send': 3875, 'superman': 4301, 'guide': 1993, 'sequel': 3885, '24': 39, 'sequels': 3886, 'twenty': 4612, 'burn': 625, 'larry': 2520, 'ed': 1415, 'kenneth': 2455, 'mars': 2746, 'alan': 171, 'wolf': 4920, 'stinks': 4192, 'mel': 2796, 'brooks': 596, 'productions': 3420, 'claims': 830, 'homeless': 2143, 'month': 2896, 'accept': 80, 'ann': 244, 'warren': 4801, 'strike': 4224, 'learned': 2551, 'whilst': 4869, 'survive': 4321, 'win': 4892, 'pays': 3218, 'charles': 764, 'chaplin': 756, 'silent': 3975, 'backdrop': 379, 'imagined': 2239, 'locked': 2637, 'disgusting': 1286, 'belongs': 460, 'suggest': 4280, 'angels': 234, 'commit': 904, 'beautifully': 429, 'endure': 1475, 'matters': 2770, 'loses': 2657, 'streets': 4217, 'struggle': 4234, 'melting': 2799, 'pot': 3354, 'ready': 3546, 'sing': 3992, 'spanish': 4092, 'icon': 2211, 'weakest': 4825, 'fury': 1855, 'versions': 4721, 'fair': 1630, 'edition': 1422, 'european': 1530, 'nude': 3058, 'returning': 3667, 'form': 1798, 'pig': 3274, 'doc': 1303, 'attempts': 343, 'ultimately': 4628, 'price': 3389, 'battles': 415, 'according': 88, 'drunk': 1375, 'incoherent': 2265, 'spots': 4132, 'occasional': 3074, 'aka': 168, 'terror': 4412, 'mixed': 2877, 'clothing': 861, 'shirt': 3937, 'walking': 4779, 'running': 3756, 'miles': 2843, 'area': 286, 'closest': 857, 'relatives': 3601, 'recognize': 3569, 'thank': 4421, 'maria': 2736, 'texas': 4418, 'taylor': 4372, 'dean': 1139, 'dennis': 1179, 'hopper': 2161, 'boat': 523, 'makeup': 2717, 'displays': 1293, 'hudson': 2184, 'doll': 1313, 'provides': 3450, 'cardboard': 682, 'random': 3514, 'credit': 1049, 'racism': 3502, 'subjects': 4254, 'spare': 4093, 'complex': 923, 'hits': 2125, 'target': 4366, 'center': 732, 'wrestling': 4966, 'hunters': 2200, 'network': 3000, 'punishment': 3467, 'cry': 1073, 'arnold': 296, 'ben': 463, 'choreographed': 801, 'sequences': 3888, 'edward': 1426, 'focusing': 1769, 'colors': 879, 'spot': 4131, 'workers': 4943, 'movements': 2924, 'landscape': 2513, 'landscapes': 2514, 'cinematographer': 819, 'peter': 3247, 'capture': 676, 'essence': 1521, 'photos': 3261, 'purely': 3472, 'photo': 3257, 'shoots': 3944, 'factory': 1623, 'china': 795, 'construction': 960, 'site': 4005, 'massive': 2756, 'project': 3427, 'match': 2762, 'opens': 3115, 'chinese': 796, 'frankly': 1823, 'sounding': 4083, 'confused': 941, 'image': 2233, 'thousand': 4465, 'words': 4938, 'waters': 4817, 'headed': 2058, 'suitable': 4285, 'purpose': 3474, 'intellectual': 2312, 'cannot': 670, 'jerry': 2396, 'degree': 1164, 'realism': 3549, 'constant': 957, 'directly': 1263, 'bottle': 550, 'fantasy': 1652, 'wished': 4905, 'candy': 668, 'leads': 2548, 'embarrassing': 1454, 'happy': 2032, 'medium': 2792, 'mary': 2751, 'uncle': 4636, 'albert': 174, 'hilariously': 2107, 'unfunny': 4655, 'heres': 2087, 'kinda': 2477, 'worthless': 4954, 'outfit': 3144, 'cause': 723, 'follows': 1775, 'deliver': 1169, 'chaos': 755, 'theory': 4437, 'emotionally': 1460, 'attitude': 346, 'stronger': 4230, 'merely': 2815, 'agree': 155, 'excuse': 1564, 'faults': 1669, 'massacre': 2754, 'rating': 3529, 'nail': 2957, 'understandable': 4644, 'downhill': 1336, 'aforementioned': 139, 'stops': 4203, 'foul': 1810, 'highlight': 2103, 'regard': 3588, 'disappear': 1270, 'crocodile': 1065, 'grim': 1974, 'mainly': 2708, 'blown': 516, 'spoken': 4126, 'greater': 1965, 'devoid': 1230, 'bodies': 526, 'serve': 3893, 'provide': 3448, 'danger': 1109, 'loose': 2650, 'behave': 445, 'weapon': 4828, 'protect': 3443, 'drive': 1363, 'murders': 2943, 'committed': 905, 'appears': 278, 'victim': 4729, 'unintentionally': 4659, 'pointed': 3317, 'includes': 2263, 'punk': 3468, 'beginning': 443, 'classics': 837, 'friday': 1834, '13th': 5, 'contain': 962, 'surviving': 4323, 'lose': 2654, 'intensity': 2317, 'steps': 4177, 'statement': 4162, 'imagination': 2236, 'close': 853, 'offensive': 3086, 'brutal': 603, 'thoughts': 4464, 'separate': 3883, 'connected': 945, 'torture': 4529, 'secondly': 3847, 'crash': 1033, 'failure': 1629, 'troubled': 4593, 'pleasure': 3306, 'juvenile': 2441, 'beats': 426, 'horrific': 2166, 'ourselves': 3140, 'progress': 3425, 'universe': 4666, 'responsibility': 3655, 'prevent': 3385, 'creation': 1040, 'gross': 1978, 'monsters': 2893, 'types': 4622, 'attack': 337, 'taste': 4369, 'awkward': 374, 'rush': 3759, 'grab': 1949, 'prisoners': 3403, 'suicide': 4283, 'methods': 2825, 'sitting': 4007, 'instantly': 2306, 'crazy': 1035, 'laughable': 2530, 'general': 1880, 'ignorant': 2223, 'conceived': 929, 'hasnt': 2044, 'rules': 3754, 'creates': 1038, 'teacher': 4375, 'ireland': 2352, 'woods': 4935, 'teens': 4392, 'warned': 4798, 'mistake': 2871, 'major': 2711, 'display': 1291, 'skin': 4015, 'irish': 2353, 'thrown': 4481, 'hanging': 2023, 'torn': 4528, 'inventive': 2341, 'pulled': 3462, 'ass': 323, 'knife': 2487, 'em': 1452, 'speak': 4094, 'clip': 851, 'creature': 1045, 'faith': 1633, '75': 57, 'journalist': 2420, 'ian': 2209, 'seeking': 3859, 'deceased': 1146, 'card': 681, 'woody': 4936, 'allen': 188, 'murderer': 2941, 'hugh': 2186, 'drags': 1345, 'sid': 3964, 'investigation': 2343, 'outside': 3146, 'manhattan': 2726, 'fate': 1665, 'comedian': 887, 'supernatural': 4302, 'vote': 4766, 'brazil': 568, 'stupidity': 4248, 'achieve': 92, 'relief': 3605, 'childish': 791, 'naive': 2958, 'breaking': 570, 'princess': 3397, 'carradine': 695, 'fighter': 1708, 'rise': 3702, 'spiritual': 4116, 'experiences': 1582, 'musical': 2947, 'timothy': 4499, 'superb': 4296, 'climax': 849, 'satisfying': 3791, 'letting': 2583, 'credible': 1048, 'despair': 1207, 'resolution': 3649, 'evening': 1534, 'los': 2653, 'angeles': 233, 'walter': 4784, 'burning': 627, 'midnight': 2834, 'oil': 3097, 'continue': 969, 'revolutionary': 3681, 'basement': 405, 'escaped': 1518, 'lab': 2501, 'rats': 3531, 'rat': 3525, 'gary': 1873, 'frank': 1821, 'pick': 3265, 'douglas': 1334, 'grows': 1985, 'rate': 3526, 'six': 4010, 'food': 1778, 'unoriginal': 4673, 'scientist': 3818, 'monster': 2892, 'location': 2635, 'showdown': 3955, 'thankfully': 4422, 'desired': 1206, 'movement': 2923, 'various': 4715, 'lighting': 2596, 'hole': 2132, 'arm': 292, 'sub': 4252, 'standard': 4144, 'building': 615, 'values': 4710, 'babe': 375, 'suppose': 4305, 'invasion': 2340, 'crappy': 1032, 'tons': 4520, 'wear': 4830, 'causes': 725, 'carrying': 701, 'store': 4204, 'understanding': 4645, 'bare': 398, 'mine': 2853, 'directing': 1260, 'alexander': 180, 'powell': 3358, 'ingredients': 2289, 'june': 2433, 'wrote': 4974, 'vivid': 4760, 'charm': 767, 'stinker': 4191, 'ups': 4686, 'ugly': 4625, 'simon': 3982, 'le': 2544, 'tiger': 4491, 'videos': 4734, 'youve': 4995, 'saturday': 3792, 'afternoon': 144, 'epic': 1506, 'satan': 3787, 'angle': 236, 'jaw': 2384, 'dropping': 1371, 'trailer': 4554, 'sister': 4001, 'virgin': 4749, 'international': 2326, 'nightmares': 3015, '60s': 54, 'holiday': 2134, 'demented': 1176, 'lying': 2690, 'mom': 2885, 'bought': 552, 'research': 3644, 'noticed': 3049, 'eat': 1411, 'key': 2458, 'physical': 3262, 'mental': 2808, 'daniel': 1111, 'lewis': 2586, 'hoffman': 2128, 'ruthless': 3764, 'alas': 172, 'branagh': 564, 'hamlet': 2013, 'appearances': 275, 'lovable': 2668, 'displayed': 1292, 'frankenstein': 1822, 'priest': 3392, 'andrew': 228, 'peters': 3248, 'finest': 1730, 'offering': 3089, 'pair': 3176, 'craig': 1030, 'andrews': 229, 'nonsense': 3030, 'overacting': 3149, 'scottish': 3825, 'castle': 712, 'games': 1865, 'dreary': 1356, 'suggested': 4281, 'murdered': 2940, 'immediately': 2242, 'forward': 1808, 'cabin': 643, 'girlfriend': 1910, 'fears': 1677, 'spirit': 4113, 'neil': 2995, 'felix': 1689, 'latter': 2528, 'successfully': 4267, '1990s': 25, '1973': 19, 'clark': 832, 'semi': 3874, 'matthau': 2771, 'burns': 628, 'letter': 2581, 'finger': 1731, 'jobs': 2406, 'commercials': 903, 'flying': 1764, 'neither': 2996, 'enter': 1494, 'initial': 2290, 'program': 3424, 'neck': 2985, 'chest': 784, 'prove': 3445, 'rough': 3741, 'outer': 3143, 'glory': 1922, 'grasp': 1960, 'gradually': 1952, 'realizing': 3555, 'smith': 4038, 'health': 2060, 'involvement': 2347, 'narrator': 2967, '1996': 26, '100': 1, 'proved': 3446, 'spoof': 4127, 'touched': 4534, 'underlying': 4641, 'vision': 4754, 'fully': 1847, 'worry': 4950, 'gang': 1867, 'scooby': 3820, 'doo': 1325, 'anime': 243, 'clue': 864, 'attached': 336, 'sinatra': 3989, 'mouse': 2919, 'tom': 4514, 'mickey': 2831, 'captivating': 675, 'excitement': 1562, 'steals': 4172, 'dancers': 1105, '20th': 38, 'list': 2617, 'curious': 1083, 'host': 2173, 'matrix': 2767, 'resident': 3647, 'stargate': 4151, 'holes': 2133, 'tune': 4602, 'summer': 4291, 'korean': 2495, 'legend': 2564, 'quirky': 3493, 'unexpected': 4650, 'blockbuster': 509, 'dragon': 1344, 'critic': 1061, 'expert': 1585, 'accepted': 82, 'internet': 2327, 'pride': 3391, 'von': 4765, 'lena': 2568, 'reasons': 3560, 'nazis': 2978, 'press': 3379, 'berlin': 467, '17': 9, 'voices': 4763, 'changed': 750, 'adorable': 124, 'tonight': 4519, 'smile': 4036, 'legendary': 2565, 'persona': 3239, 'bumbling': 622, 'loser': 2655, 'mentioning': 2812, 'satire': 3788, 'breath': 573, 'celluloid': 731, 'audiences': 353, 'worker': 4942, 'severe': 3906, 'duty': 1390, 'mail': 2706, 'task': 4368, 'passing': 3204, 'passed': 3202, 'clumsy': 866, 'range': 3516, 'convincing': 985, 'frustration': 1843, 'drivel': 1364, 'rule': 3753, 'charisma': 762, 'judging': 2425, 'blank': 501, 'puts': 3481, 'secretary': 3850, 'checking': 778, 'ancient': 225, 'poetry': 3314, 'fooled': 1780, 'topless': 4527, 'kung': 2498, 'fu': 1844, 'kicking': 2462, 'germans': 1897, 'cameron': 661, 'mitchell': 2875, 'sword': 4340, 'breasts': 572, 'occurs': 3078, 'exploitation': 1592, 'martial': 2747, 'arts': 310, 'bar': 396, 'load': 2631, 'island': 2361, 'owner': 3159, 'strikes': 4225, 'destroyed': 1214, 'land': 2511, 'sacrifice': 3766, 'cartoon': 704, 'swedish': 4335, 'talked': 4359, 'education': 1424, 'nowadays': 3055, 'everybody': 1540, 'reminds': 3620, 'victor': 4731, 'vincent': 4746, 'shines': 3932, 'johnny': 2410, 'danny': 1112, 'visit': 4755, 'dying': 1393, 'italy': 2368, 'brother': 598, 'aunt': 355, 'develop': 1222, 'deserved': 1200, 'charming': 768, 'sheer': 3925, 'charge': 761, 'sun': 4292, 'empire': 1464, 'expressed': 1601, 'photographed': 3258, 'eyed': 1612, 'brains': 563, 'blade': 495, 'rubber': 3747, 'suits': 4287, 'meaningless': 2782, 'soul': 4079, 'wishes': 4906, 'miike': 2837, 'assumed': 329, 'luck': 2681, 'claim': 828, 'hong': 2149, 'kong': 2494, 'flicks': 1755, 'lees': 2560, 'thru': 4483, 'loss': 2659, 'cried': 1054, 'strength': 4219, 'minimum': 2856, 'namely': 2962, 'fiction': 1702, 'noir': 3023, 'houses': 2180, 'arrived': 301, 'sir': 4000, 'joan': 2404, 'reference': 3582, 'discuss': 1283, 'chain': 741, 'opposite': 3123, 'explosion': 1596, 'carefully': 689, 'gifted': 1907, 'accomplished': 87, 'irony': 2357, 'signed': 3971, 'account': 89, 'warn': 4797, 'dad': 1095, 'current': 1084, 'duo': 1386, 'estate': 1525, 'sleeping': 4025, 'psychic': 3456, 'ford': 1789, 'lucky': 2683, 'arrested': 298, 'table': 4346, 'officer': 3092, 'chases': 771, 'chasing': 772, 'unconvincing': 4638, 'motivation': 2914, 'groups': 1981, 'loyal': 2679, 'amusing': 221, 'wayne': 4821, 'meet': 2793, 'named': 2961, 'margaret': 2735, 'karen': 2444, 'sappy': 3784, 'genuine': 1891, 'superior': 4300, 'lasted': 2522, 'cynical': 1093, 'carl': 692, 'spirited': 4114, 'matches': 2764, 'suffering': 4277, 'editor': 1423, 'heights': 2073, 'witches': 4910, 'colorful': 878, 'lively': 2627, 'heroic': 2090, 'energy': 1478, 'veteran': 4724, 'brave': 567, 'honest': 2146, 'chicago': 785, 'newspaper': 3006, 'reporter': 3636, 'protagonist': 3441, 'fellow': 1691, 'unfortunate': 4653, 'kinds': 2478, 'threat': 4467, 'possessed': 3347, 'courage': 1018, 'surrounded': 4318, 'ruth': 3763, 'emily': 1456, 'carol': 693, 'likewise': 2603, 'eager': 1396, 'disappeared': 1271, 'resembles': 3646, 'laughably': 2531, 'wit': 4908, 'elvira': 1450, 'morgan': 2905, 'edie': 1419, 'flash': 1745, 'freeman': 1829, 'mario': 2738, 'bill': 481, 'joseph': 2419, 'morris': 2908, 'sullivan': 4288, 'kate': 2446, 'brown': 601, 'bond': 532, 'providing': 3451, 'humorous': 2193, 'remarks': 3615, 'vegas': 4717, 'proves': 3447, 'mansion': 2731, 'community': 908, 'conservative': 948, 'draws': 1352, 'bob': 524, 'carpenter': 694, 'eerie': 1427, 'fortune': 1806, 'aware': 368, 'visual': 4757, 'strip': 4228, 'sorts': 4078, 'madonna': 2699, 'throat': 4476, 'cg': 739, '2004': 34, 'animated': 241, 'trained': 4557, 'wandering': 4785, 'caring': 691, 'introduction': 2339, 'promised': 3431, 'execution': 1566, 'hunter': 2199, 'jackie': 2374, 'chan': 746, 'suspend': 4329, 'disbelief': 1277, 'awake': 365, 'complaint': 920, 'discovered': 1280, 'operation': 3117, 'convinced': 984, 'purposes': 3475, 'brad': 560, 'facts': 1624, 'ps': 3453, 'infamous': 2284, 'wood': 4933, 'calling': 653, 'ridiculously': 3694, 'jean': 2389, 'returns': 3668, 'luke': 2687, 'universal': 4665, 'fourth': 1813, 'kicks': 2463, 'explosions': 1597, 'mindless': 2851, 'enemy': 1477, 'logic': 2638, 'blue': 518, 'stereotype': 4178, 'finale': 1723, 'kiss': 2483, 'parties': 3196, 'reaching': 3539, 'stomach': 4196, 'repeat': 3630, 'described': 1195, 'guessing': 1991, 'marks': 2742, 'diana': 1237, 'ah': 158, 'summary': 4290, 'pleasant': 3302, 'millions': 2848, 'devoted': 1231, '2003': 33, 'shorts': 3948, 'prequel': 3372, 'machines': 2694, 'machine': 2693, 'east': 1407, 'nations': 2971, 'crisis': 1060, 'destruction': 1216, 'partly': 3197, 'united': 4664, 'designs': 1204, 'cities': 823, 'eg': 1434, 'mentions': 2813, 'broadcast': 591, 'medical': 2790, 'judy': 2426, 'naturally': 2974, 'raising': 3509, 'urban': 4688, 'kevin': 2457, 'eric': 1514, 'escapes': 1519, 'capturing': 679, 'event': 1535, 'reveals': 3673, 'huh': 2187, 'rage': 3505, 'alright': 198, 'sucks': 4271, 'damn': 1100, 'sexually': 3910, 'hardcore': 2034, 'lengthy': 2570, 'chick': 786, 'hated': 2047, 'design': 1202, 'props': 3439, 'military': 2844, 'impressed': 2251, 'kurt': 2499, 'russell': 3761, 'memorable': 2802, 'essentially': 1523, 'todd': 4510, 'essential': 1522, 'award': 366, 'iron': 2354, 'monkey': 2890, 'par': 3184, 'offer': 3087, 'sounded': 4082, 'sounds': 4084, 'ripped': 3701, 'steve': 4181, 'established': 1524, 'normally': 3034, 'martin': 2748, 'lawrence': 2539, 'bride': 577, 'fairy': 1632, 'genres': 1889, 'silver': 3977, 'pulling': 3463, 'pushing': 3479, 'necessary': 2984, 'exist': 1569, 'board': 522, 'return': 3665, 'comparing': 913, 'crude': 1069, 'needless': 2989, 'extreme': 1609, 'lacks': 2505, 'blatant': 502, 'williams': 4888, 'member': 2800, 'adaptation': 113, 'angel': 231, 'stayed': 4167, 'careful': 688, 'ellen': 1446, 'chosen': 805, 'incredible': 2269, 'praise': 3364, 'seek': 3858, '1968': 16, 'karloff': 2445, 'snake': 4042, '1972': 18, 'slightest': 4028, 'europe': 1529, 'remaining': 3610, 'toys': 4543, 'lucy': 2684, 'lived': 2626, 'tiny': 4500, 'beneath': 464, 'raymond': 3534, 'widmark': 4882, 'mayor': 2777, 'panic': 3181, 'performs': 3234, 'escape': 1517, 'regarding': 3589, 'ideas': 2215, 'discussion': 1284, 'thinks': 4454, 'inspiration': 2300, 'birthday': 487, 'confusion': 943, 'hospital': 2172, 'surrounding': 4319, 'anymore': 258, 'conspiracy': 956, 'happening': 2028, 'curiosity': 1082, 'elaborate': 1439, 'atmospheric': 334, 'conclusion': 936, 'shall': 3916, 'stanley': 4148, 'kubrick': 2496, 'hitchcock': 2123, 'honor': 2150, 'alternate': 200, 'jay': 2386, 'consistently': 954, 'ranks': 3519, 'buddy': 609, 'ride': 3692, 'pat': 3208, 'performers': 3232, 'prior': 3400, '1960s': 15, 'hearts': 2066, 'dating': 1120, 'brilliance': 582, 'daring': 1114, 'mighty': 2836, 'rangers': 3517, 'wouldve': 4959, 'choreography': 802, 'cartoons': 705, 'borrowed': 545, 'practice': 3363, 'longer': 2645, 'drag': 1342, 'physically': 3263, 'abusive': 75, 'regardless': 3590, 'elderly': 1440, 'drops': 1372, 'folk': 1770, 'freak': 1824, 'jerk': 2395, 'lily': 2605, 'dealt': 1138, 'graphics': 1959, 'channel': 753, 'affected': 137, 'foot': 1781, 'unforgettable': 4652, 'airport': 167, 'slick': 4026, 'rubbish': 3748, 'lemmon': 2567, 'pilot': 3276, 'claimed': 829, 'ships': 3935, 'raise': 3507, 'airplane': 166, 'ocean': 3079, 'plane': 3288, 'extra': 1606, 'flashbacks': 1747, 'proceedings': 3410, 'exciting': 1563, 'players': 3299, 'obnoxious': 3067, 'brenda': 575, 'conflicts': 940, 'christ': 807, 'passion': 3205, 'sincere': 3991, 'billy': 482, 'underrated': 4642, 'worlds': 4947, 'witness': 4914, 'christian': 808, 'appealing': 272, 'warrior': 4802, 'precious': 3366, 'paying': 3217, 'legs': 2566, 'motivations': 2915, 'ultra': 4629, 'experiment': 1583, 'families': 1644, 'shop': 3945, 'involve': 2345, 'eating': 1413, 'disney': 1289, 'folks': 1771, 'bugs': 613, 'backgrounds': 381, 'lesson': 2577, 'sensitive': 3879, 'intrigued': 2334, 'forever': 1792, 'industry': 2280, 'tends': 4402, 'uninteresting': 4660, 'luckily': 2682, 'gem': 1877, 'fault': 1668, 'guarantee': 1987, 'whoever': 4872, 'flawless': 1751, 'substance': 4258, 'scripts': 3836, '2001': 31, 'michelle': 2830, 'joey': 2408, 'mtv': 2933, 'notable': 3041, 'sisters': 4002, 'sudden': 4272, 'jesse': 2397, 'clean': 838, 'rushed': 3760, 'april': 284, '2002': 32, '14': 6, 'president': 3378, 'blind': 506, 'fictional': 1703, 'deals': 1137, 'kennedy': 2454, 'planned': 3290, 'investigate': 2342, 'dealing': 1136, 'plastic': 3294, 'dude': 1381, 'hung': 2197, 'nominated': 3025, 'mst3k': 2932, 'willis': 4890, 'terry': 4415, 'twelve': 4611, 'acts': 107, 'extraordinary': 1607, 'visually': 4758, 'enthusiasm': 1501, 'fresh': 1833, 'department': 1182, 'pitt': 3280, 'tribute': 4581, 'rendition': 3625, 'rights': 3697, 'contrast': 975, 'lesser': 2576, 'trail': 4553, 'cats': 721, 'code': 869, 'primarily': 3393, 'questionable': 3488, 'interpretation': 2328, 'opposed': 3122, 'harsh': 2040, 'randomly': 3515, 'ability': 65, 'reading': 3544, 'listen': 2619, 'era': 1513, 'access': 83, 'struck': 4232, 'mothers': 2912, 'possibility': 3349, 'tremendous': 4579, 'happiness': 2031, 'meeting': 2794, 'security': 3854, 'sides': 3967, 'screening': 3830, 'sandler': 3781, 'levels': 2585, 'adams': 112, 'disturbed': 1299, 'mentally': 2809, 'dramas': 1347, 'paris': 3189, 'lady': 2507, 'innovative': 2295, 'remind': 3618, 'views': 4742, 'toward': 4539, 'souls': 4080, 'jesus': 2399, 'campbell': 663, 'complicated': 925, 'spooky': 4128, 'jealous': 2388, 'farm': 1656, 'system': 4345, 'enterprise': 1495, 'assigned': 325, 'mission': 2870, 'equipment': 1511, 'shut': 3961, 'sophisticated': 4075, 'process': 3412, 'reaches': 3538, 'spite': 4117, 'trek': 4578, 'followed': 1773, 'noted': 3045, 'proud': 3444, 'tedious': 4387, 'shallow': 3917, 'amazed': 208, 'unknown': 4668, 'shock': 3938, 'wealthy': 4827, 'julie': 2428, 'eccentric': 1414, 'brothers': 599, 'ms': 2931, 'erotic': 1515, 'weve': 4856, 'discovers': 1281, 'bullets': 621, 'plots': 3310, 'logical': 2639, 'explains': 1589, 'million': 2847, 'fly': 1763, 'pink': 3277, 'chilling': 794, 'cannibal': 669, 'examples': 1554, 'maker': 2714, 'ryan': 3765, 'tim': 4494, 'robbins': 3712, 'novels': 3053, 'reads': 3545, 'depiction': 1185, 'poverty': 3357, 'bleak': 503, 'grey': 1973, 'nostalgic': 3039, '1930s': 11, 'golden': 1934, 'wind': 4893, 'gordon': 1940, 'complexity': 924, 'tie': 4488, 'tree': 4576, 'raped': 3522, 'steal': 4170, 'watchable': 4812, 'alcoholic': 177, 'barry': 401, 'genuinely': 1892, 'wannabe': 4787, 'moody': 2899, 'gripping': 1976, 'gritty': 1977, 'warm': 4794, 'interaction': 2322, 'neighbors': 2994, 'menacing': 2807, 'equal': 1509, 'petty': 3249, 'searching': 3842, 'rocky': 3723, 'imaginative': 2237, 'relatively': 3600, 'ages': 152, 'alongside': 196, 'practically': 3362, 'competition': 918, 'imagery': 2234, 'notch': 3043, 'guns': 1998, 'wet': 4855, 'morning': 2906, 'activities': 102, 'mundane': 2938, 'ensemble': 1492, 'elizabeth': 1445, 'mrs': 2930, 'scenery': 3810, 'hello': 2078, 'perspective': 3245, 'principal': 3398, 'jewish': 2401, 'detective': 1220, 'evident': 1547, 'destroy': 1213, 'cube': 1076, 'hopefully': 2157, 'category': 718, 'aging': 153, 'widow': 4883, 'handsome': 2021, 'attractive': 351, 'sons': 4073, 'drinking': 1362, 'ought': 3138, 'dare': 1113, 'amateur': 206, 'arms': 294, 'womans': 4922, 'husbands': 2205, 'issues': 2365, 'allows': 192, 'sexuality': 3909, 'vulnerable': 4768, 'sixties': 4011, 'mature': 2773, 'nicholson': 3011, 'explored': 1595, 'amanda': 205, 'forces': 1788, 'object': 3066, 'roger': 3724, 'empathy': 1462, 'tunes': 4603, 'warner': 4799, 'ground': 1979, 'depicts': 1186, 'paper': 3183, 'thrilling': 4474, 'effectively': 1430, 'bette': 471, 'davis': 1126, 'realise': 3548, 'dick': 1239, 'accents': 79, 'styles': 4250, 'superficial': 4298, 'viewed': 4737, 'allowing': 191, 'solely': 4056, 'stilted': 4190, 'mildred': 2841, 'manipulative': 2727, 'relationships': 3598, 'portraying': 3343, 'albeit': 173, 'condition': 937, 'howard': 2182, 'carries': 699, 'strangely': 4212, 'barbara': 397, 'directs': 1267, 'scores': 3823, 'hed': 2072, 'failing': 1627, 'dialogs': 1233, 'attempting': 342, 'darker': 1116, 'pie': 3271, 'rob': 3710, 'vhs': 4725, 'covers': 1024, 'successful': 4266, 'dubbing': 1380, 'shakespeare': 3915, 'marketing': 2741, 'frustrated': 1842, 'hippie': 2115, 'bitter': 491, 'psychotic': 3459, 'jail': 2376, 'screenwriter': 3833, 'relate': 3593, 'welcome': 4842, 'smoking': 4040, 'chicks': 787, 'sleazy': 4023, 'marvelous': 2750, 'showcase': 3954, 'faced': 1617, 'furthermore': 1854, 'hint': 2112, 'forest': 1791, 'notably': 3042, 'encounter': 1466, 'stretched': 4222, 'kane': 2442, 'differences': 1247, 'arrives': 302, 'comment': 898, 'gods': 1928, 'vaguely': 4706, 'costume': 1005, 'mexican': 2826, 'stevens': 4183, 'colonel': 876, 'uneven': 4649, 'understood': 4647, 'sadness': 3770, 'advice': 133, 'someones': 4065, 'disc': 1278, 'doomed': 1327, '18': 10, 'jane': 2380, 'crafted': 1029, 'refuses': 3587, 'ease': 1404, 'developing': 1224, 'warmth': 4796, 'immensely': 2243, 'singers': 3994, 'moore': 2901, 'alice': 182, 'brady': 561, 'ray': 3533, 'triumph': 4590, 'virus': 4752, 'louis': 2665, 'jon': 2416, 'voight': 4764, 'odds': 3082, 'traveling': 4568, 'landing': 2512, 'prince': 3396, 'et': 1526, 'tradition': 4549, 'text': 4419, 'trees': 4577, 'decisions': 1152, 'arthur': 305, 'bela': 450, 'lugosi': 2686, 'sends': 3876, 'solve': 4060, 'stretch': 4221, 'underground': 4640, 'angles': 237, 'techniques': 4384, 'square': 4136, 'round': 3742, 'hook': 2152, 'porn': 3336, 'unwatchable': 4682, 'threw': 4470, 'shower': 3957, 'burned': 626, 'orange': 3125, 'masterpieces': 2760, 'cars': 702, 'hire': 2116, 'implausible': 2245, 'generic': 1885, 'masterful': 2758, 'forbidden': 1785, 'restored': 3659, 'originally': 3131, 'stock': 4193, 'staged': 4140, 'available': 361, 'mistaken': 2872, 'horrors': 2169, 'picking': 3267, 'competent': 917, 'prepared': 3371, 'ha': 2002, 'singer': 3993, 'inane': 2258, 'credibility': 1047, 'screens': 3832, 'touches': 4535, 'contract': 973, 'stood': 4199, 'cinderella': 815, 'storytelling': 4209, 'craft': 1028, 'passes': 3203, 'chief': 788, 'winters': 4901, 'wild': 4885, 'artificial': 306, 'anthony': 253, 'realized': 3553, 'beloved': 461, 'henry': 2084, 'melodrama': 2797, 'realizes': 3554, 'picks': 3268, 'expression': 1602, 'hamilton': 2012, 'jungle': 2434, 'ape': 266, 'loads': 2633, 'facing': 1620, 'intentions': 2321, 'plans': 3292, 'succeed': 4262, 'southern': 4088, 'damon': 1101, 'red': 3576, 'murphy': 2944, 'eddie': 1416, 'homosexual': 2145, '1999': 27, 'annoyed': 248, 'description': 1197, 'portion': 3338, 'convey': 982, 'persons': 3244, 'succeeded': 4263, 'knock': 2488, 'buffs': 612, 'seventies': 3904, '3d': 46, 'walls': 4783, 'trick': 4582, 'dolph': 1317, 'miserable': 2863, 'overrated': 3156, 'toilet': 4512, 'whenever': 4863, 'walker': 4778, 'central': 735, 'samurai': 3779, 'ninja': 3018, 'whereas': 4865, 'kings': 2481, 'pages': 3168, 'brings': 587, 'advertising': 132, 'reactions': 3542, 'tongue': 4518, 'cheek': 779, 'trilogy': 4586, 'private': 3404, 'reveal': 3670, 'scream': 3826, 'path': 3209, 'teaching': 4377, 'thomas': 4458, 'taxi': 4371, 'shadows': 3913, 'page': 3167, 'horrifying': 2167, 'cuba': 1075, 'jr': 2423, 'kay': 2447, 'francis': 1818, 'stiff': 4187, 'dancer': 1104, 'drop': 1369, 'dream': 1354, 'position': 3345, 'limits': 2607, 'sneak': 4043, 'shortly': 3947, 'ladies': 2506, 'clown': 862, 'answer': 251, 'silence': 3974, 'roy': 3745, '1990': 24, 'wed': 4835, 'bag': 384, 'met': 2822, 'fare': 1655, 'niro': 3019, 'blond': 510, 'spielberg': 4110, '50s': 52, 'relation': 3595, 'highest': 2102, 'musicals': 2948, 'rain': 3506, 'beer': 439, 'unbelievably': 4635, 'paint': 3173, 'dropped': 1370, 'reasonably': 3559, 'mile': 2842, 'football': 1783, 'originality': 3130, 'moronic': 2907, 'pleasantly': 3303, 'ashley': 313, 'ultimate': 4627, 'entertain': 1497, 'anger': 235, 'firstly': 1737, 'opportunities': 3120, 'training': 4558, 'considerable': 950, 'achievement': 94, 'adding': 117, 'settle': 3902, 'adequate': 120, 'cutting': 1092, 'guessed': 1990, 'led': 2558, 'wreck': 4965, 'twin': 4615, 'september': 3884, 'command': 897, 'guard': 1988, 'phantom': 3251, 'falk': 1636, 'ned': 2986, 'losing': 2658, 'club': 863, 'friendly': 1836, 'waitress': 4773, 'miller': 2846, 'fay': 1674, 'sally': 3776, 'encounters': 1467, 'illness': 2230, 'abuse': 74, 'selfish': 3870, 'mafia': 2700, 'buddies': 608, 'rocket': 3721, 'slapstick': 4019, 'legal': 2563, 'criticism': 1063, 'acceptable': 81, 'involves': 2348, 'theaters': 4428, 'lyrics': 2692, 'stooges': 4200, 'timing': 4498, 'master': 2757, 'franco': 1820, 'elegant': 1441, 'user': 4696, 'surreal': 4317, 'interview': 2329, 'critics': 1064, 'jazz': 2387, 'receive': 3563, 'ho': 2127, 'buck': 605, 'abandoned': 62, 'concerning': 933, 'settings': 3901, 'integrity': 2311, 'allowed': 190, 'sidekick': 3966, 'corporate': 998, 'greed': 1968, 'scientists': 3819, 'edgar': 1417, 'poem': 3312, 'dolls': 1316, 'mysteries': 2954, 'popcorn': 3331, 'carrie': 697, 'uwe': 4703, 'atlantis': 332, 'shining': 3933, 'pokemon': 3320, 'toy': 4542, 'tales': 4357, 'quest': 3486, 'voiced': 4762, 'museum': 2945, 'wealth': 4826, 'paid': 3169, 'generated': 1882, 'achieved': 93, 'creativity': 1042, 'alike': 185, 'porno': 3337, '45': 50, 'india': 2273, 'desperation': 1210, 'argument': 291, 'doctors': 1305, 'patients': 3212, 'cure': 1081, 'patient': 3211, 'robinson': 3716, 'expensive': 1579, 'online': 3109, 'steel': 4173, 'jason': 2383, 'max': 2774, 'search': 3841, 'wins': 4899, 'dutch': 1389, 'mann': 2728, 'shelley': 3928, 'bull': 619, 'introduced': 2337, 'boxing': 556, 'offers': 3090, 'makers': 2715, 'spoke': 4125, 'handle': 2018, 'wondering': 4930, 'flop': 1760, 'personalities': 3241, 'myers': 2952, 'contained': 963, 'troubles': 4594, 'freddy': 1826, 'thoughtful': 4463, 'beliefs': 452, 'sinister': 3998, 'companion': 909, 'parker': 3191, 'rocks': 3722, 'bound': 553, 'belong': 459, 'exercise': 1568, 'touching': 4536, 'provoking': 3452, 'philosophical': 3253, 'occur': 3076, 'greatly': 1967, 'fisher': 1739, 'hart': 2041, 'molly': 2884, 'secretly': 3851, 'planning': 3291, 'elvis': 1451, 'phony': 3256, 'charlotte': 766, 'aired': 165, 'itll': 2369, 'revelation': 3674, 'prize': 3405, 'received': 3564, 'required': 3641, 'excited': 1561, 'undoubtedly': 4648, 'insight': 2298, 'arrival': 299, 'portrait': 3339, 'germany': 1898, 'pal': 3177, 'narration': 2965, 'dubbed': 1379, 'nearby': 2980, 'mob': 2879, 'kidding': 2465, 'develops': 1226, 'peoples': 3222, 'nightmare': 3014, 'device': 1227, 'jessica': 2398, 'causing': 726, 'rising': 3703, 'rotten': 3740, 'subtitles': 4259, 'corrupt': 1001, 'succeeds': 4264, 'shadow': 3912, 'depicting': 1184, 'measure': 2786, 'frequent': 1831, 'stranger': 4213, 'agrees': 157, 'smaller': 4034, 'timeless': 4496, 'ii': 2226, 'france': 1816, 'suffice': 4279, 'arguably': 289, 'method': 2824, 'punch': 3466, 'conversations': 981, 'possibilities': 3348, 'treasure': 4571, 'presentation': 3375, 'wondered': 4927, 'flynn': 1765, 'safe': 3771, 'matt': 2768, 'truck': 4595, 'capital': 673, 'gotten': 1947, 'resources': 3651, 'depression': 1189, 'godfather': 1927, 'distracting': 1297, '40s': 49, 'opinions': 3119, 'gadget': 1860, 'library': 2589, 'caliber': 649, 'upset': 4687, 'jaws': 2385, 'columbo': 881, 'irrelevant': 2358, 'ruin': 3750, 'lips': 2615, 'chances': 748, 'seagal': 3839, 'flight': 1757, 'scheme': 3812, 'careers': 687, 'weapons': 4829, 'dollar': 1314, 'distribution': 1298, 'dub': 1378, 'briefly': 580, 'bay': 416, 'remote': 3622, 'unbearable': 4633, 'memories': 2803, 'australian': 357, 'rachel': 3500, 'string': 4227, 'warming': 4795, 'dawn': 1127, 'vast': 4716, 'ears': 1402, 'rural': 3758, 'bud': 607, 'coffee': 870, 'loving': 2675, 'remarkably': 3614, 'spell': 4104, 'drew': 1360, 'reynolds': 3684, 'sucked': 4270, 'entertained': 1498, 'learning': 2552, 'der': 1191, 'gentle': 1890, 'status': 4165, 'relevant': 3604, 'risk': 3704, 'promises': 3432, 'switch': 4339, 'sunday': 4293, 'crack': 1027, 'andy': 230, 'colour': 880, 'upper': 4685, 'classes': 834, 'lay': 2542, 'notion': 3050, 'striking': 4226, 'kingdom': 2480, 'trade': 4547, 'skill': 4013, 'hanks': 2025, 'ya': 4976, 'wrap': 4963, 'spends': 4107, 'ghost': 1902, 'unsettling': 4679, 'bonus': 534, 'harris': 2038, 'racist': 3503, 'shine': 3931, 'dinosaurs': 1256, 'laws': 2540, 'wounded': 4961, 'hunting': 2201, 'counter': 1011, 'fed': 1682, 'theyll': 4444, 'defeat': 1157, 'manage': 2722, 'pile': 3275, 'cheating': 776, 'concert': 935, 'unreal': 4676, 'believed': 455, 'dire': 1257, 'countryside': 1015, 'suspenseful': 4331, 'hammer': 2014, 'chapter': 757, 'tense': 4403, 'authentic': 358, 'grow': 1982, 'cia': 814, 'purchase': 3469, 'urge': 4689, 'che': 773, 'rambo': 3511, 'virginia': 4750, 'conflict': 939, 'staring': 4152, 'laura': 2536, '1950s': 14, 'nelson': 2997, 'conversation': 980, 'benefit': 465, 'baker': 385, 'monk': 2889, 'catchy': 717, 'unpredictable': 4675, 'intentionally': 2320, 'hoped': 2156, 'mildly': 2840, 'capable': 672, 'satisfy': 3790, 'covered': 1023, 'spike': 4111, 'rid': 3690, 'riding': 3695, '70': 55, 'africa': 141, 'wwii': 4975, 'african': 142, 'nazi': 2977, 'analysis': 224, 'outrageous': 3145, 'norman': 3035, 'cleverly': 842, 'wizard': 4919, 'oz': 3160, 'shoes': 3941, 'excessive': 1560, 'vehicle': 4718, 'temple': 4398, 'unaware': 4632, 'daily': 1097, 'simmons': 3981, 'advance': 127, 'survivor': 4324, 'raised': 3508, 'generous': 1886, 'intention': 2319, 'returned': 3666, 'synopsis': 4344, 'bite': 489, 'stress': 4220, 'useful': 4694, 'attempted': 341, 'honesty': 2148, 'express': 1600, 'aimed': 162, 'butt': 638, 'accused': 91, 'rap': 3520, 'rabbit': 3498, 'wallace': 4782, 'couldve': 1009, 'segments': 3868, 'existed': 1570, 'blunt': 520, 'nomination': 3026, 'oscars': 3134, 'pleased': 3305, 'russian': 3762, 'vengeance': 4719, 'bold': 528, 'entry': 1504, 'appreciation': 281, 'describes': 1196, 'flow': 1762, 'apes': 267, 'burton': 630, 'uninspired': 4657, 'proof': 3434, 'strangers': 4214, 'largely': 2518, 'unseen': 4678, 'introduces': 2338, 'suspicious': 4332, 'gandhi': 1866, 'travel': 4567, 'businessman': 634, 'stellar': 4174, 'perfection': 3225, 'stones': 4198, 'linda': 2609, 'closed': 854, 'professor': 3422, 'matthew': 2772, 'foster': 1809, 'boll': 529, 'characterization': 759, 'broad': 590, 'mask': 2752, 'robots': 3718, 'pity': 3281, 'safety': 3772, 'olivier': 3103, 'confidence': 938, 'holly': 2136, 'jenny': 2393, 'copies': 992, 'overlooked': 3154, 'twilight': 4614, 'zone': 4999, 'understated': 4646, 'viewings': 4741, 'testament': 4417, 'enormous': 1490, 'joined': 2413, 'overwhelming': 3157, 'fights': 1710, 'florida': 1761, 'beach': 419, 'tracy': 4546, 'familys': 1646, 'exceptional': 1558, 'pacino': 3164, 'glenn': 1918, 'charlie': 765, 'beatty': 427, 'brooklyn': 595, 'brosnan': 597, 'ironically': 2356, 'noble': 3021, 'stale': 4141, 'trite': 4589, 'heat': 2067, 'fields': 1705, 'nancy': 2964, 'wrapped': 4964, 'humble': 2191, 'repeated': 3631, 'sellers': 3872, 'crush': 1072, 'wore': 4939, 'forth': 1804, 'glover': 1923, 'bergman': 466, 'subplot': 4255, 'memory': 2804, 'suspects': 4328, 'holmes': 2139, 'heroine': 2091, 'exposed': 1598, 'divorce': 1301, 'demands': 1175, 'kicked': 2461, 'blah': 496, 'titled': 4505, 'ethan': 1528, 'proceeds': 3411, 'directorial': 1265, 'deaf': 1134, 'vietnam': 4735, 'reel': 3581, 'per': 3223, 'preview': 3386, 'hooked': 2153, 'titanic': 4503, 'beings': 449, 'affect': 136, 'contrary': 974, 'struggling': 4236, 'diamond': 1236, 'spirits': 4115, 'misses': 2868, 'thugs': 4484, 'slaughter': 4021, 'montana': 2895, 'lincoln': 2608, 'dust': 1388, 'ties': 4490, 'anyways': 262, 'adventures': 131, 'oliver': 3102, 'dickens': 1240, 'worn': 4948, 'communist': 907, 'lonely': 2643, 'ensues': 1493, 'resist': 3648, 'adapted': 114, 'removed': 3624, 'bbc': 417, 'official': 3094, 'revolution': 3680, 'versus': 4722, 'attracted': 349, 'reunion': 3669, 'fix': 1744, 'descent': 1193, 'thumbs': 4485, 'neighbor': 2992, 'couples': 1017, 'california': 650, 'partner': 3198, 'spoiled': 4122, 'helping': 2081, 'louise': 2666, 'jeremy': 2394, 'distant': 1295, 'concerned': 932, 'emma': 1457, 'nicholas': 3010, 'initially': 2291, 'sadistic': 3768, 'saved': 3795, 'kim': 2475, 'childrens': 793, 'abc': 63, 'davies': 1125, 'paltrow': 3178, 'ordinary': 3128, '2005': 35, 'inevitably': 2283, 'transition': 4561, 'literature': 2623, 'caine': 647, 'wells': 4845, 'concern': 931, 'welles': 4844, 'comics': 895, 'drunken': 1376, 'senseless': 3878, 'eastern': 1408, 'thirty': 4456, 'cards': 683, 'wisdom': 4902, 'obscure': 3068, 'buildings': 616, 'dawson': 1128, 'patrick': 3213, 'ward': 4793, 'losers': 2656, 'valley': 4707, 'increasingly': 2268, 'nervous': 2999, 'montage': 2894, 'transformation': 4560, 'glimpse': 1919, 'cousin': 1021, 'cook': 988, 'builds': 617, 'pit': 3278, 'spain': 4091, 'thrills': 4475, 'melodramatic': 2798, 'similarities': 3979, 'savage': 3793, 'alcohol': 176, 'hints': 2113, 'enters': 1496, 'enemies': 1476, 'population': 3335, 'depressing': 1188, 'busy': 635, 'lloyd': 2630, 'hundred': 2195, 'fetched': 1698, 'scale': 3802, 'territory': 4411, 'split': 4120, 'retarded': 3663, 'cowboy': 1025, 'rings': 3699, 'con': 928, 'contest': 967, 'beast': 422, 'orders': 3127, 'disease': 1285, 'distance': 1294, 'nuclear': 3057, 'godzilla': 1929, 'transfer': 4559, '1983': 22, 'errors': 1516, 'warriors': 4803, 'convincingly': 986, 'hysterical': 2208, 'hopes': 2159, 'becoming': 435, 'steven': 4182, 'grandmother': 1955, 'justify': 2439, 'spending': 4106, 'motives': 2916, 'treats': 4575, 'exposure': 1599, 'cheated': 775, 'exists': 1573, 'schools': 3814, 'slight': 4027, 'imitation': 2241, 'digital': 1251, 'duke': 1383, 'burt': 629, 'basketball': 409, 'coach': 868, 'resulting': 3661, 'dorothy': 1330, 'impress': 2250, 'sutherland': 4333, 'simpson': 3987, 'gain': 1863, 'visible': 4753, 'iraq': 2351, 'armed': 293, 'represents': 3639, 'bacall': 377, 'combat': 882, 'jet': 2400, 'tap': 4364, 'neo': 2998, 'exploration': 1593, 'catholic': 720, 'relations': 3596, 'prostitute': 3440, 'web': 4833, 'buff': 611, 'valuable': 4708, 'vacation': 4704, 'fonda': 1777, 'distinct': 1296, 'stated': 4161, 'wishing': 4907, 'san': 3780, 'reached': 3537, 'ruins': 3752, 'leo': 2571, 'attend': 344, 'widely': 4881, 'waves': 4819, 'idiots': 2220, 'lou': 2663, 'fond': 1776, 'authority': 360, 'masses': 2755, 'aid': 160, 'doom': 1326, 'saga': 3773, 'thief': 4448, 'justin': 2440, 'mechanical': 2788, 'blues': 519, 'disneys': 1290, 'writes': 4970, 'household': 2179, 'junior': 2435, 'satisfied': 3789, 'sings': 3997, 'closet': 858, 'travels': 4569, 'profound': 3423, 'omen': 3104, 'trio': 4587, 'hideous': 2098, 'hollywoods': 2138, 'francisco': 1819, 'tad': 4347, 'inappropriate': 2259, 'numerous': 3062, 'garden': 1872, 'convoluted': 987, 'bus': 631, 'listed': 2618, 'website': 4834, 'improve': 2254, 'goodness': 1938, 'spider': 4109, 'technique': 4383, 'turner': 4607, 'blake': 498, 'depressed': 1187, 'maggie': 2702, 'everyones': 1543, 'hbo': 2055, 'poetic': 3313, 'philosophy': 3254, 'rolled': 3729, 'feed': 1683, 'priceless': 3390, 'talks': 4361, 'fascinated': 1657, 'thick': 4447, 'comfortable': 892, 'dear': 1140, 'attacks': 339, 'nyc': 3065, 'notorious': 3051, 'speech': 4102, 'dances': 1106, 'bollywood': 530, '1984': 23, 'bourne': 554, 'restaurant': 3658, 'tooth': 4524, 'unfolds': 4651, 'importantly': 2248, 'murderous': 2942, 'dynamic': 1394, 'kirk': 2482, 'hip': 2114, 'hop': 2154, 'purchased': 3470, 'exceptionally': 1559, 'taught': 4370, 'lane': 2515, 'fallen': 1638, 'cases': 708, 'doors': 1329, 'models': 2881, 'mummy': 2937, 'ear': 1397, 'educational': 1425, 'visits': 4756, 'accompanied': 86, '2000': 30, 'installment': 2303, 'blacks': 494, 'defend': 1158, 'criminals': 1058, 'defined': 1160, 'weeks': 4839, 'lust': 2689, 'catching': 716, 'album': 175, 'challenging': 744, 'titles': 4506, 'orson': 3132, 'eva': 1531, 'cox': 1026, 'lake': 2509, 'response': 3654, 'stiller': 4189, 'endings': 1472, 'explicit': 1591, 'hood': 2151, 'tag': 4348, '35': 45, 'pretending': 3382, 'bo': 521, 'terrorists': 4414, 'seeks': 3860, 'claire': 831, 'abysmal': 76, 'avoided': 364, 'bird': 484, 'pulp': 3465, 'bible': 477, 'morality': 2903, 'sheriff': 3929, 'swimming': 4338, 'nurse': 3063, 'quotes': 3497, 'brand': 565, 'newly': 3004, 'screams': 3828, 'abraham': 69, 'mall': 2720, 'resort': 3650, '1933': 12, 'ruby': 3749, 'chorus': 803, 'cd': 728, 'bathroom': 412, 'mate': 2765, 'perry': 3237, 'poster': 3353, 'soviet': 4089, 'mixture': 2878, 'georges': 1894, 'idiotic': 2219, 'storm': 4206, 'pool': 3327, 'st': 4137, 'performing': 3233, 'context': 968, 'acid': 95, 'forms': 1801, 'tall': 4362, 'attitudes': 347, 'tiresome': 4502, 'disjointed': 1287, 'sue': 4274, 'sentence': 3881, 'wives': 4918, 'floating': 1758, 'leonard': 2572, 'interviews': 2330, 'advanced': 128, 'civil': 826, 'delivering': 1171, 'brando': 566, 'earl': 1398, 'robbery': 3711, 'lone': 2642, 'faster': 1662, 'leg': 2562, 'bargain': 400, 'anna': 245, 'christians': 809, 'gundam': 1997, 'wing': 4896, 'innocence': 2293, 'ted': 4386, 'cole': 873, 'females': 1694, 'suggests': 4282, 'pan': 3180, 'union': 4661, 'surfing': 4311, 'flaw': 1749, 'conventional': 979, 'signs': 3973, 'betty': 474, 'solo': 4058, 'li': 2587, 'bakshi': 386, 'kissing': 2484, 'bucks': 606, 'menace': 2806, 'heston': 2094, 'twins': 4616, 'sport': 4129, 'unpleasant': 4674, 'riveting': 3708, 'miracle': 2860, 'bettie': 473, 'admire': 121, 'earned': 1401, 'aids': 161, 'bobby': 525, 'survivors': 4325, 'swim': 4337, 'commented': 900, 'bang': 393, 'harvey': 2042, 'passionate': 3206, 'eyre': 1614, 'rochester': 3719, 'dalton': 1098, 'psychiatrist': 3455, 'jeffrey': 2391, 'receives': 3565, 'sits': 4006, 'superhero': 4299, 'historically': 2120, 'meat': 2787, 'thrill': 4471, 'assault': 324, 'mere': 2814, 'dave': 1123, 'blob': 507, 'staff': 4138, 'potentially': 3356, 'chess': 783, 'instant': 2305, 'troops': 4591, 'amitabh': 216, 'gerard': 1895, 'butler': 637, 'scrooge': 3837, 'merits': 2817, 'nonsensical': 3031, 'mountains': 2918, 'fulci': 1845, 'wacky': 4769, 'lucas': 2680, 'wendy': 4846, 'stanwyck': 4149, 'symbolism': 4341, 'carrey': 696, 'giallo': 1904, 'unhappy': 4656, 'gray': 1963, 'seed': 3856, 'elm': 1447, 'incompetent': 2266, 'recording': 3575, 'quit': 3494, 'simplicity': 3984, 'amounts': 220, 'grinch': 1975, 'pearl': 3220, 'da': 1094, 'fever': 1699, 'championship': 745, 'gabriel': 1859, 'modesty': 2883, 'iran': 2350, 'polanski': 3321, 'paulie': 3215, 'richardson': 3688, 'sandra': 3782, 'shirley': 3936, 'marty': 2749, 'roman': 3731, 'eastwood': 1409, 'garbo': 1871, 'ramones': 3512, 'domino': 1319}\n"
     ]
    }
   ],
   "source": [
    "print(str(vocabulary))"
   ]
  },
  {
   "cell_type": "markdown",
   "metadata": {},
   "source": [
    "Once you have added the endpoint name to the Lambda function, click on **Save**. Your Lambda function is now up and running. Next we need to create a way for our web app to execute the Lambda function."
   ]
  },
  {
   "cell_type": "markdown",
   "metadata": {},
   "source": [
    "### Setting up API Gateway\n",
    "\n",
    "Now that our Lambda function is set up, it is time to create a new API using API Gateway that will trigger the Lambda function we have just created.\n",
    "\n",
    "Using AWS Console, navigate to **Amazon API Gateway** and then click on **Get started**.\n",
    "\n",
    "On the next page, make sure that **New API** is selected and give the new api a name, for example, `sentiment_analysis_web_app`. Then, click on **Create API**.\n",
    "\n",
    "Now we have created an API, however it doesn't currently do anything. What we want it to do is to trigger the Lambda function that we created earlier.\n",
    "\n",
    "Select the **Actions** dropdown menu and click **Create Method**. A new blank method will be created, select its dropdown menu and select **POST**, then click on the check mark beside it.\n",
    "\n",
    "For the integration point, make sure that **Lambda Function** is selected and click on the **Use Lambda Proxy integration**. This option makes sure that the data that is sent to the API is then sent directly to the Lambda function with no processing. It also means that the return value must be a proper response object as it will also not be processed by API Gateway.\n",
    "\n",
    "Type the name of the Lambda function you created earlier into the **Lambda Function** text entry box and then click on **Save**. Click on **OK** in the pop-up box that then appears, giving permission to API Gateway to invoke the Lambda function you created.\n",
    "\n",
    "The last step in creating the API Gateway is to select the **Actions** dropdown and click on **Deploy API**. You will need to create a new Deployment stage and name it anything you like, for example `prod`.\n",
    "\n",
    "You have now successfully set up a public API to access your SageMaker model. Make sure to copy or write down the URL provided to invoke your newly created public API as this will be needed in the next step. This URL can be found at the top of the page, highlighted in blue next to the text **Invoke URL**."
   ]
  },
  {
   "cell_type": "markdown",
   "metadata": {},
   "source": [
    "## Step 7: Deploying our web app\n",
    "\n",
    "Now that we have a publicly available API, we can start using it in a web app. For our purposes, we have provided a simple static html file which can make use of the public api you created earlier.\n",
    "\n",
    "In the `website` folder there should be a file called `index.html`. Download the file to your computer and open that file up in a text editor of your choice. There should be a line which contains **\\*\\*REPLACE WITH PUBLIC API URL\\*\\***. Replace this string with the url that you wrote down in the last step and then save the file.\n",
    "\n",
    "Now, if you open `index.html` on your local computer, your browser will behave as a local web server and you can use the provided site to interact with your SageMaker model.\n",
    "\n",
    "If you'd like to go further, you can host this html file anywhere you'd like, for example using github or hosting a static site on Amazon's S3. Once you have done this you can share the link with anyone you'd like and have them play with it too!\n",
    "\n",
    "> **Important Note** In order for the web app to communicate with the SageMaker endpoint, the endpoint has to actually be deployed and running. This means that you are paying for it. Make sure that the endpoint is running when you want to use the web app but that you shut it down when you don't need it, otherwise you will end up with a surprisingly large AWS bill."
   ]
  },
  {
   "cell_type": "markdown",
   "metadata": {},
   "source": [
    "### Delete the endpoint\n",
    "\n",
    "Remember to always shut down your endpoint if you are no longer using it. You are charged for the length of time that the endpoint is running so if you forget and leave it on you could end up with an unexpectedly large bill."
   ]
  },
  {
   "cell_type": "code",
   "execution_count": null,
   "metadata": {},
   "outputs": [],
   "source": [
    "xgb_predictor.delete_endpoint()"
   ]
  },
  {
   "cell_type": "markdown",
   "metadata": {},
   "source": [
    "## Optional: Clean up\n",
    "\n",
    "The default notebook instance on SageMaker doesn't have a lot of excess disk space available. As you continue to complete and execute notebooks you will eventually fill up this disk space, leading to errors which can be difficult to diagnose. Once you are completely finished using a notebook it is a good idea to remove the files that you created along the way. Of course, you can do this from the terminal or from the notebook hub if you would like. The cell below contains some commands to clean up the created files from within the notebook."
   ]
  },
  {
   "cell_type": "code",
   "execution_count": null,
   "metadata": {},
   "outputs": [],
   "source": [
    "# First we will remove all of the files contained in the data_dir directory\n",
    "!rm $data_dir/*\n",
    "\n",
    "# And then we delete the directory itself\n",
    "!rmdir $data_dir\n",
    "\n",
    "# Similarly we remove the files in the cache_dir directory and the directory itself\n",
    "!rm $cache_dir/*\n",
    "!rmdir $cache_dir"
   ]
  },
  {
   "cell_type": "code",
   "execution_count": null,
   "metadata": {},
   "outputs": [],
   "source": []
  }
 ],
 "metadata": {
  "kernelspec": {
   "display_name": "conda_python3",
   "language": "python",
   "name": "conda_python3"
  },
  "language_info": {
   "codemirror_mode": {
    "name": "ipython",
    "version": 3
   },
   "file_extension": ".py",
   "mimetype": "text/x-python",
   "name": "python",
   "nbconvert_exporter": "python",
   "pygments_lexer": "ipython3",
   "version": "3.6.5"
  }
 },
 "nbformat": 4,
 "nbformat_minor": 2
}
