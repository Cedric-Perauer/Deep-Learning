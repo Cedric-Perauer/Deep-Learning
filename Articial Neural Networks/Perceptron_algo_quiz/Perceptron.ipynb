{
 "cells": [
  {
   "cell_type": "code",
   "execution_count": 1,
   "metadata": {},
   "outputs": [],
   "source": [
    "import numpy as np\n",
    "import pandas as pd"
   ]
  },
  {
   "cell_type": "code",
   "execution_count": 63,
   "metadata": {},
   "outputs": [],
   "source": [
    "np.random.seed(42)\n",
    "\n",
    "def stepFunction(t):\n",
    "    if t >= 0:\n",
    "        return 1\n",
    "    return 0\n",
    "\n",
    "def prediction(X, W, b):\n",
    "    return stepFunction((np.matmul(X,W)+b)[0])\n",
    "\n",
    "# TODO: Fill in the code below to implement the perceptron trick.\n",
    "# The function should receive as inputs the data X, the labels y,\n",
    "# the weights W (as an array), and the bias b,\n",
    "# update the weights and bias W, b, according to the perceptron algorithm,\n",
    "# and return W and b.\n",
    "def perceptronStep(X, y, W, b, learn_rate = 0.01):\n",
    "    for i in range(len(X)):\n",
    "        y_hat = prediction(X[i],W,b)\n",
    "        if y[i]-y_hat == 1:\n",
    "            W[0] += X[i][0]*learn_rate\n",
    "            W[1] += X[i][1]*learn_rate\n",
    "            b += learn_rate\n",
    "        elif y[i]-y_hat == -1:\n",
    "            W[0] -= X[i][0]*learn_rate\n",
    "            W[1] -= X[i][1]*learn_rate\n",
    "            b -= learn_rate\n",
    "    return W, b\n",
    "    \n",
    "# This function runs the perceptron algorithm repeatedly on the dataset,\n",
    "# and returns a few of the boundary lines obtained in the iterations,\n",
    "# for plotting purposes.\n",
    "# Feel free to play with the learning rate and the num_epochs,\n",
    "# and see your results plotted below.\n",
    "def trainPerceptronAlgorithm(X, y, learn_rate = 0.01, num_epochs = 25):\n",
    "    x_min, x_max = min(X.T[0]), max(X.T[0])\n",
    "    y_min, y_max = min(X.T[1]), max(X.T[1])\n",
    "    W = np.array(np.random.rand(2,1))\n",
    "    print(W)\n",
    "    b = np.random.rand(1)[0] + x_max\n",
    "    print(b)\n",
    "    # These are the solution lines that get plotted below.\n",
    "    boundary_lines = []\n",
    "    for i in range(num_epochs):\n",
    "        # In each epoch, we apply the perceptron step.\n",
    "        W, b = perceptronStep(X, y, W, b, learn_rate)\n",
    "        boundary_lines.append((-W[0]/W[1], -b/W[1]))\n",
    "    return boundary_lines\n"
   ]
  },
  {
   "cell_type": "code",
   "execution_count": 64,
   "metadata": {},
   "outputs": [
    {
     "name": "stdout",
     "output_type": "stream",
     "text": [
      "[[0.37454012]\n",
      " [0.95071431]]\n",
      "1.731993941811405\n"
     ]
    }
   ],
   "source": [
    "data = pd.read_csv('data.csv')\n",
    "y = data.iloc[:,2]\n",
    "y = y.to_numpy()\n",
    "x = data.iloc[:,:-1]\n",
    "x = x.to_numpy()\n",
    "x_new = np.zeros((x.shape[0]+1,2))\n",
    "x_new[0][:] = [0.78051,-0.063669]\n",
    "x_new[1:][:] = x\n",
    "y_new = np.zeros(y.shape[0]+1)\n",
    "y_new[0] = 1\n",
    "y_new[1:] = y\n",
    "a = trainPerceptronAlgorithm(x_new,y_new,0.01,100)"
   ]
  },
  {
   "cell_type": "code",
   "execution_count": 65,
   "metadata": {},
   "outputs": [
    {
     "name": "stdout",
     "output_type": "stream",
     "text": [
      "(array([-0.71707002]), array([0.81368247]))\n"
     ]
    }
   ],
   "source": [
    "params = a[-1]\n",
    "print(params)"
   ]
  },
  {
   "cell_type": "code",
   "execution_count": 66,
   "metadata": {},
   "outputs": [
    {
     "name": "stdout",
     "output_type": "stream",
     "text": [
      "[[0.25400215 0.8593376 ]\n",
      " [0.60735274 0.60473543]\n",
      " [0.52173458 0.68548469]\n",
      " [0.6040829  0.51129404]\n",
      " [0.44853607 0.56087226]\n",
      " [0.61444456 0.73622456]\n",
      " [0.6162946  0.57545029]\n",
      " [0.49817883 0.58963394]\n",
      " [0.57305528 0.50545709]\n",
      " [0.64554389 0.63451535]\n",
      " [0.8076238  0.71574504]\n",
      " [0.72462954 0.57278279]\n",
      " [0.62979703 0.50803854]\n",
      " [0.48447562 0.52379974]\n",
      " [0.49424928 0.49016199]\n",
      " [0.51094985 0.66942232]\n",
      " [0.45828105 0.6599068 ]\n",
      " [0.59248071 0.63939143]\n",
      " [0.52895547 0.49503089]\n",
      " [0.57744375 0.53246912]\n",
      " [0.52155531 0.5249112 ]\n",
      " [0.59096052 0.45011363]\n",
      " [0.45774325 0.48824741]\n",
      " [0.741452   0.58384001]\n",
      " [0.31240033 0.54616515]\n",
      " [0.60023223 0.31425754]\n",
      " [0.70541206 0.40250735]\n",
      " [0.69588937 0.614631  ]\n",
      " [0.57519215 0.77355236]\n",
      " [0.42832187 0.60833512]\n",
      " [0.6738323  0.54923421]\n",
      " [0.524861   0.78847889]\n",
      " [0.66097524 0.41808211]\n",
      " [0.46628355 0.40501709]\n",
      " [0.63100171 0.56560492]\n",
      " [0.65789183 0.60830644]\n",
      " [0.33268624 0.47997242]\n",
      " [0.54012025 0.4822527 ]\n",
      " [0.42762631 0.57866994]\n",
      " [0.46597521 0.62673514]\n",
      " [0.54768534 0.53539476]\n",
      " [0.4226857  0.35539585]\n",
      " [0.58315163 0.72758387]\n",
      " [0.51096419 0.37149407]\n",
      " [0.74058435 0.7703657 ]\n",
      " [0.70430061 0.65822169]\n",
      " [0.48699971 0.49982809]\n",
      " [0.60940356 0.43978782]\n",
      " [0.61553451 0.6612047 ]\n",
      " [0.52866148 0.58492279]\n",
      " [0.41692762 0.09661245]\n",
      " [0.49620689 0.38914116]\n",
      " [0.20291091 0.33955577]\n",
      " [0.38031403 0.19266398]\n",
      " [0.32433237 0.46733048]\n",
      " [0.09661245 0.26286513]\n",
      " [0.29030023 0.2323538 ]\n",
      " [0.3305422  0.25454712]\n",
      " [0.24891095 0.39651264]\n",
      " [0.3013933  0.26383318]\n",
      " [0.45960046 0.42484408]\n",
      " [0.24738359 0.28137988]\n",
      " [0.32675607 0.37683624]\n",
      " [0.33740456 0.29367046]\n",
      " [0.24435755 0.40646557]\n",
      " [0.30629806 0.2685515 ]\n",
      " [0.38759229 0.37012446]\n",
      " [0.45970802 0.41051702]\n",
      " [0.25646887 0.56252869]\n",
      " [0.24156815 0.26210504]\n",
      " [0.30545192 0.11981683]\n",
      " [0.31764211 0.3772378 ]\n",
      " [0.33749061 0.15344025]\n",
      " [0.34060986 0.33564057]\n",
      " [0.35064167 0.40606401]\n",
      " [0.17090807 0.30563836]\n",
      " [0.2007597  0.36073085]\n",
      " [0.36844652 0.23698607]\n",
      " [0.24678842 0.41134882]\n",
      " [0.39107725 0.30038941]\n",
      " [0.40605684 0.28262041]\n",
      " [0.34104728 0.30063321]\n",
      " [0.30500734 0.28275665]\n",
      " [0.38950687 0.36245182]\n",
      " [0.48505645 0.48089027]\n",
      " [0.24015552 0.27697707]\n",
      " [0.37645619 0.42103644]\n",
      " [0.32516417 0.18993911]\n",
      " [0.26373279 0.34948002]\n",
      " [0.31855996 0.21809845]\n",
      " [0.32520003 0.1214159 ]\n",
      " [0.28857926 0.35300083]\n",
      " [0.2676695  0.3824509 ]\n",
      " [0.39071872 0.19015423]\n",
      " [0.2891816  0.27935057]\n",
      " [0.2613306  0.31072955]\n",
      " [0.28910272 0.29895527]\n",
      " [0.49418475 0.39784639]\n",
      " [0.20220101 0.19709547]\n",
      " [0.44143708 0.36652477]]\n"
     ]
    },
    {
     "data": {
      "text/plain": [
       "<matplotlib.collections.PathCollection at 0x7f1feda54a90>"
      ]
     },
     "execution_count": 66,
     "metadata": {},
     "output_type": "execute_result"
    },
    {
     "data": {
      "image/png": "[encoded data removed]",
      "text/plain": [
       "<Figure size 432x288 with 1 Axes>"
      ]
     },
     "metadata": {
      "needs_background": "light"
     },
     "output_type": "display_data"
    }
   ],
   "source": [
    "import matplotlib.pyplot as plt\n",
    "colors = [i for i in y_new]\n",
    "w1, w2 = params[0].item(),params[1].item()\n",
    "xs = x_new\n",
    "ys = xs *w1 + w2\n",
    "print(ys)\n",
    "plt.plot(xs,ys)\n",
    "plt.scatter(x_new[:,0],x_new[:,1],c=colors)"
   ]
  }
 ],
 "metadata": {
  "kernelspec": {
   "display_name": "Python 3",
   "language": "python",
   "name": "python3"
  },
  "language_info": {
   "codemirror_mode": {
    "name": "ipython",
    "version": 3
   },
   "file_extension": ".py",
   "mimetype": "text/x-python",
   "name": "python",
   "nbconvert_exporter": "python",
   "pygments_lexer": "ipython3",
   "version": "3.7.6"
  }
 },
 "nbformat": 4,
 "nbformat_minor": 4
}
